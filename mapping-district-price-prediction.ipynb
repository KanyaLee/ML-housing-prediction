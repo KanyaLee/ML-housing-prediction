{
 "cells": [
  {
   "cell_type": "markdown",
   "id": "0b85d671",
   "metadata": {},
   "source": [
    "# Mapping District for Price Prediction\n"
   ]
  },
  {
   "cell_type": "code",
   "execution_count": 20,
   "id": "26d34008",
   "metadata": {},
   "outputs": [
    {
     "data": {
      "text/plain": [
       "0   2008-10-01\n",
       "1   2009-01-01\n",
       "2   2009-04-01\n",
       "3   2009-07-01\n",
       "4   2009-10-01\n",
       "Name: date, dtype: datetime64[ns]"
      ]
     },
     "execution_count": 20,
     "metadata": {},
     "output_type": "execute_result"
    }
   ],
   "source": [
    "df['date'].head()"
   ]
  },
  {
   "cell_type": "code",
   "execution_count": 9,
   "id": "036f4e31",
   "metadata": {},
   "outputs": [
    {
     "name": "stderr",
     "output_type": "stream",
     "text": [
      "/Users/lynndalee/opt/anaconda3/lib/python3.9/site-packages/sklearn/base.py:450: UserWarning:\n",
      "\n",
      "X does not have valid feature names, but RandomForestRegressor was fitted with feature names\n",
      "\n",
      "/Users/lynndalee/opt/anaconda3/lib/python3.9/site-packages/sklearn/base.py:450: UserWarning:\n",
      "\n",
      "X does not have valid feature names, but RandomForestRegressor was fitted with feature names\n",
      "\n",
      "/Users/lynndalee/opt/anaconda3/lib/python3.9/site-packages/sklearn/base.py:450: UserWarning:\n",
      "\n",
      "X does not have valid feature names, but RandomForestRegressor was fitted with feature names\n",
      "\n",
      "/Users/lynndalee/opt/anaconda3/lib/python3.9/site-packages/sklearn/base.py:450: UserWarning:\n",
      "\n",
      "X does not have valid feature names, but RandomForestRegressor was fitted with feature names\n",
      "\n",
      "/Users/lynndalee/opt/anaconda3/lib/python3.9/site-packages/sklearn/base.py:450: UserWarning:\n",
      "\n",
      "X does not have valid feature names, but RandomForestRegressor was fitted with feature names\n",
      "\n",
      "/Users/lynndalee/opt/anaconda3/lib/python3.9/site-packages/sklearn/base.py:450: UserWarning:\n",
      "\n",
      "X does not have valid feature names, but RandomForestRegressor was fitted with feature names\n",
      "\n",
      "/Users/lynndalee/opt/anaconda3/lib/python3.9/site-packages/sklearn/base.py:450: UserWarning:\n",
      "\n",
      "X does not have valid feature names, but RandomForestRegressor was fitted with feature names\n",
      "\n",
      "/Users/lynndalee/opt/anaconda3/lib/python3.9/site-packages/sklearn/base.py:450: UserWarning:\n",
      "\n",
      "X does not have valid feature names, but RandomForestRegressor was fitted with feature names\n",
      "\n",
      "/Users/lynndalee/opt/anaconda3/lib/python3.9/site-packages/sklearn/base.py:450: UserWarning:\n",
      "\n",
      "X does not have valid feature names, but RandomForestRegressor was fitted with feature names\n",
      "\n",
      "/Users/lynndalee/opt/anaconda3/lib/python3.9/site-packages/sklearn/base.py:450: UserWarning:\n",
      "\n",
      "X does not have valid feature names, but RandomForestRegressor was fitted with feature names\n",
      "\n",
      "/Users/lynndalee/opt/anaconda3/lib/python3.9/site-packages/sklearn/base.py:450: UserWarning:\n",
      "\n",
      "X does not have valid feature names, but RandomForestRegressor was fitted with feature names\n",
      "\n",
      "/Users/lynndalee/opt/anaconda3/lib/python3.9/site-packages/sklearn/base.py:450: UserWarning:\n",
      "\n",
      "X does not have valid feature names, but RandomForestRegressor was fitted with feature names\n",
      "\n",
      "/Users/lynndalee/opt/anaconda3/lib/python3.9/site-packages/sklearn/base.py:450: UserWarning:\n",
      "\n",
      "X does not have valid feature names, but RandomForestRegressor was fitted with feature names\n",
      "\n",
      "/Users/lynndalee/opt/anaconda3/lib/python3.9/site-packages/sklearn/base.py:450: UserWarning:\n",
      "\n",
      "X does not have valid feature names, but RandomForestRegressor was fitted with feature names\n",
      "\n",
      "/Users/lynndalee/opt/anaconda3/lib/python3.9/site-packages/sklearn/base.py:450: UserWarning:\n",
      "\n",
      "X does not have valid feature names, but RandomForestRegressor was fitted with feature names\n",
      "\n",
      "/Users/lynndalee/opt/anaconda3/lib/python3.9/site-packages/sklearn/base.py:450: UserWarning:\n",
      "\n",
      "X does not have valid feature names, but RandomForestRegressor was fitted with feature names\n",
      "\n",
      "/Users/lynndalee/opt/anaconda3/lib/python3.9/site-packages/sklearn/base.py:450: UserWarning:\n",
      "\n",
      "X does not have valid feature names, but RandomForestRegressor was fitted with feature names\n",
      "\n",
      "/Users/lynndalee/opt/anaconda3/lib/python3.9/site-packages/sklearn/base.py:450: UserWarning:\n",
      "\n",
      "X does not have valid feature names, but RandomForestRegressor was fitted with feature names\n",
      "\n",
      "/Users/lynndalee/opt/anaconda3/lib/python3.9/site-packages/sklearn/base.py:450: UserWarning:\n",
      "\n",
      "X does not have valid feature names, but RandomForestRegressor was fitted with feature names\n",
      "\n",
      "/Users/lynndalee/opt/anaconda3/lib/python3.9/site-packages/sklearn/base.py:450: UserWarning:\n",
      "\n",
      "X does not have valid feature names, but RandomForestRegressor was fitted with feature names\n",
      "\n",
      "/Users/lynndalee/opt/anaconda3/lib/python3.9/site-packages/sklearn/base.py:450: UserWarning:\n",
      "\n",
      "X does not have valid feature names, but RandomForestRegressor was fitted with feature names\n",
      "\n",
      "/Users/lynndalee/opt/anaconda3/lib/python3.9/site-packages/sklearn/base.py:450: UserWarning:\n",
      "\n",
      "X does not have valid feature names, but RandomForestRegressor was fitted with feature names\n",
      "\n",
      "/Users/lynndalee/opt/anaconda3/lib/python3.9/site-packages/sklearn/base.py:450: UserWarning:\n",
      "\n",
      "X does not have valid feature names, but RandomForestRegressor was fitted with feature names\n",
      "\n",
      "/Users/lynndalee/opt/anaconda3/lib/python3.9/site-packages/sklearn/base.py:450: UserWarning:\n",
      "\n",
      "X does not have valid feature names, but RandomForestRegressor was fitted with feature names\n",
      "\n",
      "/Users/lynndalee/opt/anaconda3/lib/python3.9/site-packages/sklearn/base.py:450: UserWarning:\n",
      "\n",
      "X does not have valid feature names, but RandomForestRegressor was fitted with feature names\n",
      "\n",
      "/Users/lynndalee/opt/anaconda3/lib/python3.9/site-packages/sklearn/base.py:450: UserWarning:\n",
      "\n",
      "X does not have valid feature names, but RandomForestRegressor was fitted with feature names\n",
      "\n",
      "/Users/lynndalee/opt/anaconda3/lib/python3.9/site-packages/sklearn/base.py:450: UserWarning:\n",
      "\n",
      "X does not have valid feature names, but RandomForestRegressor was fitted with feature names\n",
      "\n",
      "/Users/lynndalee/opt/anaconda3/lib/python3.9/site-packages/sklearn/base.py:450: UserWarning:\n",
      "\n",
      "X does not have valid feature names, but RandomForestRegressor was fitted with feature names\n",
      "\n",
      "/Users/lynndalee/opt/anaconda3/lib/python3.9/site-packages/sklearn/base.py:450: UserWarning:\n",
      "\n",
      "X does not have valid feature names, but RandomForestRegressor was fitted with feature names\n",
      "\n",
      "/Users/lynndalee/opt/anaconda3/lib/python3.9/site-packages/sklearn/base.py:450: UserWarning:\n",
      "\n",
      "X does not have valid feature names, but RandomForestRegressor was fitted with feature names\n",
      "\n",
      "/Users/lynndalee/opt/anaconda3/lib/python3.9/site-packages/sklearn/base.py:450: UserWarning:\n",
      "\n",
      "X does not have valid feature names, but RandomForestRegressor was fitted with feature names\n",
      "\n",
      "/Users/lynndalee/opt/anaconda3/lib/python3.9/site-packages/sklearn/base.py:450: UserWarning:\n",
      "\n",
      "X does not have valid feature names, but RandomForestRegressor was fitted with feature names\n",
      "\n",
      "/Users/lynndalee/opt/anaconda3/lib/python3.9/site-packages/sklearn/base.py:450: UserWarning:\n",
      "\n",
      "X does not have valid feature names, but RandomForestRegressor was fitted with feature names\n",
      "\n",
      "/Users/lynndalee/opt/anaconda3/lib/python3.9/site-packages/sklearn/base.py:450: UserWarning:\n",
      "\n",
      "X does not have valid feature names, but RandomForestRegressor was fitted with feature names\n",
      "\n"
     ]
    },
    {
     "name": "stdout",
     "output_type": "stream",
     "text": [
      "Predicted price per sqm for district Bang Kapi in the next year: 71753.89\n",
      "Predicted price per sqm for district Bang Khae in the next year: 62305.83\n",
      "Predicted price per sqm for district Bang Khen in the next year: 36892.28\n",
      "Predicted price per sqm for district Bang Kho Laem in the next year: 64231.32\n",
      "Predicted price per sqm for district Bang Khun Thian in the next year: 58072.48\n",
      "Predicted price per sqm for district Bang Na in the next year: 72926.94\n",
      "Predicted price per sqm for district Watthana in the next year: 166675.6\n",
      "Predicted price per sqm for district Yan Nawa in the next year: 84304.97\n",
      "Predicted price per sqm for district Bang Phlat in the next year: 88924.97\n",
      "Predicted price per sqm for district Bang Rak in the next year: 313679.83\n",
      "Predicted price per sqm for district Bang Sue in the next year: 135668.0\n",
      "Predicted price per sqm for district Bangkok Noi in the next year: 64266.78\n",
      "Predicted price per sqm for district Bangkok Yai in the next year: 62500.0\n",
      "Predicted price per sqm for district Bueng Kum in the next year: 65722.66\n",
      "Predicted price per sqm for district Chatuchak in the next year: 60034.18\n",
      "Predicted price per sqm for district Chom Thong in the next year: 40281.36\n",
      "Predicted price per sqm for district Din Daeng in the next year: 68408.48\n",
      "Predicted price per sqm for district Don Mueang in the next year: 27500.58\n",
      "Predicted price per sqm for district Dusit in the next year: 99825.0\n",
      "Predicted price per sqm for district Huai Khwang in the next year: 53649.88\n",
      "Predicted price per sqm for district Khan Na Yao in the next year: 48005.72\n",
      "Predicted price per sqm for district Khlong San in the next year: 124006.2\n",
      "Predicted price per sqm for district Khlong Toei in the next year: 141882.55\n",
      "Predicted price per sqm for district Lak Si in the next year: 30301.19\n",
      "Predicted price per sqm for district Lat Krabang in the next year: 49526.07\n",
      "Predicted price per sqm for district Lat Phrao in the next year: 23473.34\n",
      "Predicted price per sqm for district Min Buri in the next year: 17979.0\n",
      "Predicted price per sqm for district Pathum Wan in the next year: 189730.88\n",
      "Predicted price per sqm for district Phasi Charoen in the next year: 77411.25\n",
      "Predicted price per sqm for district Phaya Thai in the next year: 107193.52\n",
      "Predicted price per sqm for district Phra Khanong in the next year: 91895.42\n",
      "Predicted price per sqm for district Pom Prap Sattru Phai in the next year: 198233.0\n",
      "Predicted price per sqm for district Prawet in the next year: 31715.93\n",
      "Predicted price per sqm for district Rat Burana in the next year: 68315.87\n",
      "Predicted price per sqm for district Ratchathewi in the next year: 168546.05\n",
      "Predicted price per sqm for district Sai Mai in the next year: 14409.16\n",
      "Predicted price per sqm for district Samphanthawong in the next year: 133607.96\n",
      "Predicted price per sqm for district Sathon in the next year: 86396.9\n",
      "Predicted price per sqm for district Suan Luang in the next year: 29754.67\n",
      "Predicted price per sqm for district Taling Chan in the next year: 72583.0\n",
      "Predicted price per sqm for district Thon Buri in the next year: 78751.87\n",
      "Predicted price per sqm for district Wang Thonglang in the next year: 40510.91\n"
     ]
    },
    {
     "name": "stderr",
     "output_type": "stream",
     "text": [
      "/Users/lynndalee/opt/anaconda3/lib/python3.9/site-packages/sklearn/base.py:450: UserWarning:\n",
      "\n",
      "X does not have valid feature names, but RandomForestRegressor was fitted with feature names\n",
      "\n",
      "/Users/lynndalee/opt/anaconda3/lib/python3.9/site-packages/sklearn/base.py:450: UserWarning:\n",
      "\n",
      "X does not have valid feature names, but RandomForestRegressor was fitted with feature names\n",
      "\n",
      "/Users/lynndalee/opt/anaconda3/lib/python3.9/site-packages/sklearn/base.py:450: UserWarning:\n",
      "\n",
      "X does not have valid feature names, but RandomForestRegressor was fitted with feature names\n",
      "\n",
      "/Users/lynndalee/opt/anaconda3/lib/python3.9/site-packages/sklearn/base.py:450: UserWarning:\n",
      "\n",
      "X does not have valid feature names, but RandomForestRegressor was fitted with feature names\n",
      "\n",
      "/Users/lynndalee/opt/anaconda3/lib/python3.9/site-packages/sklearn/base.py:450: UserWarning:\n",
      "\n",
      "X does not have valid feature names, but RandomForestRegressor was fitted with feature names\n",
      "\n",
      "/Users/lynndalee/opt/anaconda3/lib/python3.9/site-packages/sklearn/base.py:450: UserWarning:\n",
      "\n",
      "X does not have valid feature names, but RandomForestRegressor was fitted with feature names\n",
      "\n",
      "/Users/lynndalee/opt/anaconda3/lib/python3.9/site-packages/sklearn/base.py:450: UserWarning:\n",
      "\n",
      "X does not have valid feature names, but RandomForestRegressor was fitted with feature names\n",
      "\n",
      "/Users/lynndalee/opt/anaconda3/lib/python3.9/site-packages/sklearn/base.py:450: UserWarning:\n",
      "\n",
      "X does not have valid feature names, but RandomForestRegressor was fitted with feature names\n",
      "\n"
     ]
    }
   ],
   "source": [
    "#taken from another file\n",
    "\n",
    "import pandas as pd\n",
    "from sklearn.ensemble import RandomForestRegressor\n",
    "\n",
    "\n",
    "df['date_numeric'] = (df['date'] - df['date'].min())  / pd.Timedelta(1, unit='D')\n",
    "\n",
    "df['latitude'] = pd.to_numeric(df['latitude'], errors='coerce')\n",
    "df['longitude'] = pd.to_numeric(df['longitude'], errors='coerce')\n",
    "\n",
    "df = df.dropna()\n",
    "\n",
    "X = df[['latitude', 'longitude', 'date_numeric']]\n",
    "y = df['price_sqm']\n",
    "\n",
    "\n",
    "model = RandomForestRegressor(n_estimators=100)\n",
    "model.fit(X, y)\n",
    "\n",
    "# Make predictions for the entire dataset\n",
    "df['predicted_price_sqm'] = model.predict(X)\n",
    "\n",
    "# Make a prediction for the next year\n",
    "next_year = df['date'].max() + pd.DateOffset(years=1)\n",
    "next_year_numeric = (next_year - df['date'].min())  / pd.Timedelta(1, unit='D')\n",
    "\n",
    "# Make a prediction for each district\n",
    "districts = df['district'].unique()\n",
    "\n",
    "for district in districts:\n",
    "    district_data = df[df['district'] == district]\n",
    "    \n",
    "    # Use the mean latitude and longitude for the district\n",
    "    latitude = district_data['latitude'].mean()\n",
    "    longitude = district_data['longitude'].mean()\n",
    "    \n",
    "    predicted_price_next_year = model.predict([[latitude, longitude, next_year_numeric]])\n",
    "    \n",
    "    print(f\"Predicted price per sqm for district {district} in the next year: {predicted_price_next_year[0]}\")\n",
    "\n"
   ]
  },
  {
   "cell_type": "code",
   "execution_count": 22,
   "id": "d7f88cd0",
   "metadata": {},
   "outputs": [],
   "source": [
    "import numpy as np\n",
    "import plotly.express as px\n",
    "\n",
    "condominiums = df['name'].unique()\n",
    "predictions = []\n",
    "prediction_ranges = []\n",
    "\n",
    "for condominium in condominiums:\n",
    "    condominium_data = df[df['name'] == condominium]\n",
    "    \n",
    "    latitude = condominium_data['latitude'].mean()\n",
    "    longitude = condominium_data['longitude'].mean()\n",
    "\n",
    "    individual_tree_predictions = np.array([tree.predict([[latitude, longitude, next_year_numeric]]) for tree in model.estimators_])\n",
    "    predicted_price_next_year = individual_tree_predictions.mean()\n",
    "    prediction_std_dev = individual_tree_predictions.std()\n",
    "    \n",
    "    prediction_range = [predicted_price_next_year - prediction_std_dev, predicted_price_next_year + prediction_std_dev]\n",
    "    \n",
    "    predictions.append(predicted_price_next_year)\n",
    "    prediction_ranges.append(prediction_range)\n"
   ]
  },
  {
   "cell_type": "code",
   "execution_count": 23,
   "id": "2c9c5402",
   "metadata": {},
   "outputs": [
    {
     "data": {
      "application/vnd.plotly.v1+json": {
       "config": {
        "plotlyServerURL": "https://plot.ly"
       },
       "data": [
        {
         "coloraxis": "coloraxis",
         "customdata": [
          [
           "Bang Kapi",
           "101 Mansion"
          ],
          [
           "Watthana",
           "624 Condolette Ladprao"
          ],
          [
           "Watthana",
           "Adamas Ramkhamhaeng"
          ],
          [
           "Pathum Wan",
           "Aspire Ladprao 113"
          ],
          [
           "Bang Sue",
           "B.R. Condo"
          ],
          [
           "Khlong Toei",
           "Bangkapi Condotown"
          ],
          [
           "Watthana",
           "Bangkok Horizon Ramkhamhaeng"
          ],
          [
           "Watthana",
           "Bliz Condominium Bearing"
          ],
          [
           "Watthana",
           "Chewathai Ramkamhaeng"
          ],
          [
           "Watthana",
           "City Villa"
          ],
          [
           "Bang Kapi",
           "Condo U @ Huamak Station"
          ],
          [
           "Chatuchak",
           "D Condo Ramkhamhaeng"
          ],
          [
           "Bang Na",
           "D Condo Ramkhamhaeng 64"
          ],
          [
           "Bang Na",
           "Fak Khao Pode"
          ],
          [
           "Din Daeng",
           "Four Wings Residence"
          ],
          [
           "Din Daeng",
           "Garden Condo Huamark"
          ],
          [
           "Lat Phrao",
           "H.R. Residence"
          ],
          [
           "Suan Luang",
           "Happy Home"
          ],
          [
           "Huai Khwang",
           "Inspire Place ABAC-Rama IX"
          ],
          [
           "Suan Luang",
           "Le Celeste Rama 9-Srinakarin"
          ],
          [
           "Ratchathewi",
           "Lumpini Center Happyland"
          ],
          [
           "Chatuchak",
           "Lumpini Center Ladprao 111"
          ],
          [
           "Chatuchak",
           "Lumpini Center Nawamin"
          ],
          [
           "Bang Na",
           "Lumpini Ville Ramkhamhaeng 26"
          ],
          [
           "Watthana",
           "Lumpini Ville Ramkhamhaeng 44"
          ],
          [
           "Phaya Thai",
           "Niran City"
          ],
          [
           "Bang Kapi",
           "Plum Condo Ladprao 101"
          ],
          [
           "Watthana",
           "Prom Condominium"
          ],
          [
           "Khlong Toei",
           "Prompimarn"
          ],
          [
           "Lat Krabang",
           "Sukhapiban 3 Mansion"
          ],
          [
           "Don Mueang",
           "Supalai City Resort Ramkhamhaeng"
          ],
          [
           "Khlong San",
           "The Base Rama 9 - Ramkhamhaeng"
          ],
          [
           "Pathum Wan",
           "The Niche Citi Ladprao 130"
          ],
          [
           "Sathon",
           "The Niche ID Ladprao 130"
          ],
          [
           "Din Daeng",
           "The Wellington"
          ],
          [
           "Phaya Thai",
           "U Delight @ Huamak Station"
          ],
          [
           "Watthana",
           "Ussakan Place"
          ],
          [
           "Watthana",
           "Bangkhae City"
          ],
          [
           "Watthana",
           "Fuse Sense' Bangkae"
          ],
          [
           "Khlong Toei",
           "Lumpini Condo Town Bangkhae"
          ],
          [
           "Watthana",
           "Plum Condo Bangkae"
          ],
          [
           "Bang Kapi",
           "The Parkland Phetkasem"
          ],
          [
           "Lak Si",
           "Baan Suan Bangkhen"
          ],
          [
           "Khlong Toei",
           "Casa de Sansara"
          ],
          [
           "Huai Khwang",
           "D Condo Ramindra"
          ],
          [
           "Bang Sue",
           "Indra Mansion"
          ],
          [
           "Thon Buri",
           "Lumpini Condo Town Ramindra - Latplakhao"
          ],
          [
           "Chom Thong",
           "Lumpini Condo Town Ramintra - Laksi"
          ],
          [
           "Wang Thonglang",
           "Lumpini Place Ramindra-Laksi"
          ],
          [
           "Chatuchak",
           "Lumpini Ville Ramintra-Laksi"
          ],
          [
           "Pathum Wan",
           "Regent Home 1 Phaholyothin 67"
          ],
          [
           "Phaya Thai",
           "Regent Home 11 Phaholyothin 67/1"
          ],
          [
           "Bang Kho Laem",
           "Regent Home 15 Changwattana"
          ],
          [
           "Bang Kho Laem",
           "Regent Home 16 Phaholyotin 67"
          ],
          [
           "Watthana",
           "Regent Home 3"
          ],
          [
           "Phra Khanong",
           "Silk Place"
          ],
          [
           "Bang Kapi",
           "Smart Condo Watcharapol"
          ],
          [
           "Chatuchak",
           "We Condo Ekkamai-Ramindra"
          ],
          [
           "Wang Thonglang",
           "August Condo Charoenkrung 80"
          ],
          [
           "Bang Kho Laem",
           "Aumnuayrak Condominium"
          ],
          [
           "Bueng Kum",
           "Baan Charoenkrung"
          ],
          [
           "Sai Mai",
           "Canapaya Residences"
          ],
          [
           "Phaya Thai",
           "Charoenkrung Place"
          ],
          [
           "Ratchathewi",
           "Chatrium"
          ],
          [
           "Ratchathewi",
           "Lumpini Place Rama III-Charoen Krung"
          ],
          [
           "Yan Nawa",
           "Lumpini Place Rama III-Riverview"
          ],
          [
           "Pathum Wan",
           "Menam Residences"
          ],
          [
           "Bueng Kum",
           "River Heaven"
          ],
          [
           "Sathon",
           "Star View"
          ],
          [
           "Sathon",
           "Supalai Casa Riva"
          ],
          [
           "Phra Khanong",
           "Supalai Lite Sathorn - Charoenrat"
          ],
          [
           "Chatuchak",
           "Than Living Sathorn - Charoenrat"
          ],
          [
           "Pathum Wan",
           "Smart Condo @ Rama 2"
          ],
          [
           "Wang Thonglang",
           "Tangduan Condominium"
          ],
          [
           "Pathum Wan",
           "@ City"
          ],
          [
           "Chatuchak",
           "@ City Sukhumvit 101/1"
          ],
          [
           "Watthana",
           "Abstracts Sukhumvit 66/1"
          ],
          [
           "Khlong San",
           "Bangna Complex"
          ],
          [
           "Watthana",
           "Bangna Place"
          ],
          [
           "Pathum Wan",
           "Bangna Residence"
          ],
          [
           "Sathon",
           "Beyond Sukhumvit"
          ],
          [
           "Sathon",
           "Cassia"
          ],
          [
           "Bang Rak",
           "Centric Scene Sukhumvit 64"
          ],
          [
           "Khlong Toei",
           "City Home Srinakarin"
          ],
          [
           "Sathon",
           "City Home Sukhumvit"
          ],
          [
           "Bang Khen",
           "Country Complex"
          ],
          [
           "Don Mueang",
           "Ideo Blucove Sukhumvit"
          ],
          [
           "Chatuchak",
           "Ideo Mix Sukhumvit 103"
          ],
          [
           "Chom Thong",
           "Ideo Mobi Sukhumvit Eastgate"
          ],
          [
           "Dusit",
           "KnightsBridge"
          ],
          [
           "Suan Luang",
           "La Salle Condominium"
          ],
          [
           "Pathum Wan",
           "La Salle Park"
          ],
          [
           "Lat Phrao",
           "Lumpini Ville Lasalle-Barring"
          ],
          [
           "Chatuchak",
           "Majestique"
          ],
          [
           "Ratchathewi",
           "Metro Sky Sukhumvit"
          ],
          [
           "Bang Phlat",
           "My Condo Sukhumvit 103"
          ],
          [
           "Bang Kapi",
           "Notting Hill"
          ],
          [
           "Bang Khae",
           "Regent Home 7 Sukhumvit"
          ],
          [
           "Bangkok Noi",
           "S&S Sukhumvit"
          ],
          [
           "Chatuchak",
           "Sense Sukhumvit"
          ],
          [
           "Watthana",
           "Sunshine Condominium"
          ],
          [
           "Chatuchak",
           "Lenice Ekamai"
          ],
          [
           "Yan Nawa",
           "Life @ Sukhumvit"
          ],
          [
           "Sathon",
           "Life @ Sukhumvit 67"
          ],
          [
           "Phasi Charoen",
           "Liv@49"
          ],
          [
           "Phasi Charoen",
           "Lumpini Suite Sukhumvit 41"
          ],
          [
           "Bang Kapi",
           "M Thonglor 10"
          ],
          [
           "Thon Buri",
           "MARQUE Sukhumvit"
          ],
          [
           "Bangkok Noi",
           "MODE Sukhumvit 61"
          ],
          [
           "Bang Phlat",
           "Maestro 39"
          ],
          [
           "Samphanthawong",
           "Mirage Sukhumvit 27"
          ],
          [
           "Bang Na",
           "Modern Town"
          ],
          [
           "Bang Na",
           "Noble BE19"
          ],
          [
           "Bang Na",
           "Noble Ora"
          ],
          [
           "Sathon",
           "Noble Recole"
          ],
          [
           "Bang Phlat",
           "Noble Remix"
          ],
          [
           "Phaya Thai",
           "Noble Reveal"
          ],
          [
           "Wang Thonglang",
           "Noble Solo"
          ],
          [
           "Watthana",
           "Nusasiri Grand"
          ],
          [
           "Huai Khwang",
           "Plus 67"
          ],
          [
           "Yan Nawa",
           "Q. House Condo Sukhumvit 79"
          ],
          [
           "Ratchathewi",
           "Quattro by Sansiri"
          ],
          [
           "Chatuchak",
           "Rende Sukhumvit 23"
          ],
          [
           "Khan Na Yao",
           "Royce Private Residences"
          ],
          [
           "Watthana",
           "SOCIO Reference 61"
          ],
          [
           "Bang Na",
           "Siamese Exclusive Sukhumvit 31"
          ],
          [
           "Bang Kapi",
           "Siamese Gioia"
          ],
          [
           "Suan Luang",
           "Siamese Thirty Nine"
          ],
          [
           "Watthana",
           "Siri at Sukhumvit"
          ],
          [
           "Pom Prap Sattru Phai",
           "Sky Walk Condominium"
          ],
          [
           "Wang Thonglang",
           "Sukhumvit City Resort"
          ],
          [
           "Din Daeng",
           "Sukhumvit Living Town"
          ],
          [
           "Chatuchak",
           "Supalai Premier Place Asoke"
          ],
          [
           "Yan Nawa",
           "TELA Thonglor"
          ],
          [
           "Khlong Toei",
           "Tai Ping Towers"
          ],
          [
           "Chatuchak",
           "Ten Ekamai"
          ],
          [
           "Huai Khwang",
           "The 49 Plus 2"
          ],
          [
           "Pathum Wan",
           "The Address Sukhumvit 61"
          ],
          [
           "Bang Kho Laem",
           "The Alcove 49"
          ],
          [
           "Din Daeng",
           "The Alcove Thonglor 10"
          ],
          [
           "Thon Buri",
           "The Amethyst Sukhumvit 39"
          ],
          [
           "Thon Buri",
           "The Bangkok Sukhumvit 43"
          ],
          [
           "Phra Khanong",
           "The Bangkok Sukhumvit 61"
          ],
          [
           "Bang Khen",
           "The Base Park East Sukhumvit 77"
          ],
          [
           "Bang Na",
           "The Base Park West Sukhumvit 77"
          ],
          [
           "Watthana",
           "The Base Sukhumvit 77"
          ],
          [
           "Phaya Thai",
           "The Bloom Sukhumvit 71"
          ],
          [
           "Phaya Thai",
           "The Cadogan Private Residence"
          ],
          [
           "Huai Khwang",
           "The Clover"
          ],
          [
           "Din Daeng",
           "The Crest Sukhumvit 34"
          ],
          [
           "Sathon",
           "The Crest Sukhumvit 49"
          ],
          [
           "Phaya Thai",
           "The Diplomat 39"
          ],
          [
           "Phaya Thai",
           "The ESSE Asoke"
          ],
          [
           "Bang Sue",
           "The Height"
          ],
          [
           "Bang Na",
           "The Lofts Ekkamai"
          ],
          [
           "Phaya Thai",
           "The Madison"
          ],
          [
           "Chatuchak",
           "The Master Centrium Asoke-Sukhumvit"
          ],
          [
           "Chom Thong",
           "The Niche Sukhumvit 49"
          ],
          [
           "Khan Na Yao",
           "The Oleander"
          ],
          [
           "Pathum Wan",
           "The Peak Sukhumvit 15"
          ],
          [
           "Rat Burana",
           "The Prime 11"
          ],
          [
           "Chatuchak",
           "The Rise Sukhumvit 39"
          ],
          [
           "Bang Kho Laem",
           "The Room Sukhumvit 21"
          ],
          [
           "Chatuchak",
           "The Room Sukhumvit 69"
          ],
          [
           "Phaya Thai",
           "The Room Sukhumvit 79"
          ],
          [
           "Phaya Thai",
           "The Trendy Condominium"
          ],
          [
           "Phaya Thai",
           "The XXXIX by Sansiri"
          ],
          [
           "Chatuchak",
           "Tidy Thonglor"
          ],
          [
           "Huai Khwang",
           "Town Sukhumvit 71"
          ],
          [
           "Din Daeng",
           "Up Ekamai"
          ],
          [
           "Din Daeng",
           "Urbana Sukhumvit 15"
          ],
          [
           "Huai Khwang",
           "Via 31"
          ],
          [
           "Huai Khwang",
           "Via 49"
          ],
          [
           "Chatuchak",
           "Via Botani"
          ],
          [
           "Phra Khanong",
           "Villa Sikhara"
          ],
          [
           "Chatuchak",
           "Vincente Sukhumvit 49"
          ],
          [
           "Phra Khanong",
           "Vista Garden"
          ],
          [
           "Bang Kho Laem",
           "Voque Sukhumvit 31"
          ],
          [
           "Bang Sue",
           "W 8 Thonglor 25"
          ],
          [
           "Bang Kapi",
           "WYNE Sukhumvit"
          ],
          [
           "Ratchathewi",
           "Wattana Suite"
          ],
          [
           "Bang Sue",
           "Wind Sukhumvit 23"
          ],
          [
           "Pathum Wan",
           "Zenith Place @ Sukhumvit"
          ],
          [
           "Khan Na Yao",
           "Baan Lux-Sathon"
          ],
          [
           "Ratchathewi",
           "Bangkok Garden"
          ],
          [
           "Ratchathewi",
           "Belle Park Residence"
          ],
          [
           "Khlong Toei",
           "Bridge Sathorn-Narathiwas"
          ],
          [
           "Watthana",
           "Condo One Sathorn"
          ],
          [
           "Khlong Toei",
           "Condo One X Sathorn-Narathiwat"
          ],
          [
           "Watthana",
           "Condolette Pixel Sathorn"
          ],
          [
           "Khlong San",
           "D Condo Sathupradit 49"
          ],
          [
           "Din Daeng",
           "LPN Tower"
          ],
          [
           "Huai Khwang",
           "Le Rich Sathorn-Satupradit"
          ],
          [
           "Bang Phlat",
           "Lumpini Park Riverside Rama 3"
          ],
          [
           "Bang Na",
           "Lumpini Place Narathiwas"
          ],
          [
           "Bang Na",
           "Lumpini Place Narathiwas 24"
          ],
          [
           "Bangkok Yai",
           "Lumpini Place Narathiwas-Chaopraya"
          ],
          [
           "Huai Khwang",
           "Lumpini Place Rama IV-Sathorn"
          ],
          [
           "Huai Khwang",
           "Lumpini Suite Ratchada-Rama III"
          ],
          [
           "Watthana",
           "Modern Home Tower The Exclusive"
          ],
          [
           "Din Daeng",
           "P.S.T. City Home"
          ],
          [
           "Bang Kapi",
           "PM Riverside"
          ],
          [
           "Huai Khwang",
           "Palm Pavillion 3"
          ],
          [
           "Watthana",
           "Resorta Yen-akat"
          ],
          [
           "Bang Rak",
           "Sathorn Place"
          ],
          [
           "Wang Thonglang",
           "Supalai Premier Narathiwas-Sathorn"
          ],
          [
           "Chatuchak",
           "Supalai Prima Riva"
          ],
          [
           "Suan Luang",
           "Supalai Riva Grande"
          ],
          [
           "Chatuchak",
           "Supreme Place"
          ],
          [
           "Chatuchak",
           "The Breeze Narathiwas"
          ],
          [
           "Chatuchak",
           "The Complete Narathiwat"
          ],
          [
           "Din Daeng",
           "The Lanai Sathorn"
          ],
          [
           "Yan Nawa",
           "The Lofts Yennakart"
          ],
          [
           "Pathum Wan",
           "The Pano"
          ],
          [
           "Samphanthawong",
           "The Star Estate @ Narathiwas"
          ],
          [
           "Watthana",
           "The Star Estate @ Rama 3"
          ],
          [
           "Khlong Toei",
           "The Trust Residence Ratchada-Rama 3"
          ],
          [
           "Yan Nawa",
           "U Delight Residence Riverfront Rama 3"
          ],
          [
           "Khlong Toei",
           "Yen Akard Garden"
          ],
          [
           "Bang Kapi",
           "Supalai City Resort Bearing Station Sukumvit 105"
          ],
          [
           "Chatuchak",
           "The Coast Condominium"
          ],
          [
           "Khlong Toei",
           "The Excel Bearing"
          ],
          [
           "Ratchathewi",
           "The Excel Hybrid"
          ],
          [
           "Bang Rak",
           "The Gallery Bearing"
          ],
          [
           "Yan Nawa",
           "The Knight by Knightsbridge"
          ],
          [
           "Bang Na",
           "The Sky Sukhumvit"
          ],
          [
           "Pathum Wan",
           "The Teak Bangna-Trad"
          ],
          [
           "Watthana",
           "Voque Place Sukhumvit 107"
          ],
          [
           "Watthana",
           "Bang Ao Riverside"
          ],
          [
           "Phasi Charoen",
           "Bangkok River Marina"
          ],
          [
           "Bangkok Noi",
           "Bangyeekhan Condominium"
          ],
          [
           "Lat Krabang",
           "City Home Ratchada-Pinklao"
          ],
          [
           "Bang Khen",
           "Ivy Residence Pinklao"
          ],
          [
           "Bang Kapi",
           "Lumpini Park Pinklao"
          ],
          [
           "Bang Kapi",
           "Lumpini Place Pinklao 1"
          ],
          [
           "Yan Nawa",
           "Lumpini Place Pinklao 2"
          ],
          [
           "Phaya Thai",
           "Lumpini Place Rama VIII"
          ],
          [
           "Din Daeng",
           "Lumpini Suite Rama Vlll"
          ],
          [
           "Watthana",
           "My Condo Pinklao"
          ],
          [
           "Watthana",
           "Pinklao Pavilion"
          ],
          [
           "Don Mueang",
           "Rattanakosin View Mansion"
          ],
          [
           "Watthana",
           "Thana Arcadia"
          ],
          [
           "Huai Khwang",
           "Thana Tri"
          ],
          [
           "Huai Khwang",
           "Thew River Place"
          ],
          [
           "Watthana",
           "Baan Siri Silom"
          ],
          [
           "Bang Rak",
           "Collezio Sathorn-Pipat"
          ],
          [
           "Khlong Toei",
           "Condolette Light Convent"
          ],
          [
           "Lat Phrao",
           "Diamond Tower"
          ],
          [
           "Watthana",
           "Focus on Saladaeng"
          ],
          [
           "Huai Khwang",
           "Ivy Sathorn 10"
          ],
          [
           "Huai Khwang",
           "Jewelry Trade Center"
          ],
          [
           "Lat Phrao",
           "Klass Condo Silom"
          ],
          [
           "Dusit",
           "Life @ Sathorn 10"
          ],
          [
           "Chatuchak",
           "M Silom"
          ],
          [
           "Phra Khanong",
           "Noble Revo Silom"
          ],
          [
           "Watthana",
           "Pabhada Silom"
          ],
          [
           "Watthana",
           "Quad Silom"
          ],
          [
           "Chatuchak",
           "Saladaeng Colonnade"
          ],
          [
           "Phra Khanong",
           "Saladaeng Residences"
          ],
          [
           "Phra Khanong",
           "Siamese Surawong"
          ],
          [
           "Din Daeng",
           "Silom Grand Terrace"
          ],
          [
           "Watthana",
           "Silom Suite"
          ],
          [
           "Chatuchak",
           "Silom Terrace"
          ],
          [
           "Khlong Toei",
           "State Tower"
          ],
          [
           "Watthana",
           "Supalai Elite Surawong"
          ],
          [
           "Bang Kapi",
           "Surawong City Resort"
          ],
          [
           "Phaya Thai",
           "The Address Sathorn"
          ],
          [
           "Lat Phrao",
           "The Bangkok Thanon Sub"
          ],
          [
           "Huai Khwang",
           "The Infinity"
          ],
          [
           "Phaya Thai",
           "The Legend Saladaeng"
          ],
          [
           "Khlong Toei",
           "The Ritz-Carlton Residences at MahaNakhon"
          ],
          [
           "Lak Si",
           "The Room Charoenkrung 30"
          ],
          [
           "Khlong Toei",
           "The Royal Saladaeng"
          ],
          [
           "Bang Rak",
           "The Surawong"
          ],
          [
           "Huai Khwang",
           "The Treasure Silom"
          ],
          [
           "Bang Kapi",
           "Vertiq"
          ],
          [
           "Watthana",
           "Wish @ Samyan"
          ],
          [
           "Watthana",
           "333 Riverside"
          ],
          [
           "Sathon",
           "Aspire Ratchada - Wongsawang"
          ],
          [
           "Suan Luang",
           "Centric Scene Ratchavipha"
          ],
          [
           "Khlong San",
           "Chewathai Interchange"
          ],
          [
           "Bang Khae",
           "Chewathai Residence Bang Pho"
          ],
          [
           "Chatuchak",
           "Ideo Mobi Wongsawang - Interchange"
          ],
          [
           "Huai Khwang",
           "Lumpini Ville Prachachuen-Phongphet 2"
          ],
          [
           "Bang Kapi",
           "Piboon Condoville"
          ],
          [
           "Lat Phrao",
           "Regent Home 20 Prachachuen 16"
          ],
          [
           "Ratchathewi",
           "Rich Park 2 @Taopoon Interchange"
          ],
          [
           "Watthana",
           "Richpark @ Bangson Station"
          ],
          [
           "Wang Thonglang",
           "Supalai Veranda Ratchavipha - Prachachuen"
          ],
          [
           "Watthana",
           "Taopoon Mansion"
          ],
          [
           "Phaya Thai",
           "The Parkland Ratchada - Wongsawang"
          ],
          [
           "Khlong Toei",
           "The Tree Interchange"
          ],
          [
           "Huai Khwang",
           "The Tree Privata"
          ],
          [
           "Watthana",
           "U Delight 2 @ Bang Sue Station"
          ],
          [
           "Bang Kapi",
           "U Delight 3 Prachachuen - Bang Sue"
          ],
          [
           "Watthana",
           "U Delight @ Bang Sue Station"
          ],
          [
           "Wang Thonglang",
           "Bangkhunnon Rimnam"
          ],
          [
           "Watthana",
           "Bangkok Noi Waterside"
          ],
          [
           "Pathum Wan",
           "D Condo Charansanitwong"
          ],
          [
           "Wang Thonglang",
           "Pinklao Condominium"
          ],
          [
           "Don Mueang",
           "Pracha Ruamjai Condo Town"
          ],
          [
           "Huai Khwang",
           "The Trust Residence Pinklao"
          ],
          [
           "Bang Kapi",
           "dBURA Pran Nok"
          ],
          [
           "Phaya Thai",
           "City Home Tha-Phra Intersection"
          ],
          [
           "Watthana",
           "Baan Eua Arthorn Buengkum"
          ],
          [
           "Watthana",
           "Baan Navatara"
          ],
          [
           "Chatuchak",
           "I CONDO Sukhapiban 2"
          ],
          [
           "Phaya Thai",
           "Incio"
          ],
          [
           "Phaya Thai",
           "Lumpini Condo Town Nida - Serithai"
          ],
          [
           "Khlong San",
           "Lumpini Park Nawamin-Sriburapha"
          ],
          [
           "Watthana",
           "Plum Condo Nawamin"
          ],
          [
           "Khlong San",
           "SPN Residence"
          ],
          [
           "Chatuchak",
           "624 Condolette Ratchada 36"
          ],
          [
           "Huai Khwang",
           "Ables Ladprao 27"
          ],
          [
           "Watthana",
           "Abstracts Phahonyothin Park"
          ],
          [
           "Watthana",
           "Astra Condominium"
          ],
          [
           "Phasi Charoen",
           "BTS Residence"
          ],
          [
           "Bueng Kum",
           "Baan Phrayapirom-Ratchada"
          ],
          [
           "Huai Khwang",
           "Baan Ratchayothin"
          ],
          [
           "Huai Khwang",
           "Baan Suan Ratchada"
          ],
          [
           "Huai Khwang",
           "Baan Vipavee"
          ],
          [
           "Lat Krabang",
           "Bangkok Feliz Major Ratchayothin"
          ],
          [
           "Rat Burana",
           "Bangkok Feliz Vibhavadi 30"
          ],
          [
           "Khlong Toei",
           "Benjasri Vibhavadi"
          ],
          [
           "Khlong San",
           "Bridge Phaholyothin 37"
          ],
          [
           "Bang Na",
           "C Place Ladprao 18"
          ],
          [
           "Chatuchak",
           "Century Park"
          ],
          [
           "Chatuchak",
           "Chapter One The Campus Kaset"
          ],
          [
           "Phaya Thai",
           "Chateau In Town Major Ratchayothin 2"
          ],
          [
           "Bang Na",
           "Chateau In Town Phahonyothin 32"
          ],
          [
           "Ratchathewi",
           "Chateau In Town Ratchada 36"
          ],
          [
           "Huai Khwang",
           "Chateau In Town Vibhavadi 30"
          ],
          [
           "Khlong San",
           "Condare Maneeya"
          ],
          [
           "Phra Khanong",
           "Condo One Ladprao 15"
          ],
          [
           "Bang Na",
           "Condo One Ladprao 18"
          ],
          [
           "Bang Sue",
           "Condo One Ladprao Station"
          ],
          [
           "Khlong Toei",
           "Condo U Ratchayothin"
          ],
          [
           "Ratchathewi",
           "Ease Ratchada"
          ],
          [
           "Huai Khwang",
           "Elephant Tower"
          ],
          [
           "Khlong San",
           "Equinox"
          ],
          [
           "Ratchathewi",
           "G One Condo"
          ],
          [
           "Khlong Toei",
           "Haus 23 Ratchada-Ladprao"
          ],
          [
           "Bueng Kum",
           "Hope and Guy Condo Town"
          ],
          [
           "Bang Khen",
           "Ideo Ladprao 17"
          ],
          [
           "Bang Kapi",
           "Ideo Ladprao 5"
          ],
          [
           "Phaya Thai",
           "J.W. City Ratchada 32"
          ],
          [
           "Khlong Toei",
           "LIB Ladprao 20"
          ],
          [
           "Huai Khwang",
           "La Maison  Phaholyothin 24"
          ],
          [
           "Huai Khwang",
           "Levo Ladprao 18 Project 1"
          ],
          [
           "Bang Phlat",
           "Life @ Ladprao 18"
          ],
          [
           "Rat Burana",
           "Life @ Ratchada"
          ],
          [
           "Bang Rak",
           "Lugano Ladprao 18"
          ],
          [
           "Watthana",
           "Lumpini Place Ratchayothin"
          ],
          [
           "Watthana",
           "M Jatujak"
          ],
          [
           "Wang Thonglang",
           "M Ladprao"
          ],
          [
           "Chatuchak",
           "Morning Side Heights Ratchada 30"
          ],
          [
           "Lat Phrao",
           "Murraya Place Ladprao 27"
          ],
          [
           "Bang Rak",
           "My Condo Ladprao 27"
          ],
          [
           "Huai Khwang",
           "Pattanachat Suite"
          ],
          [
           "Huai Khwang",
           "Pete Ratchada Condominium"
          ],
          [
           "Ratchathewi",
           "Prasertsuk Place"
          ],
          [
           "Sai Mai",
           "Premsiri Boutique Park"
          ],
          [
           "Watthana",
           "Ratchada Pavilion"
          ],
          [
           "Din Daeng",
           "Ratchada Ville"
          ],
          [
           "Pathum Wan",
           "Regent Home 6 Prachacheun"
          ],
          [
           "Pathum Wan",
           "SYM Vibha-Ladprao"
          ],
          [
           "Bang Rak",
           "Sailom Suite"
          ],
          [
           "Bang Na",
           "Sarin Place"
          ],
          [
           "Khlong Toei",
           "SiriMetro Ratchada-Vipawadee"
          ],
          [
           "Chatuchak",
           "Supalai City Resort Ratchayothin - Phaholyothin 32"
          ],
          [
           "Wang Thonglang",
           "Supalai Park Kaset"
          ],
          [
           "Watthana",
           "Supalai Park Phaholyothin"
          ],
          [
           "Yan Nawa",
           "Supapong Place"
          ],
          [
           "Chatuchak",
           "THE LINE Jatujak-Mochit"
          ],
          [
           "Phaya Thai",
           "Tawana Residence"
          ],
          [
           "Bang Na",
           "The Classy Ratchadaphisek 19"
          ],
          [
           "Bang Na",
           "The Issara Ladprao"
          ],
          [
           "Khlong Toei",
           "The Key Phahonyothin"
          ],
          [
           "Wang Thonglang",
           "The Nigh Condo Ngamwongwan"
          ],
          [
           "Khlong Toei",
           "The Peace"
          ],
          [
           "Khlong Toei",
           "The Room Ratchada-Ladprao"
          ],
          [
           "Pathum Wan",
           "The Seed Terre Ratchayothin"
          ],
          [
           "Bang Kapi",
           "The Unique Ladprao 10"
          ],
          [
           "Watthana",
           "The Unique Ladprao 26"
          ],
          [
           "Khlong Toei",
           "The Zest Ladprao"
          ],
          [
           "Watthana",
           "Tree Condo Ladprao 27"
          ],
          [
           "Watthana",
           "U Delight @ Jatujak Station"
          ],
          [
           "Phaya Thai",
           "U Delight @ Phaholyothin Station"
          ],
          [
           "Watthana",
           "Ussakan Place Twin Condo"
          ],
          [
           "Watthana",
           "Vantage Ratchavipa"
          ],
          [
           "Watthana",
           "Vibhavadi Suite"
          ],
          [
           "Khlong Toei",
           "Vibhavadi View"
          ],
          [
           "Phaya Thai",
           "Whizdom Avenue Ratchada - Ladprao"
          ],
          [
           "Din Daeng",
           "Wilmore"
          ],
          [
           "Yan Nawa",
           "Wind Ratchayothin"
          ],
          [
           "Watthana",
           "You Condo"
          ],
          [
           "Huai Khwang",
           "Aspire Sathorn-Taksin"
          ],
          [
           "Chatuchak",
           "Baan Suan Rimnam"
          ],
          [
           "Thon Buri",
           "Chaigoon Tower"
          ],
          [
           "Chatuchak",
           "Lumpini Place Suksawat - Rama 2"
          ],
          [
           "Phaya Thai",
           "Origins Rama 2"
          ],
          [
           "Chatuchak",
           "The Key Sathorn-Ratchapruek"
          ],
          [
           "Huai Khwang",
           "The Key Wutthakat"
          ],
          [
           "Huai Khwang",
           "The Tempo Grand Sathorn-Wutthakat"
          ],
          [
           "Bang Rak",
           "A Space Asoke-Ratchada"
          ],
          [
           "Watthana",
           "A Space Hideaway Asoke-Ratchada"
          ],
          [
           "Watthana",
           "Amanta Ratchada"
          ],
          [
           "Huai Khwang",
           "Boutique Ratchada 2"
          ],
          [
           "Khlong Toei",
           "Casa Condo Asoke-Dindaeng"
          ],
          [
           "Watthana",
           "Centric Ratchada-Suthisan"
          ],
          [
           "Phaya Thai",
           "Chateau In Town Ratchada 13"
          ],
          [
           "Lat Phrao",
           "Chateau In Town Ratchada 17"
          ],
          [
           "Chatuchak",
           "City Court"
          ],
          [
           "Bang Kapi",
           "City Room  Ratchada-Suthisan"
          ],
          [
           "Bang Kapi",
           "Condo One Ratchada-Ladprao"
          ],
          [
           "Bang Kapi",
           "D.D. Tower"
          ],
          [
           "Suan Luang",
           "Emerald Residence Ratchada"
          ],
          [
           "Bang Khae",
           "Klangkrung Resort"
          ],
          [
           "Wang Thonglang",
           "Le Rich Ratchada-Sutthisarn"
          ],
          [
           "Bueng Kum",
           "Metro Sky Ratchada"
          ],
          [
           "Bang Khen",
           "Pano Ville"
          ],
          [
           "Bang Khen",
           "Ratchada Place"
          ],
          [
           "Khan Na Yao",
           "Supalai Park Asoke-Ratchada"
          ],
          [
           "Bueng Kum",
           "T.V.C. Condominium"
          ],
          [
           "Bang Phlat",
           "The Kris Extra 5"
          ],
          [
           "Huai Khwang",
           "The Kris Ratchada"
          ],
          [
           "Yan Nawa",
           "The Niche Ratchada - Huay Kwang"
          ],
          [
           "Taling Chan",
           "Airplane Place"
          ],
          [
           "Yan Nawa",
           "Baan Suan Chaengwattana"
          ],
          [
           "Yan Nawa",
           "DEN Vibhavadi"
          ],
          [
           "Yan Nawa",
           "Happy Condo Laksi-Donmuang"
          ],
          [
           "Phaya Thai",
           "P.P.H. Condo"
          ],
          [
           "Bang Phlat",
           "Park View Viphavadi"
          ],
          [
           "Bang Phlat",
           "Baan Suan Sukhothai"
          ],
          [
           "Khlong Toei",
           "Dusit Avenue"
          ],
          [
           "Bang Kho Laem",
           "A Space Play Ratchada-Sutthisarn"
          ],
          [
           "Bang Kho Laem",
           "Aspire Rama 9"
          ],
          [
           "Yan Nawa",
           "Belle Avenue Ratchada-Rama 9"
          ],
          [
           "Bang Phlat",
           "C Style"
          ],
          [
           "Bang Khen",
           "Centric Ratchada - Huai Khwang"
          ],
          [
           "Thon Buri",
           "Chateau In Town Ratchada 10"
          ],
          [
           "Chatuchak",
           "Chateau In Town Ratchada 20"
          ],
          [
           "Sathon",
           "Chateau In Town Ratchada 20-2"
          ],
          [
           "Suan Luang",
           "City Home Ratchada"
          ],
          [
           "Sathon",
           "City Living Ratchada"
          ],
          [
           "Chom Thong",
           "City Resort Ratchada-Huay Khwang"
          ],
          [
           "Bang Phlat",
           "Classe Condo"
          ],
          [
           "Yan Nawa",
           "Diamond Ratchada"
          ],
          [
           "Watthana",
           "Diamond Ratchada Cool House"
          ],
          [
           "Huai Khwang",
           "Dsign Ratchada"
          ],
          [
           "Bang Na",
           "Duliya Chalisma"
          ],
          [
           "Wang Thonglang",
           "Family Park"
          ],
          [
           "Phaya Thai",
           "Forum Tower"
          ],
          [
           "Suan Luang",
           "Garden Asoke - Rama 9"
          ],
          [
           "Sathon",
           "Grene Suthisarn"
          ],
          [
           "Bang Sue",
           "Happy Condo Ratchada 18"
          ],
          [
           "Bang Khen",
           "Humble Living"
          ],
          [
           "Bang Kapi",
           "I-Biza"
          ],
          [
           "Bang Kapi",
           "I-House Laguna Garden"
          ],
          [
           "Rat Burana",
           "I-House Rama IX-Ekamai"
          ],
          [
           "Suan Luang",
           "Ideo Mobi Rama 9"
          ],
          [
           "Suan Luang",
           "Ideo Ratchada-Huaykwang"
          ],
          [
           "Chatuchak",
           "Ivy Ampio"
          ],
          [
           "Chatuchak",
           "Ivy Ratchada"
          ],
          [
           "Ratchathewi",
           "Jittrapa Place"
          ],
          [
           "Bang Rak",
           "Johnny Tower"
          ],
          [
           "Watthana",
           "Leticia Rama 9"
          ],
          [
           "Watthana",
           "Life @ Ratchada - Huay Kwang"
          ],
          [
           "Phaya Thai",
           "Life @ Ratchada - Suthisan"
          ],
          [
           "Watthana",
           "Life Asoke"
          ],
          [
           "Pathum Wan",
           "Lumpini Park Rama 9 - Ratchada"
          ],
          [
           "Ratchathewi",
           "Lumpini Ville Cultural Center"
          ],
          [
           "Watthana",
           "Metha Place @ Ratchada"
          ],
          [
           "Pathum Wan",
           "Modern Sweet Home"
          ],
          [
           "Khlong San",
           "Muang Thai-Phatra Complex"
          ],
          [
           "Wang Thonglang",
           "My Resort Bangkok"
          ],
          [
           "Khlong Toei",
           "Noble Revolve Ratchada"
          ],
          [
           "Bang Na",
           "Noble Revolve Ratchada 2"
          ],
          [
           "Ratchathewi",
           "PG Rama IX"
          ],
          [
           "Sathon",
           "Pradya Place Ratchada-Huai Khwang"
          ],
          [
           "Phra Khanong",
           "Quinn Condo Ratchada"
          ],
          [
           "Bang Kho Laem",
           "Ratchada City 18"
          ],
          [
           "Huai Khwang",
           "Ratchada City Condo"
          ],
          [
           "Khlong Toei",
           "Ratchada Prestige"
          ],
          [
           "Phasi Charoen",
           "Regent Home 12 Latphrao 41"
          ],
          [
           "Din Daeng",
           "Rhythm  Ratchada"
          ],
          [
           "Bang Na",
           "Rhythm Asoke 2"
          ],
          [
           "Khlong Toei",
           "Rhythm Ratchada - Huai Khwang"
          ],
          [
           "Watthana",
           "Sun Palace Condominium"
          ],
          [
           "Yan Nawa",
           "Supalai Park Ekkamai-Thonglor"
          ],
          [
           "Huai Khwang",
           "Supalai Premier @ Asoke"
          ],
          [
           "Watthana",
           "Supalai Wellington"
          ],
          [
           "Chatuchak",
           "T.C. Green"
          ],
          [
           "Thon Buri",
           "T.C. Tower"
          ],
          [
           "Huai Khwang",
           "The Capital Ekamai - Thonglor"
          ],
          [
           "Chatuchak",
           "The Colory Vivid"
          ],
          [
           "Chatuchak",
           "The Next Ladprao"
          ],
          [
           "Bang Phlat",
           "The Niche Ladprao 48"
          ],
          [
           "Khlong San",
           "The Parkland Grand Asoke-Phetchaburi"
          ],
          [
           "Bang Na",
           "The Peak @ Ratchada - Huay Kwang"
          ],
          [
           "Phra Khanong",
           "The Pulse Ladprao 44"
          ],
          [
           "Phra Khanong",
           "The Raffles"
          ],
          [
           "Huai Khwang",
           "The Seed Ratchada-Huay Kwang"
          ],
          [
           "Pathum Wan",
           "The Sky Ratchada"
          ],
          [
           "Sathon",
           "Thru Thonglor"
          ],
          [
           "Sathon",
           "U Delight @ Huay Kwang Station"
          ],
          [
           "Khlong Toei",
           "Veranda Residence"
          ],
          [
           "Pathum Wan",
           "Zenith Place @ Huay Kwang"
          ],
          [
           "Bang Kapi",
           "Best Condo 2"
          ],
          [
           "Pathum Wan",
           "Chambers Ramintra"
          ],
          [
           "Pathum Wan",
           "Chrisma Condo Ramintra"
          ],
          [
           "Pathum Wan",
           "Lumpini Condo Town Ramintra - Nawamin"
          ],
          [
           "Watthana",
           "Aliss Wongwianyai"
          ],
          [
           "Phaya Thai",
           "Baan Sathorn Chaopraya"
          ],
          [
           "Watthana",
           "Citrine"
          ],
          [
           "Pathum Wan",
           "Fuse Sathorn-Taksin"
          ],
          [
           "Watthana",
           "Hive Sathorn"
          ],
          [
           "Phaya Thai",
           "Hive Taksin"
          ],
          [
           "Phaya Thai",
           "Ideo Blucove Sathorn"
          ],
          [
           "Watthana",
           "Ideo Mobi Sathorn"
          ],
          [
           "Watthana",
           "Ideo Sathorn-Taksin"
          ],
          [
           "Ratchathewi",
           "Magnolias Waterfront Residences"
          ],
          [
           "Bang Rak",
           "My Condo Sathorn-Taksin"
          ],
          [
           "Phaya Thai",
           "Nye by Sansiri"
          ],
          [
           "Huai Khwang",
           "Q. House Condo Sathorn"
          ],
          [
           "Huai Khwang",
           "Supalai River Place"
          ],
          [
           "Watthana",
           "The Bangkok Sathorn-Taksin"
          ],
          [
           "Bang Na",
           "The Fine @ River"
          ],
          [
           "Lak Si",
           "The Light House"
          ],
          [
           "Watthana",
           "The Master Sathorn"
          ],
          [
           "Khlong San",
           "The Plenary Sathorn"
          ],
          [
           "Thon Buri",
           "The Rich Sathorn – Taksin"
          ],
          [
           "Pathum Wan",
           "The River"
          ],
          [
           "Suan Luang",
           "The Room BTS Wongwian Yai"
          ],
          [
           "Phaya Thai",
           "The Seed Sathorn-Taksin"
          ],
          [
           "Pathum Wan",
           "The Viva Condo Sathorn-taksin"
          ],
          [
           "Chom Thong",
           "Tourmaline Gold Sathorn-Taksin"
          ],
          [
           "Don Mueang",
           "Tourmaline Lite Sathorn-Taksin"
          ],
          [
           "Yan Nawa",
           "Urbano Absolute Sathon-Taksin"
          ],
          [
           "Huai Khwang",
           "Villa Sathorn"
          ],
          [
           "Yan Nawa",
           "Watermark Chaophraya"
          ],
          [
           "Bang Rak",
           "38 Mansion"
          ],
          [
           "Phaya Thai",
           "Aguston Sukhumvit 22"
          ],
          [
           "Yan Nawa",
           "Ashton Morph 38"
          ],
          [
           "Lat Phrao",
           "Aspire Rama 4"
          ],
          [
           "Khlong Toei",
           "Baan Siri Sukhumvit 10"
          ],
          [
           "Din Daeng",
           "Bright Sukhumvit 24"
          ],
          [
           "Khlong Toei",
           "Circle Rein Sukhumvit 12"
          ],
          [
           "Phaya Thai",
           "Circle Sukhumvit 12"
          ],
          [
           "Don Mueang",
           "Condo One Thonglor"
          ],
          [
           "Lak Si",
           "Condo One X Sukhumvit 26"
          ],
          [
           "Pathum Wan",
           "Condolette Dwell Sukhumvit 26"
          ],
          [
           "Chatuchak",
           "Domus"
          ],
          [
           "Suan Luang",
           "Eua Amornsuk"
          ],
          [
           "Khlong Toei",
           "Ficus Lane"
          ],
          [
           "Thon Buri",
           "Focus Ploenchit"
          ],
          [
           "Ratchathewi",
           "Green Tower"
          ],
          [
           "Chatuchak",
           "Ideal 24"
          ],
          [
           "Phaya Thai",
           "Ideo Morph 38"
          ],
          [
           "Phaya Thai",
           "Ideo Verve Sukhumvit"
          ],
          [
           "Ratchathewi",
           "Issara@42 Sukhumvit"
          ],
          [
           "Ratchathewi",
           "Kraam Sukhumvit 26"
          ],
          [
           "Bang Sue",
           "La Vie En Rose Place"
          ],
          [
           "Bangkok Noi",
           "Lake Green"
          ],
          [
           "Bang Phlat",
           "Lake View Condominium"
          ],
          [
           "Prawet",
           "Le Cote Sukhumvit 14"
          ],
          [
           "Bang Khae",
           "Le Raffine Sukhumvit 24"
          ],
          [
           "Bang Kapi",
           "Life Sukhumvit 48"
          ],
          [
           "Bueng Kum",
           "Lumpini Place Rama 4-Kluaynamthai"
          ],
          [
           "Watthana",
           "Maison De Siam"
          ],
          [
           "Bangkok Noi",
           "Metro Luxe Rama 4"
          ],
          [
           "Phaya Thai",
           "Millennium Residence"
          ],
          [
           "Huai Khwang",
           "Newton Tower"
          ],
          [
           "Chatuchak",
           "Pandao Place"
          ],
          [
           "Thon Buri",
           "Park 24"
          ],
          [
           "Pathum Wan",
           "Pearl Residences Sukhumvit 24"
          ],
          [
           "Suan Luang",
           "President Park Harbour View"
          ],
          [
           "Lat Phrao",
           "Rhythm Sukhumvit"
          ],
          [
           "Chatuchak",
           "Rhythm Sukhumvit 36-38"
          ],
          [
           "Khlong Toei",
           "Rhythm Sukhumvit 42"
          ],
          [
           "Suan Luang",
           "Rhythm Sukhumvit 44/1"
          ],
          [
           "Pathum Wan",
           "S Condo Sukhumvit 50"
          ],
          [
           "Bang Kapi",
           "S16 Residences"
          ],
          [
           "Phaya Thai",
           "Serene Place Sukhumvit 24"
          ],
          [
           "Bang Kapi",
           "Silver Heritage"
          ],
          [
           "Prawet",
           "Siri On 8"
          ],
          [
           "Prawet",
           "Siri Residence"
          ],
          [
           "Ratchathewi",
           "Sukhumvit Plus"
          ],
          [
           "Ratchathewi",
           "The Address Sukhumvit 28"
          ],
          [
           "Pathum Wan",
           "The Address Sukhumvit 42"
          ],
          [
           "Khlong San",
           "The Crest Sukhumvit 24"
          ],
          [
           "Watthana",
           "The Emporio Place"
          ],
          [
           "Bang Rak",
           "The Lakes"
          ],
          [
           "Watthana",
           "The Room Sukhumvit 40"
          ],
          [
           "Huai Khwang",
           "The Seed Musee"
          ],
          [
           "Ratchathewi",
           "The Waterford Diamond"
          ],
          [
           "Lat Phrao",
           "The Waterford Rama 4"
          ],
          [
           "Huai Khwang",
           "The Waterford Sukhumvit 50"
          ],
          [
           "Huai Khwang",
           "Tidy Deluxe Sukhumvit 34"
          ],
          [
           "Chatuchak",
           "Trapezo Sukhumvit 16"
          ],
          [
           "Din Daeng",
           "Tree Condo Ekamai"
          ],
          [
           "Huai Khwang",
           "Tree Condo Sukhumvit 42"
          ],
          [
           "Chatuchak",
           "U Sabai Rama 4 - Kluaynamthai"
          ],
          [
           "Phasi Charoen",
           "Urbitia Thong Lo"
          ],
          [
           "Bang Phlat",
           "Vinn Sukhumvit 46"
          ],
          [
           "Bang Khen",
           "Von Napa Sukhumvit 38"
          ],
          [
           "Bang Khen",
           "Voque Sukhumvit 16"
          ],
          [
           "Huai Khwang",
           "Vtara Sukhumvit 36"
          ],
          [
           "Phra Khanong",
           "Wilshire"
          ],
          [
           "Bang Khen",
           "XVI The Sixteenth Condominum"
          ],
          [
           "Bang Khen",
           "Zenith Place Sukhumvit 42"
          ],
          [
           "Phra Khanong",
           "Aspire Ngamwongwan"
          ],
          [
           "Bang Sue",
           "Flora Condo Ville"
          ],
          [
           "Phra Khanong",
           "Nueng Condominium"
          ],
          [
           "Bang Khen",
           "Park View Viphavadi 2"
          ],
          [
           "Chatuchak",
           "The Cube Chaengwattana"
          ],
          [
           "Bang Na",
           "Airlink Residence"
          ],
          [
           "Phra Khanong",
           "D Condo Onnut-Suvarnabhumi"
          ],
          [
           "Suan Luang",
           "IRIS Avenue Onnuch-Suvarnabhumi"
          ],
          [
           "Watthana",
           "Smart Z Onnuch"
          ],
          [
           "Pathum Wan",
           "A Space Kaset-Nawamin"
          ],
          [
           "Phra Khanong",
           "Baan Tri-wit"
          ],
          [
           "Yan Nawa",
           "Double U"
          ],
          [
           "Huai Khwang",
           "Duliya Place"
          ],
          [
           "Ratchathewi",
           "Family House Ladprao 71"
          ],
          [
           "Huai Khwang",
           "Glory Place"
          ],
          [
           "Ratchathewi",
           "J.W. Suite"
          ],
          [
           "Huai Khwang",
           "Lucas Garden - Family House"
          ],
          [
           "Sathon",
           "Panchasarp Suite Ratchada-Ladprao"
          ],
          [
           "Sathon",
           "Premio by Premium Place"
          ],
          [
           "Khlong Toei",
           "Ranee Place"
          ],
          [
           "Khlong Toei",
           "The Niche ID Ladprao - Wang Hin"
          ],
          [
           "Khlong Toei",
           "The Tree Condo Ladprao"
          ],
          [
           "Khlong Toei",
           "Waranya Place"
          ],
          [
           "Bang Sue",
           "Wealth Garden Family House"
          ],
          [
           "Bang Sue",
           "Roong Condo"
          ],
          [
           "Phasi Charoen",
           "185 Rajadamri"
          ],
          [
           "Bang Kho Laem",
           "All Season Mansion"
          ],
          [
           "Min Buri",
           "Athenee Residence"
          ],
          [
           "Phaya Thai",
           "Baan Na Varang"
          ],
          [
           "Phaya Thai",
           "Baan Rajprasong"
          ],
          [
           "Watthana",
           "Baan Ratchadamri"
          ],
          [
           "Suan Luang",
           "Baan Siri Ruedee"
          ],
          [
           "Khlong Toei",
           "Baan Thanon Sarasin"
          ],
          [
           "Bang Na",
           "CU Terrace"
          ],
          [
           "Khlong Toei",
           "Chamchuri Square Residence"
          ],
          [
           "Phaya Thai",
           "Chidlom Place"
          ],
          [
           "Watthana",
           "Condo One Siam"
          ],
          [
           "Pathum Wan",
           "Craft Ploenchit"
          ],
          [
           "Bueng Kum",
           "Hansar Rajdamri"
          ],
          [
           "Chatuchak",
           "Klass Condo Langsuan"
          ],
          [
           "Phaya Thai",
           "Klass Condo Siam"
          ],
          [
           "Phaya Thai",
           "Langsuan Ville"
          ],
          [
           "Chatuchak",
           "Maestro 02 Ruamrudee"
          ],
          [
           "Bang Rak",
           "Magnolias Ratchadamri Boulevard"
          ],
          [
           "Bang Rak",
           "Na Vara Residence"
          ],
          [
           "Phaya Thai",
           "Nimit Langsuan"
          ],
          [
           "Rat Burana",
           "Noble 09 Ruamrudee"
          ],
          [
           "Pathum Wan",
           "Noble Ambience Ruamrudee"
          ],
          [
           "Phra Khanong",
           "Noble Ambience Sarasin"
          ],
          [
           "Chatuchak",
           "Noble Ploenchit"
          ],
          [
           "Sathon",
           "O2 Hip"
          ],
          [
           "Sathon",
           "Oriental Residence"
          ],
          [
           "Yan Nawa",
           "Pathumwan Oasis"
          ],
          [
           "Sathon",
           "Preen by Sansiri"
          ],
          [
           "Sathon",
           "Prive by Sansiri"
          ],
          [
           "Prawet",
           "Q Langsuan"
          ],
          [
           "Phaya Thai",
           "Renova Residence Chidlom"
          ],
          [
           "Bang Na",
           "SOCIO Ruamrudee"
          ],
          [
           "Khlong Toei",
           "Sarasini Residence"
          ],
          [
           "Samphanthawong",
           "The Address Chidlom"
          ],
          [
           "Watthana",
           "The Crest Ruamrudee"
          ],
          [
           "Watthana",
           "The Nest Ploenchit"
          ],
          [
           "Phaya Thai",
           "The Park Chidlom"
          ],
          [
           "Bang Rak",
           "The Rajdamri"
          ],
          [
           "Watthana",
           "The Reserve - Kasemsan 3"
          ],
          [
           "Phaya Thai",
           "The Residences at The St. Regis Bangkok"
          ],
          [
           "Bang Khen",
           "The Royal Maneeya"
          ],
          [
           "Phaya Thai",
           "The Seed Memories Siam"
          ],
          [
           "Bang Rak",
           "The Tempo Ruamrudee"
          ],
          [
           "Bang Rak",
           "Tonson Court"
          ],
          [
           "Bang Rak",
           "Urbana Langsuan"
          ],
          [
           "Khlong Toei",
           "Bangkok Horizon P 48"
          ],
          [
           "Khlong Toei",
           "Bangkok Horizon Phetkasem"
          ],
          [
           "Khlong Toei",
           "D Condo Campus Resort Ratchapruek"
          ],
          [
           "Watthana",
           "I CONDO Petchkasem 39"
          ],
          [
           "Chatuchak",
           "Metro Park Sathorn"
          ],
          [
           "Suan Luang",
           "Ratchapruek Condo"
          ],
          [
           "Watthana",
           "Richy Tower"
          ],
          [
           "Bang Khun Thian",
           "Supalai Park Ratchaphruek-Phetkasem"
          ],
          [
           "Bang Khen",
           "The President Sathorn-Ratchaphruek"
          ],
          [
           "Lat Krabang",
           "The President Sathorn-Ratchaphruek 2"
          ],
          [
           "Suan Luang",
           "Adamas Phahonyotin"
          ],
          [
           "Phaya Thai",
           "Areesamphan Park"
          ],
          [
           "Sathon",
           "Atrium Phahol-Suthisarn"
          ],
          [
           "Bang Kho Laem",
           "Baan Kanchanakom"
          ],
          [
           "Bang Rak",
           "Baxtor Paholyothin 14"
          ],
          [
           "Bang Kapi",
           "Centric Ari Station"
          ],
          [
           "Watthana",
           "Centric Place Ari 4-Phaholyothin"
          ],
          [
           "Phra Khanong",
           "Centric Scene Aree 2"
          ],
          [
           "Watthana",
           "Centric Scene Phaholyothin 9"
          ],
          [
           "Khlong Toei",
           "Centurion Park"
          ],
          [
           "Huai Khwang",
           "Chateau In Town Phaholyothin 11"
          ],
          [
           "Bang Na",
           "Chateau In Town Phaholyothin 14"
          ],
          [
           "Bang Kho Laem",
           "Chateau In Town Phaholyothin 14-2"
          ],
          [
           "Bang Na",
           "D'Rouvre Condominium"
          ],
          [
           "Bang Kapi",
           "Family Complex"
          ],
          [
           "Chatuchak",
           "Family Town"
          ],
          [
           "Ratchathewi",
           "Green Peace Mansion"
          ],
          [
           "Sathon",
           "Harmony Living Paholyothin 11"
          ],
          [
           "Bang Rak",
           "Haven Luxe"
          ],
          [
           "Bang Kho Laem",
           "Haven Phaholyothin"
          ],
          [
           "Sathon",
           "Ideo Mix Phaholyothin"
          ],
          [
           "Din Daeng",
           "Intro Phaholyothin-Pradipat"
          ],
          [
           "Huai Khwang",
           "La Maison 25"
          ],
          [
           "Chatuchak",
           "Le Monaco Residence Ari"
          ],
          [
           "Chatuchak",
           "Le Rich @ Aree station"
          ],
          [
           "Phasi Charoen",
           "Life @ Phahon - Ari"
          ],
          [
           "Huai Khwang",
           "Lot 29"
          ],
          [
           "Yan Nawa",
           "Lumpini Place Phahol-Saphankhwai"
          ],
          [
           "Watthana",
           "Lumpini Ville Phahol-Suthisarn"
          ],
          [
           "Ratchathewi",
           "MB Grand"
          ],
          [
           "Yan Nawa",
           "Noble Lite"
          ],
          [
           "Yan Nawa",
           "Noble Reflex"
          ],
          [
           "Khlong San",
           "Noble Reform"
          ],
          [
           "Thon Buri",
           "Noble Revolve"
          ],
          [
           "Bang Sue",
           "Onyx Phaholyothin"
          ],
          [
           "Huai Khwang",
           "Paholyothin Park"
          ],
          [
           "Chatuchak",
           "Park Pavillion"
          ],
          [
           "Sathon",
           "Phahol Metro"
          ],
          [
           "Ratchathewi",
           "Phasuk Place"
          ],
          [
           "Sathon",
           "Pradipat Condominium"
          ],
          [
           "Sathon",
           "Prom Phaholyothin 2"
          ],
          [
           "Yan Nawa",
           "Royal Park"
          ],
          [
           "Sathon",
           "Royal Park 3 Ari-Paholyothin"
          ],
          [
           "Sathon",
           "SOCIO Inthamara"
          ],
          [
           "Bang Rak",
           "Sailom City Resort"
          ],
          [
           "Phra Khanong",
           "Sailom Condominium"
          ],
          [
           "Huai Khwang",
           "Saphan Kwai Condominium"
          ],
          [
           "Huai Khwang",
           "Sense Phaholyothin"
          ],
          [
           "Din Daeng",
           "Siamese Ratchakru"
          ],
          [
           "Thon Buri",
           "Silk Phaholyothin 9"
          ],
          [
           "Watthana",
           "Silk Sanampao"
          ],
          [
           "Chatuchak",
           "Srisawas Condominium"
          ],
          [
           "Watthana",
           "The Aree Condominium"
          ],
          [
           "Bang Khun Thian",
           "The Capital Ratchaprarop-Vibha"
          ],
          [
           "Bang Sue",
           "The Crest Phahonyothin 11"
          ],
          [
           "Wang Thonglang",
           "The Fah Aree"
          ],
          [
           "Wang Thonglang",
           "The Fine by Fine Home Ari 4 - Paholyothin"
          ],
          [
           "Chatuchak",
           "The Monument Sanampao"
          ],
          [
           "Watthana",
           "The Seed Atom"
          ],
          [
           "Suan Luang",
           "The Seed Phaholyothin"
          ],
          [
           "Wang Thonglang",
           "The Signature Residence"
          ],
          [
           "Bang Kho Laem",
           "The Signature by URBANO"
          ],
          [
           "Bang Phlat",
           "The Silk Phaholyothin 3"
          ],
          [
           "Bang Phlat",
           "The Silk Phaholyothin-Aree 2"
          ],
          [
           "Watthana",
           "The Tempo Phaholyothin"
          ],
          [
           "Ratchathewi",
           "The Vertical Aree"
          ],
          [
           "Pathum Wan",
           "Villa Rachakhru"
          ],
          [
           "Ratchathewi",
           "B Republic"
          ],
          [
           "Ratchathewi",
           "Baan On Nut Sukhumvit 77"
          ],
          [
           "Bang Rak",
           "Casa Condo Sukhumvit 97"
          ],
          [
           "Ratchathewi",
           "Chateau In Town Sukhumvit 62/1"
          ],
          [
           "Khlong Toei",
           "Chateau in Town Sukhumvit 64"
          ],
          [
           "Khlong Toei",
           "Eastwood Park"
          ],
          [
           "Watthana",
           "Elio Condo"
          ],
          [
           "Watthana",
           "Elio Del Ray"
          ],
          [
           "Watthana",
           "Ideo Mobi Sukhumvit"
          ],
          [
           "Watthana",
           "Mayfair Place Sukhumvit 64"
          ],
          [
           "Phaya Thai",
           "My Condo Sukhumvit 52"
          ],
          [
           "Sathon",
           "My Condo Sukhumvit 81"
          ],
          [
           "Sathon",
           "Regent Home 14 Sukhumvit 93"
          ],
          [
           "Khlong San",
           "Regent Home 19 Sukhumvit 93"
          ],
          [
           "Watthana",
           "Regent Home 22 Sukhumvit 85"
          ],
          [
           "Watthana",
           "Regent Orchid Sukhumvit 101"
          ],
          [
           "Bang Rak",
           "Residence 52"
          ],
          [
           "Watthana",
           "Sari by Sansiri"
          ],
          [
           "Watthana",
           "Sukhumvit Garden Place"
          ],
          [
           "Bang Kapi",
           "Symphony Sukhumvit"
          ],
          [
           "Watthana",
           "The Escape"
          ],
          [
           "Watthana",
           "The Green"
          ],
          [
           "Yan Nawa",
           "The Green 2 @ Sukhumvit 101"
          ],
          [
           "Watthana",
           "The Green 3 @ Sukhumvit 101"
          ],
          [
           "Huai Khwang",
           "The Link Sukhumvit 64"
          ],
          [
           "Phaya Thai",
           "The Log 3"
          ],
          [
           "Chatuchak",
           "The Log @ Sukhumvit 101/1"
          ],
          [
           "Watthana",
           "The Muse"
          ],
          [
           "Bang Na",
           "The Next Garden Suite"
          ],
          [
           "Huai Khwang",
           "The Next Sukhumvit 52"
          ],
          [
           "Yan Nawa",
           "The President Sukhumvit"
          ],
          [
           "Ratchathewi",
           "The Residence Sukhumvit 52"
          ],
          [
           "Phaya Thai",
           "The Room Sukhumvit 62"
          ],
          [
           "Pathum Wan",
           "The Room Sukhumvit 64"
          ],
          [
           "Khlong Toei",
           "The Series Udomsuk"
          ],
          [
           "Watthana",
           "The Tropical Condominium"
          ],
          [
           "Watthana",
           "Tree Condo LUXE Sukhumvit 52"
          ],
          [
           "Lak Si",
           "Tree Condo Sukhumvit 52"
          ],
          [
           "Watthana",
           "Whizdom 101"
          ],
          [
           "Sathon",
           "Whizdom @ Punnawithi Station"
          ],
          [
           "Watthana",
           "Whizdom Sukhumvit 64"
          ],
          [
           "Sathon",
           "Bo Bae Tower"
          ],
          [
           "Khlong Toei",
           "Pinnapa On Nut"
          ],
          [
           "Phra Khanong",
           "Prueksa Thani 3 Condotel"
          ],
          [
           "Bang Na",
           "Pruksapirom Condotel"
          ],
          [
           "Bang Na",
           "Sawasdee Bangkok"
          ],
          [
           "Phaya Thai",
           "The Ninth Place"
          ],
          [
           "Khlong San",
           "The Trio Garden"
          ],
          [
           "Phaya Thai",
           "Yong Charoen Complex"
          ],
          [
           "Bang Na",
           "Chapter One"
          ],
          [
           "Phra Khanong",
           "ISSI Condo Suksawat"
          ],
          [
           "Phra Khanong",
           "Ivy River"
          ],
          [
           "Phra Khanong",
           "Lumpini Ville Ratburana-Riverview"
          ],
          [
           "Watthana",
           "Saransook Supreme"
          ],
          [
           "Sathon",
           "AQ Aria Asoke"
          ],
          [
           "Bang Rak",
           "Baan Klang Krung Siam-Pathumwan"
          ],
          [
           "Suan Luang",
           "Baan Klangkrung"
          ],
          [
           "Chatuchak",
           "Baiyoke Tower 1"
          ],
          [
           "Chatuchak",
           "Benjasri Condominium"
          ],
          [
           "Chom Thong",
           "Chewathai Ratchaprarop"
          ],
          [
           "Chom Thong",
           "Circle Condominium"
          ],
          [
           "Bang Na",
           "Circle Living Prototype"
          ],
          [
           "Din Daeng",
           "Condolette Ize Ratchathewi"
          ],
          [
           "Din Daeng",
           "Grand Diamond Pratunam"
          ],
          [
           "Khlong Toei",
           "Ideo Mobi Phayathai"
          ],
          [
           "Yan Nawa",
           "Ideo Q Phayathai"
          ],
          [
           "Suan Luang",
           "Ideo Verve Ratchaprarop"
          ],
          [
           "Bang Rak",
           "Juldis Mansion"
          ],
          [
           "Khlong San",
           "M Phayathai"
          ],
          [
           "Ratchathewi",
           "Maestro 12"
          ],
          [
           "Phra Khanong",
           "Manhattan Chidlom"
          ],
          [
           "Watthana",
           "Noble Revent"
          ],
          [
           "Yan Nawa",
           "Petch 9 Tower"
          ],
          [
           "Phra Khanong",
           "Phayathai Place"
          ],
          [
           "Phra Khanong",
           "Phayathai Plaza"
          ],
          [
           "Watthana",
           "Pyne by Sansiri"
          ],
          [
           "Sathon",
           "Q Asoke"
          ],
          [
           "Ratchathewi",
           "Rajvithi City Resort"
          ],
          [
           "Watthana",
           "Rhythm Asoke"
          ],
          [
           "Khlong San",
           "Rhythm Rangnam"
          ],
          [
           "Sathon",
           "Supalai Elite Phayathai"
          ],
          [
           "Phaya Thai",
           "Supalai Premier Ratchathewi"
          ],
          [
           "Phra Khanong",
           "Supreme Condo Ratchawithi 3"
          ],
          [
           "Pathum Wan",
           "The Address Asoke"
          ],
          [
           "Phra Khanong",
           "The Address Pathumwan"
          ],
          [
           "Huai Khwang",
           "The Address Phayathai"
          ],
          [
           "Phra Khanong",
           "The Address Siam"
          ],
          [
           "Bang Kapi",
           "The Complete Rajprarop"
          ],
          [
           "Lat Phrao",
           "The Line Ratchathewi"
          ],
          [
           "Bang Kapi",
           "The Mark Ratchada-Airport Link"
          ],
          [
           "Huai Khwang",
           "The Platinum"
          ],
          [
           "Din Daeng",
           "Villa Asoke"
          ],
          [
           "Watthana",
           "Villa Rachatewi"
          ],
          [
           "Thon Buri",
           "Wish @ Siam"
          ],
          [
           "Chatuchak",
           "Wish Signature  Midtown Siam"
          ],
          [
           "Prawet",
           "Baan Eua Arthorn Saimai"
          ],
          [
           "Watthana",
           "Keha Chunchon Orngern"
          ],
          [
           "Yan Nawa",
           "Yothin Place"
          ],
          [
           "Sathon",
           "Bangkok River Park"
          ],
          [
           "Pathum Wan",
           "Condo One Soho"
          ],
          [
           "Huai Khwang",
           "Si Phraya River View"
          ],
          [
           "Thon Buri",
           "Amanta Lumpini"
          ],
          [
           "Bang Khae",
           "Baan Nonsi"
          ],
          [
           "Bang Sue",
           "Baan Nunthasiri"
          ],
          [
           "Thon Buri",
           "Baan Siri Sathorn"
          ],
          [
           "Chatuchak",
           "Baan Siri Sathorn Yenakard"
          ],
          [
           "Huai Khwang",
           "Baan Siriyenakat"
          ],
          [
           "Watthana",
           "Bangkok Horizon Lazi"
          ],
          [
           "Ratchathewi",
           "Bangrak Condominium"
          ],
          [
           "Khlong San",
           "Centric Sathorn - Saint Louis"
          ],
          [
           "Phasi Charoen",
           "Fuse Chan - Sathorn"
          ],
          [
           "Phasi Charoen",
           "Lumpini Place Sathorn"
          ],
          [
           "Phra Khanong",
           "Lumpini Place Suanplu-Sathorn"
          ],
          [
           "Watthana",
           "Lumpini Ville Phra Mae Maree - Sathorn"
          ],
          [
           "Huai Khwang",
           "Marsh Tien Zieng"
          ],
          [
           "Huai Khwang",
           "Nara 9 by Eastern Star"
          ],
          [
           "Pathum Wan",
           "Narathorn Place"
          ],
          [
           "Pathum Wan",
           "Rhythm Sathorn"
          ],
          [
           "Phra Khanong",
           "Rhythm Sathorn - Narathiwas"
          ],
          [
           "Pathum Wan",
           "Sathorn Gardens"
          ],
          [
           "Khlong San",
           "Sathorn Heritage"
          ],
          [
           "Watthana",
           "Sathorn Plus - By The Garden"
          ],
          [
           "Bang Rak",
           "Sathorn Plus On The Pond"
          ],
          [
           "Khlong San",
           "St. Louis Grand Terrace"
          ],
          [
           "Khlong San",
           "Supalai Elite Sathorn - Suanplu"
          ],
          [
           "Bang Rak",
           "Supalai Oriental Place Sathorn-Suanplu"
          ],
          [
           "Chatuchak",
           "Supreme Classic"
          ],
          [
           "Thon Buri",
           "Supreme Elegance"
          ],
          [
           "Watthana",
           "Supreme Garden"
          ],
          [
           "Khlong Toei",
           "Supreme Residence"
          ],
          [
           "Phra Khanong",
           "Supreme Ville"
          ],
          [
           "Phra Khanong",
           "The Bangkok Narathiwas Ratchanakarint"
          ],
          [
           "Watthana",
           "The Bangkok Sathon"
          ],
          [
           "Watthana",
           "The Diplomat Sathorn"
          ],
          [
           "Pathum Wan",
           "The Empire Place"
          ],
          [
           "Bang Rak",
           "The Hudson Sathorn 7"
          ],
          [
           "Phaya Thai",
           "The Maple Sathon-Narathiwat"
          ],
          [
           "Pathum Wan",
           "The Met"
          ],
          [
           "Sathon",
           "The Parco"
          ],
          [
           "Khlong Toei",
           "The Seed Mingle"
          ],
          [
           "Phaya Thai",
           "The Station Sathorn - Bangrak"
          ],
          [
           "Huai Khwang",
           "The Sukhothai Residences"
          ],
          [
           "Khlong San",
           "Urbana Sathorn"
          ],
          [
           "Chatuchak",
           "A Space Me Sukhumvit 77"
          ],
          [
           "Phra Khanong",
           "A Space Sukhumvit 77"
          ],
          [
           "Phaya Thai",
           "Baan Sukhumvit 77"
          ],
          [
           "Phaya Thai",
           "Bliz Condominium Rama 9 - Hua Mak"
          ],
          [
           "Phaya Thai",
           "Condo 5 Sor"
          ],
          [
           "Phaya Thai",
           "Fuse Mobius Ramkhamhaeng Station"
          ],
          [
           "Huai Khwang",
           "Lumpini Center Sukhumvit 77"
          ],
          [
           "Bang Na",
           "Lumpini Place Srinakarin"
          ],
          [
           "Yan Nawa",
           "Lumpini Ville Phatthanakan-New Phetchaburi"
          ],
          [
           "Yan Nawa",
           "Lumpini Ville Sukhumvit 77"
          ],
          [
           "Sathon",
           "Lumpini Ville Sukhumvit 77 2"
          ],
          [
           "Sathon",
           "Onnuch Place"
          ],
          [
           "Bang Rak",
           "Pattarasripat Tower"
          ],
          [
           "Bang Na",
           "Premier Place"
          ],
          [
           "Chom Thong",
           "Prima Srinakarin"
          ],
          [
           "Phaya Thai",
           "Regent Pattanakarn"
          ],
          [
           "Pathum Wan",
           "S 1 Rama 9"
          ],
          [
           "Bang Rak",
           "Sirin Residence"
          ],
          [
           "Lat Phrao",
           "Srinakarin Condominium"
          ],
          [
           "Bang Sue",
           "Thairong Tower"
          ],
          [
           "Bang Sue",
           "The Iris"
          ],
          [
           "Watthana",
           "The Leaf"
          ],
          [
           "Prawet",
           "U Delight @ Onnut Station"
          ],
          [
           "Phra Khanong",
           "U Delight Residence"
          ],
          [
           "Bangkok Noi",
           "Lumpini Place Borom Ratchachonni – Pinklao"
          ],
          [
           "Yan Nawa",
           "Aspire Sathorn Thapra"
          ],
          [
           "Chatuchak",
           "Bangkok Horizon Ratchada-Thapra"
          ],
          [
           "Chatuchak",
           "Casa Condo Ratchada Thapra"
          ],
          [
           "Phaya Thai",
           "Casa Condo Ratchada-Ratchaphruek"
          ],
          [
           "Khlong San",
           "Life @ BTS Tha-Phra"
          ],
          [
           "Khlong Toei",
           "Lumpini Place Ratchada-Thapra"
          ],
          [
           "Khlong Toei",
           "Motif Condo"
          ],
          [
           "Khlong Toei",
           "Nyx by Sansiri"
          ],
          [
           "Bang Kapi",
           "Pela Wutthakat"
          ],
          [
           "Watthana",
           "Prayapirom Chateau Riverboat"
          ],
          [
           "Chatuchak",
           "Supalai River Resort"
          ],
          [
           "Bang Phlat",
           "TEAL Sathorn-Taksin"
          ],
          [
           "Huai Khwang",
           "The Niche Taksin"
          ],
          [
           "Khlong Toei",
           "The Parkland Grand Taksin"
          ],
          [
           "Watthana",
           "The Parkland Taksin-Thapra"
          ],
          [
           "Pathum Wan",
           "The Room Sathorn-Taksin"
          ],
          [
           "Khlong San",
           "Assagarn Place Ladprao 85"
          ],
          [
           "Khlong San",
           "Baan Bodin"
          ],
          [
           "Watthana",
           "Baan Ratchada"
          ],
          [
           "Khlong Toei",
           "Be You Chokchai 4"
          ],
          [
           "Khlong Toei",
           "Bodin Suite Home"
          ],
          [
           "Phra Khanong",
           "Commune 80"
          ],
          [
           "Chatuchak",
           "Grand Park Town"
          ],
          [
           "Khlong Toei",
           "Hampton Place"
          ],
          [
           "Phra Khanong",
           "Happy Condo Ladprao 101"
          ],
          [
           "Bang Sue",
           "J.W. Boulevard Srivara"
          ],
          [
           "Bang Sue",
           "LIB Ramkhamhaeng 43/1"
          ],
          [
           "Bang Sue",
           "Ladprao Condo Town"
          ],
          [
           "Bang Kapi",
           "Lumpini Condo Town Bodindecha - Ramkhamhaeng"
          ],
          [
           "Huai Khwang",
           "Lumpini Ville Latphrao-Chokchai 4"
          ],
          [
           "Chatuchak",
           "Mahadthai Condotel"
          ],
          [
           "Suan Luang",
           "Tara Ruankaew"
          ],
          [
           "Chatuchak",
           "Tara Ruen Ake"
          ],
          [
           "Suan Luang",
           "Than Living"
          ],
          [
           "Yan Nawa",
           "15 Suite"
          ],
          [
           "Khlong Toei",
           "15 Sukhumvit Residences"
          ],
          [
           "Watthana",
           "39 Suites"
          ],
          [
           "Pathum Wan",
           "49 Plus"
          ],
          [
           "Sathon",
           "49 Suite"
          ],
          [
           "Watthana",
           "59 Heritage"
          ],
          [
           "Khlong San",
           "Acadamia Grand Tower"
          ],
          [
           "Khlong Toei",
           "Aequa Sukhumvit 49"
          ],
          [
           "Bang Kapi",
           "Art @ Thonglor 25"
          ],
          [
           "Chatuchak",
           "Ascent Ekamai-Thonglor"
          ],
          [
           "Chatuchak",
           "Ashton Asoke"
          ],
          [
           "Huai Khwang",
           "Ashton Residence 41"
          ],
          [
           "Bang Rak",
           "Avenue 61"
          ],
          [
           "Watthana",
           "Baan Saraan"
          ],
          [
           "Watthana",
           "Baan Siri 31"
          ],
          [
           "Watthana",
           "Bangkok Feliz Sukhumvit 69"
          ],
          [
           "Chatuchak",
           "Belgravia Residences"
          ],
          [
           "Chatuchak",
           "Beverly 33"
          ],
          [
           "Ratchathewi",
           "Blocs 77"
          ],
          [
           "Phaya Thai",
           "Ceil by Sansiri"
          ],
          [
           "Ratchathewi",
           "Circle Sukhumvit 11"
          ],
          [
           "Khlong San",
           "Circle Sukhumvit 31"
          ],
          [
           "Watthana",
           "City Resort Sukhumvit 49"
          ],
          [
           "Watthana",
           "Click Condo Sukhumvit 65"
          ],
          [
           "Khlong Toei",
           "Condo One Sukhumvit 67"
          ],
          [
           "Watthana",
           "D 25 Thonglor"
          ],
          [
           "Khlong Toei",
           "D 65"
          ],
          [
           "Bang Na",
           "D.S. Tower 1 Sukhumvit 33"
          ],
          [
           "Khlong Toei",
           "D.S. Tower 2 Sukhumvit 39"
          ],
          [
           "Watthana",
           "DLV Thonglor 20"
          ],
          [
           "Khlong Toei",
           "Diamond Sukhumvit"
          ],
          [
           "Watthana",
           "Downtown Forty Nine"
          ],
          [
           "Watthana",
           "Edge Sukhumvit 23"
          ],
          [
           "Lat Phrao",
           "Eight Thonglor Residence"
          ],
          [
           "Khlong San",
           "Empire House"
          ],
          [
           "Watthana",
           "European Central Place"
          ],
          [
           "Bang Khen",
           "Fragrant 71"
          ],
          [
           "Lat Phrao",
           "Fullerton"
          ],
          [
           "Phra Khanong",
           "Grand Heritage Thonglor"
          ],
          [
           "Phra Khanong",
           "Grand Park View"
          ],
          [
           "Chatuchak",
           "H Sukhumvit 43"
          ],
          [
           "Phra Khanong",
           "HQ by Sansiri"
          ],
          [
           "Chatuchak",
           "Hampton Thonglor 10"
          ],
          [
           "Khlong Toei",
           "Harmony Living Sukhumvit 15"
          ],
          [
           "Chatuchak",
           "Hasu Haus"
          ],
          [
           "Watthana",
           "Hive Sukhumvit 65"
          ],
          [
           "Bang Rak",
           "Hyde Sukhumvit"
          ],
          [
           "Ratchathewi",
           "Hyde Sukhumvit 11"
          ],
          [
           "Ratchathewi",
           "Ivy Thonglor"
          ],
          [
           "Khlong Toei",
           "J.C. Tower"
          ],
          [
           "Yan Nawa",
           "Keyne"
          ],
          [
           "Prawet",
           "LIV @5"
          ],
          [
           "Sai Mai",
           "Le Cosi Ekamai 28"
          ],
          [
           "Chatuchak",
           "Le Cote Thonglor 8"
          ],
          [
           "Huai Khwang",
           "Le Luk"
          ],
          [
           "Watthana",
           "Le Nice Ekamai"
          ],
          [
           "Khlong Toei",
           "Le Raffine Jambu Dvipa Sukhumvit 39"
          ],
          [
           "Bangkok Noi",
           "Le Raffine Jambunuda Sukhumvit 31"
          ]
         ],
         "hovertemplate": "predicted_price_sqm_next_year=%{z}<br>latitude=%{lat}<br>longitude=%{lon}<br>district=%{customdata[0]}<br>name=%{customdata[1]}<extra></extra>",
         "lat": [
          13.787434800000002,
          13.7458385,
          13.7417822,
          13.735172,
          13.80675724963851,
          13.7181886,
          13.736760000000002,
          13.730318999999998,
          13.729458800000002,
          13.72432,
          13.766348,
          13.822003699999998,
          13.684352200000001,
          13.6843493,
          13.756541800000003,
          13.756559,
          13.832713,
          13.7108577,
          13.7890598,
          13.710769199999996,
          13.753838,
          13.804489099999998,
          13.818451800000002,
          13.679875,
          13.7294225,
          13.779476,
          13.7524478,
          13.727664,
          13.725045999999999,
          13.7364608,
          13.9175797,
          13.723132999999999,
          13.739280100000002,
          13.723377999999999,
          13.765681,
          13.7736074,
          13.739678,
          13.736135999999998,
          13.738613199999998,
          13.7208699,
          13.733111,
          13.770286000000002,
          13.855757000000002,
          13.711812,
          13.7558192,
          13.830744700000002,
          13.7160353,
          13.71308,
          13.7836826,
          13.817282000000002,
          13.7410535,
          13.787872999999998,
          13.700005,
          13.6966976,
          13.724814700000001,
          13.684239000000002,
          13.768706,
          13.795992000000002,
          13.7720582,
          13.703588,
          13.787311800000001,
          13.921770000000002,
          13.7789137,
          13.752714199999998,
          13.7527114,
          13.715372,
          13.741274000000002,
          13.825345100000002,
          13.706313400000003,
          13.7221713,
          13.7090405,
          13.8208115,
          13.738898999999996,
          13.787981900000002,
          13.73509,
          13.8266614,
          13.746011,
          13.7195223,
          13.737909,
          13.7412094,
          13.708764200000001,
          13.7170614,
          13.7208417,
          13.736969799999999,
          13.716634000000003,
          13.879629199999998,
          13.914570999999999,
          13.8214216,
          13.671965,
          13.781261999999998,
          13.7203316,
          13.734873,
          13.824377099999998,
          13.7951417,
          13.7531124,
          13.804379299999999,
          13.771784099999998,
          13.710834,
          13.776791500000002,
          13.829387,
          13.716034,
          13.823053,
          13.700714800000002,
          13.712929,
          13.715643400000001,
          13.7140108,
          13.7629449,
          13.708024599999998,
          13.773017899999997,
          13.789130099999998,
          13.739457000000002,
          13.6715169,
          13.672745999999998,
          13.674655599999998,
          13.713923199999998,
          13.772426000000001,
          13.786902,
          13.797966,
          13.7270842,
          13.759437,
          13.700509,
          13.7584497,
          13.846497300000001,
          13.840844199999998,
          13.735079,
          13.676644199999998,
          13.773062,
          13.739271999999998,
          13.7102935,
          13.7541021,
          13.7687721,
          13.7847493,
          13.8328,
          13.7036693,
          13.7239163,
          13.802865,
          13.784486,
          13.7409355,
          13.688423,
          13.760341,
          13.713514000000002,
          13.7139749,
          13.698035,
          13.8841655,
          13.657984,
          13.730620000000002,
          13.778241000000001,
          13.784235999999998,
          13.780398400000001,
          13.790078,
          13.718681,
          13.779903000000001,
          13.786165099999996,
          13.830676,
          13.683518799999998,
          13.7828352,
          13.806501,
          13.676828699999998,
          13.81989,
          13.733351,
          13.675387099999998,
          13.8384738,
          13.697443300000002,
          13.831677199999998,
          13.787668,
          13.786032,
          13.785896942892702,
          13.834602900000002,
          13.77106,
          13.782208,
          13.784868,
          13.792195,
          13.792434,
          13.821032,
          13.692466,
          13.823278,
          13.69059,
          13.710230000000001,
          13.806335999999998,
          13.7613824,
          13.761792600000001,
          13.806349900000003,
          13.748066899999998,
          13.827898,
          13.749861200000002,
          13.7498295,
          13.735480300000003,
          13.745889000000002,
          13.7353741,
          13.741077,
          13.721319,
          13.7813618,
          13.771997900000002,
          13.8041778,
          13.654805599999998,
          13.681912999999998,
          13.728689999999999,
          13.770947,
          13.770773999999998,
          13.730940900000002,
          13.790062,
          13.772597499999998,
          13.750933,
          13.7226088774125,
          13.723304999999998,
          13.782611,
          13.8025742,
          13.7021742,
          13.808976999999999,
          13.804850000000002,
          13.807806,
          13.799664000000002,
          13.712534,
          13.749031300000002,
          13.7364346,
          13.718132,
          13.721765,
          13.700557000000002,
          13.7251032,
          13.7519349,
          13.834783099999997,
          13.726157999999998,
          13.7534337,
          13.7252229,
          13.718235,
          13.673274,
          13.7445379,
          13.739070000000002,
          13.7217048,
          13.7392133,
          13.770521,
          13.721717000000002,
          13.8530604,
          13.7496291,
          13.7646919,
          13.683680300000002,
          13.7771454,
          13.7747556,
          13.737460500000001,
          13.740685999999998,
          13.8906482,
          13.738862,
          13.774685,
          13.77481822717738,
          13.7083215,
          13.724639,
          13.733518,
          13.818254,
          13.740072,
          13.78796220557942,
          13.759213,
          13.8092339,
          13.780228,
          13.817792,
          13.706722699999998,
          13.736655,
          13.7308632,
          13.825456,
          13.685237300000002,
          13.6846914,
          13.7753166,
          13.729900699999998,
          13.809591199999998,
          13.722005,
          13.739623,
          13.7578843,
          13.790959400000002,
          13.8238203,
          13.794185999999998,
          13.7924255,
          13.713928,
          13.869206300000002,
          13.739713099999998,
          13.7268414,
          13.773446,
          13.75449965148682,
          13.719882,
          13.721706,
          13.7055804,
          13.7454814,
          13.72056,
          13.711016,
          13.8160149,
          13.749688,
          13.7589029,
          13.827334400000002,
          13.7506947,
          13.734618000000001,
          13.772345,
          13.7438737,
          13.792792000000002,
          13.7165819,
          13.789051999999998,
          13.733122,
          13.77547,
          13.72989,
          13.764319,
          13.732173,
          13.7402759,
          13.788084,
          13.91241,
          13.7836924,
          13.748245,
          13.787359,
          13.7461219,
          13.7142976,
          13.805310999999998,
          13.7883197,
          13.788006,
          13.7211824,
          13.720662000000003,
          13.721967,
          13.8166168,
          13.788607,
          13.7404387,
          13.7437321,
          13.709687999999998,
          13.783051,
          13.749674,
          13.7485065,
          13.751741,
          13.722091,
          13.681384,
          13.723625999999998,
          13.721782,
          13.6785144,
          13.8066019,
          13.810623,
          13.7948974,
          13.680982700000001,
          13.7586908,
          13.755632000000002,
          13.720344,
          13.703979700000001,
          13.6657058,
          13.818788,
          13.7207625,
          13.7556453,
          13.778634,
          13.720285999999998,
          13.754665,
          13.705806699999998,
          13.776670999999999,
          13.8666203,
          13.7549446,
          13.791898000000002,
          13.716082000000002,
          13.763571,
          13.7910882,
          13.770514000000002,
          13.687670900000002,
          13.723707999999998,
          13.737220000000002,
          13.7436915,
          13.770975,
          13.8167895,
          13.806351000000001,
          13.7216823,
          13.7984762,
          13.773813,
          13.752287,
          13.907001099999999,
          13.725106599999998,
          13.774031699999997,
          13.7418565,
          13.747592,
          13.725639,
          13.657705900000002,
          13.7263004,
          13.804891,
          13.764242,
          13.743803,
          13.7040999,
          13.820001999999999,
          13.7921288,
          13.660788800000002,
          13.661559699999998,
          13.72191,
          13.788481599999999,
          13.734647400000002,
          13.7308291,
          13.739639000000002,
          13.748415,
          13.73766,
          13.736241,
          13.731082,
          13.7137856,
          13.787632,
          13.725715,
          13.733091,
          13.734026,
          13.7255665,
          13.779076000000002,
          13.789594,
          13.690756999999998,
          13.725671599999998,
          13.762058,
          13.805164000000001,
          13.717926,
          13.8078998,
          13.789243999999998,
          13.803741699999998,
          13.7786329,
          13.790947600000003,
          13.722662099999999,
          13.716890300000005,
          13.716752,
          13.7500794,
          13.711731,
          13.7285432,
          13.793032000000002,
          13.800166,
          13.803332,
          13.77384,
          13.77133,
          13.778594,
          13.711974,
          13.7074598,
          13.7623696,
          13.775785999999998,
          13.8626747,
          13.872564,
          13.837006900000002,
          13.7938872,
          13.780819,
          13.753558500000002,
          13.678957,
          13.7851554,
          13.696404500000002,
          13.700484,
          13.683414,
          13.790687099999998,
          13.774792899999998,
          13.774826,
          13.712898999999998,
          13.6924686,
          13.690533,
          13.718362000000003,
          13.772670000000002,
          13.871147500000001,
          13.708928999999998,
          13.8304423,
          13.711201,
          13.7371502,
          13.7206172,
          13.6914149,
          13.7728866,
          13.698367999999999,
          13.730076200000001,
          13.771199499999998,
          13.661083499999998,
          13.795845000000002,
          13.788891599999998,
          13.7363726,
          13.7045172,
          13.84561829117466,
          13.872533,
          13.7537098,
          13.762082,
          13.6876218,
          13.712195999999999,
          13.7124897,
          13.79746,
          13.816412699999995,
          13.7609474,
          13.7271577,
          13.7306473,
          13.729787799999999,
          13.787746,
          13.722672,
          13.7358283,
          13.753905599999998,
          13.7399125,
          13.7426494,
          13.727925223538618,
          13.769498,
          13.7267609,
          13.681835,
          13.749032,
          13.720782099999997,
          13.6872857,
          13.7060543,
          13.7782086,
          13.711716800000001,
          13.70851,
          13.7842547,
          13.67586060548494,
          13.730556,
          13.735229000000002,
          13.697222700000001,
          13.7592743,
          13.730349,
          13.8095895,
          13.727223,
          13.7869205,
          13.804201,
          13.805450999999998,
          13.775436400000002,
          13.7226092,
          13.678384000000001,
          13.703692000000002,
          13.705559,
          13.748482999999998,
          13.7418541,
          13.717863,
          13.720003,
          13.7385236,
          13.7351281,
          13.7834185,
          13.740961999999998,
          13.7347978,
          13.735204999999999,
          13.742338600000002,
          13.778748,
          13.736729,
          13.7432876,
          13.741957,
          13.78206,
          13.781364999999997,
          13.725031300000001,
          13.722085699999997,
          13.7574921,
          13.719561999999998,
          13.778418,
          13.76356,
          13.763875,
          13.740407999999999,
          13.658198,
          13.893069000000002,
          13.719768500000002,
          13.7213342,
          13.715854,
          13.744987999999998,
          13.7100861,
          13.79141,
          13.7384418,
          13.6742409,
          13.917462699999998,
          13.692394,
          13.755680599999998,
          13.675513699999998,
          13.722695499999999,
          13.786469,
          13.713732999999998,
          13.809176999999998,
          13.703187,
          13.800035,
          13.724692999999998,
          13.7836897,
          13.8908572,
          13.8923585,
          13.748501,
          13.7963687,
          13.7328017,
          13.727763999999999,
          13.713016,
          13.7533613,
          13.8158753,
          13.786506000000001,
          13.7778938,
          13.758350699999996,
          13.7560692,
          13.8271051,
          13.7806113,
          13.784339,
          13.6948339,
          13.710254,
          13.789471300000002,
          13.8238813,
          13.7184713,
          13.747076000000002,
          13.7941266,
          13.781605,
          13.797392999999998,
          13.7064421,
          13.735807599999998,
          13.7425724,
          13.831714800000002,
          13.840523,
          13.7225995,
          13.7145311,
          13.7346326,
          13.756232699999998,
          13.7772555,
          13.7894908,
          13.720199,
          13.720631,
          13.7519865,
          13.748953200000003,
          13.7388931,
          13.721236,
          13.7074135,
          13.723864,
          13.728012699999994,
          13.786611,
          13.763010000000001,
          13.826978400000002,
          13.7835378,
          13.7803171,
          13.811272000000002,
          13.772408,
          13.795315000000002,
          13.8179771,
          13.7303355,
          13.763788126962195,
          13.8882008,
          13.887363000000002,
          13.802077300000004,
          13.7030282308771,
          13.8772835,
          13.887109,
          13.700215,
          13.816179,
          13.705071,
          13.879824,
          13.8252025,
          13.675166,
          13.6903107,
          13.723564499999998,
          13.739003,
          13.7456426,
          13.7025384,
          13.710826999999997,
          13.798748800000002,
          13.75432861921784,
          13.7539376,
          13.761155,
          13.778061,
          13.7179207,
          13.718019100000001,
          13.7063704,
          13.7214807,
          13.717754199999998,
          13.715271,
          13.806394699999998,
          13.82274,
          13.722692000000002,
          13.7011013,
          13.795251699999998,
          13.782797299999999,
          13.780214,
          13.740294,
          13.743870899999997,
          13.7031766,
          13.684164,
          13.7302759,
          13.788348553967769,
          13.724686300000002,
          13.7364535,
          13.7988781,
          13.8069372,
          13.778067000000002,
          13.7831475,
          13.8330714,
          13.7266971,
          13.725248,
          13.791773,
          13.682963,
          13.735489,
          13.6871857,
          13.830106,
          13.72386,
          13.716231,
          13.706040199999999,
          13.716015,
          13.716068,
          13.698358,
          13.788890300000002,
          13.678022,
          13.726369,
          13.7320289,
          13.738238699999998,
          13.742983,
          13.775804699999998,
          13.729847400000002,
          13.739308,
          13.78606,
          13.878576899999999,
          13.774477,
          13.728049,
          13.721378,
          13.727075,
          13.71855,
          13.736931,
          13.7279984,
          13.7229356,
          13.796048000000003,
          13.737250299999998,
          13.7139911,
          13.6581639,
          13.858725,
          13.721785999999998,
          13.712123000000004,
          13.7932704,
          13.719351,
          13.6873275,
          13.722195999999999,
          13.761139999999997,
          13.746866,
          13.6976503,
          13.746173500000001,
          13.713559399999998,
          13.751602599999998,
          13.6655797,
          13.695045399999998,
          13.661478600000002,
          13.752462,
          13.8344853,
          13.756751,
          13.721064300000002,
          13.730497,
          13.7018274,
          13.71976,
          13.7562714,
          13.743109,
          13.840430599999998,
          13.822725000000002,
          13.719514000000002,
          13.748257,
          13.698834699999995,
          13.742502999999997,
          13.7552267,
          13.6881513,
          13.6778439,
          13.7103092,
          13.70874,
          13.818338,
          13.766708800000002,
          13.8050758,
          13.708832999999998,
          13.76142,
          13.705764000000002,
          13.7168485,
          13.713134,
          13.709124,
          13.714799,
          13.7285858,
          13.696288,
          13.754826,
          13.7811616,
          13.7755277,
          13.7207679,
          13.7329674,
          13.806664,
          13.737239,
          13.6637043,
          13.801888999999997,
          13.762068999999999,
          13.7633509,
          13.82598,
          13.729057,
          13.735757,
          13.7677404,
          13.7005889,
          13.775356999999998,
          13.774062,
          13.729841,
          13.749202,
          13.747851,
          13.751344,
          13.75936,
          13.722864800000002,
          13.752393,
          13.728031999999999,
          13.717102100000002,
          13.72359,
          13.72988,
          13.731050999999999,
          13.73557,
          13.781854,
          13.709165,
          13.7187616,
          13.7206291,
          13.730637,
          13.726290400000002,
          13.731138,
          13.713360799999998,
          13.713043,
          13.7479899,
          13.7106029,
          13.713965,
          13.6965348,
          13.740773999999998,
          13.743864999999998,
          13.764005,
          13.801447400000002,
          13.735053099999996,
          13.6712089,
          13.777528,
          13.7032596,
          13.7605038,
          13.788278000000002,
          13.736856,
          13.729242999999999,
          13.7253824,
          13.730464,
          13.889535,
          13.7315113,
          13.719609699999998,
          13.743093900000002,
          13.719029999999998,
          13.723197,
          13.687453999999999,
          13.6618777,
          13.6602685,
          13.782331,
          13.717657500000001,
          13.780935,
          13.6574651,
          13.6892327,
          13.695732,
          13.692488,
          13.7373535,
          13.721326,
          13.723399800000006,
          13.744649,
          13.809079999999998,
          13.836335,
          13.713675,
          13.7138594,
          13.657770899999997,
          13.786794,
          13.786444999999999,
          13.733698599999999,
          13.711929500000002,
          13.7395205,
          13.725467,
          13.7223695,
          13.7525291,
          13.686628,
          13.718323,
          13.708801,
          13.686214199999997,
          13.685911,
          13.729388,
          13.71254888247649,
          13.7541974,
          13.7405092,
          13.721684,
          13.722945,
          13.769257899999998,
          13.685349,
          13.746249000000002,
          13.703851729740904,
          13.800157,
          13.703560000000001,
          13.770226999999998,
          13.808394,
          13.771679999999996,
          13.796121,
          13.778938,
          13.744220000000002,
          13.7267298,
          13.8499208,
          13.6879568,
          13.74649,
          13.67291,
          13.709187699999998,
          13.747654,
          13.748736,
          13.716534000000001,
          13.710678599999998,
          13.829043400000002,
          13.716404999999998,
          13.8148381,
          13.7756566,
          13.748157999999998,
          13.7505328,
          13.722445,
          13.7204,
          13.7193411,
          13.70499,
          13.744051,
          13.800425,
          13.801273000000002,
          13.7401806,
          13.749075799999998,
          13.7032221,
          13.7401923,
          13.7201072,
          13.733522900000002,
          13.723782300000002,
          13.72181,
          13.720806,
          13.7287051,
          13.8044116,
          13.717997199999996,
          13.7432593,
          13.71634,
          13.690157999999998,
          13.686283,
          13.714176,
          13.707534000000003,
          13.742695,
          13.725792699999998,
          13.78399,
          13.747834,
          13.719953,
          13.7255764,
          13.787004,
          13.776465,
          13.723487,
          13.83044,
          13.679431,
          13.781351999999998,
          13.793445000000002,
          13.774033,
          13.779467000000002,
          13.784156400000002,
          13.675919000000002,
          13.696680999999998,
          13.674892000000002,
          13.713145,
          13.7213336,
          13.729089300000002,
          13.670673999999996,
          13.713335,
          13.776202,
          13.739278,
          13.7237246,
          13.804398400000002,
          13.8064031,
          13.8009771,
          13.740456,
          13.700512,
          13.707568300000002,
          13.7859628,
          13.694738900000003,
          13.808902000000002,
          13.805396,
          13.778545,
          13.723185999999998,
          13.7267703,
          13.708266999999998,
          13.707053800000002,
          13.7548249,
          13.732486,
          13.810254999999996,
          13.776829600000001,
          13.744476,
          13.725004,
          13.735693,
          13.739303,
          13.7227,
          13.722607,
          13.734618100000002,
          13.725600999999997,
          13.716199999999999,
          13.7029732,
          13.8044891,
          13.7150876,
          13.702768,
          13.8190008,
          13.825082499999999,
          13.8118339,
          13.751866199999997,
          13.772474,
          13.797316,
          13.711507,
          13.824347,
          13.7398277,
          13.675553,
          13.713333999999998,
          13.739382,
          13.7396389,
          13.723404100000002,
          13.744733,
          13.720819,
          13.722645000000002,
          13.765615,
          13.810277199999998,
          13.8306259,
          13.744186,
          13.732214999999998,
          13.739241,
          13.730425,
          13.731405,
          13.8104619,
          13.8044561,
          13.749061900000001,
          13.775918599999999,
          13.7542727,
          13.7211516,
          13.740122499999998,
          13.737557,
          13.713779999999998,
          13.713985,
          13.7230262,
          13.6577314,
          13.727879,
          13.741846,
          13.717616,
          13.7422998,
          13.7129333,
          13.810856700000002,
          13.7116082,
          13.743620000000002,
          13.847096,
          13.8099164,
          13.6859726,
          13.689278,
          13.8056756,
          13.689828,
          13.833690000000002,
          13.72841,
          13.828316,
          13.739682299999998,
          13.732131099999997,
          13.751201000000002,
          13.752167000000002,
          13.725206,
          13.711323000000002,
          13.693183,
          13.893317800000002,
          13.8376968,
          13.7771254,
          13.712310999999996,
          13.716323,
          13.756735
         ],
         "lon": [
          100.6315637,
          100.5589602,
          100.5586307,
          100.53887899999997,
          100.52066780539828,
          100.577788,
          100.574387,
          100.575521,
          100.5758595,
          100.58187,
          100.649395,
          100.5767084,
          100.61479810000002,
          100.6149212,
          100.5596965,
          100.5597817,
          100.616544,
          100.635632,
          100.5886786,
          100.6355847,
          100.564418,
          100.5783568,
          100.5632192,
          100.607099,
          100.57299240000002,
          100.539161,
          100.6155072,
          100.575539,
          100.56490499999995,
          100.7463775,
          100.5861628,
          100.492426,
          100.5492145,
          100.55117999999992,
          100.56770900000001,
          100.5380454,
          100.582094,
          100.586863,
          100.5616036,
          100.5792944,
          100.572711,
          100.638799,
          100.548118,
          100.584202,
          100.5672938,
          100.5254107,
          100.4798153,
          100.464148,
          100.6137831,
          100.577895,
          100.5495413,
          100.55247400000002,
          100.4963269,
          100.5043217,
          100.5834478,
          100.624813,
          100.63887599999998,
          100.558595,
          100.6160749,
          100.507787,
          100.6700212,
          100.65518,
          100.54753179999999,
          100.53311319999999,
          100.5330292,
          100.551035,
          100.543691,
          100.6301789,
          100.5361181,
          100.5441669,
          100.6184528,
          100.5871456,
          100.5395948,
          100.5902926,
          100.5392,
          100.58142800000002,
          100.568918,
          100.50858050000001,
          100.566226,
          100.54960929999999,
          100.5381477,
          100.5475383,
          100.52130740000001,
          100.5570201,
          100.54697,
          100.6103106,
          100.56507020000001,
          100.5808139,
          100.466644,
          100.5116,
          100.6166749,
          100.541283,
          100.61867,
          100.5649576,
          100.5399697,
          100.5132016,
          100.6446737,
          100.4110147,
          100.4588859,
          100.57015,
          100.591835,
          100.56305200000001,
          100.5357916,
          100.533045,
          100.4456439,
          100.441115,
          100.6484782,
          100.4808199,
          100.4704338,
          100.5019185,
          100.50219,
          100.6359828,
          100.595703,
          100.5991053,
          100.5135799,
          100.49264699999999,
          100.55309,
          100.596101,
          100.5744071,
          100.569299,
          100.535488,
          100.5333563,
          100.563138,
          100.6637682,
          100.567426,
          100.6034393,
          100.63424609999998,
          100.643989,
          100.6018849,
          100.5160031,
          100.6125529,
          100.56966629999998,
          100.569919,
          100.53990120000002,
          100.5669015,
          100.570152,
          100.582828,
          100.5255794,
          100.514401,
          100.5553557,
          100.477134,
          100.4762206,
          100.60714400000006,
          100.60544509999998,
          100.606231,
          100.587838,
          100.5424026,
          100.5438803,
          100.573794,
          100.57344,
          100.52692799999998,
          100.54196699999999,
          100.5462928,
          100.532587,
          100.6104076,
          100.5414251,
          100.56584199999999,
          100.46108870000002,
          100.662885,
          100.529753,
          100.5171327,
          100.5747426,
          100.4953144,
          100.57538580000002,
          100.544489,
          100.54887,
          100.54847805542043,
          100.5794487,
          100.573999,
          100.571087,
          100.572169,
          100.575528,
          100.575456,
          100.588484,
          100.605079,
          100.5631512,
          100.605267,
          100.51093000000002,
          100.52982140000002,
          100.6331327,
          100.5425459,
          100.5224624,
          100.5445886,
          100.675572,
          100.5558436,
          100.5561363,
          100.55799920000001,
          100.555932,
          100.55801229999999,
          100.566653,
          100.49321299999995,
          100.5724691,
          100.5754699,
          100.512051,
          100.64764,
          100.61032300000001,
          100.473954,
          100.57665500000002,
          100.57744399999999,
          100.5758164,
          100.572762,
          100.62994,
          100.57502200000002,
          100.58792548280337,
          100.531844,
          100.602703,
          100.5626605,
          100.6345936,
          100.570525,
          100.57003740000002,
          100.569706,
          100.573861,
          100.549074,
          100.5274537,
          100.5141561,
          100.59027399999998,
          100.580699,
          100.53551369999998,
          100.569128,
          100.6365273,
          100.5808539,
          100.570639,
          100.5310164,
          100.5331073,
          100.549444,
          100.599258,
          100.5491435,
          100.582743,
          100.5883431,
          100.4474637,
          100.469714,
          100.721294,
          100.6358916,
          100.6076671,
          100.653647,
          100.537787,
          100.5457159,
          100.5616417,
          100.5687449,
          100.570678,
          100.5855823,
          100.58714370000001,
          100.573913,
          100.57473110473065,
          100.5996477,
          100.52955899999999,
          100.562771,
          100.5913593,
          100.578014,
          100.58323962352571,
          100.5876488,
          100.6036577,
          100.507089,
          100.579421,
          100.6234501,
          100.562968,
          100.5815792,
          100.56728419999999,
          100.6043793,
          100.6044902,
          100.569683,
          100.5911222,
          100.5580046,
          100.562286,
          100.55852,
          100.6393122,
          100.5585609,
          100.6101449,
          100.588656,
          100.5592444,
          100.58958300000002,
          100.556361,
          100.5518729,
          100.5371483,
          100.573809,
          100.64594708717071,
          100.597821,
          100.582209,
          100.53059609999998,
          100.6020654,
          100.49705099999998,
          100.396394,
          100.5724257,
          100.574567,
          100.6169983,
          100.6242368,
          100.5388313,
          100.578558,
          100.596149,
          100.56226450000001,
          100.539578,
          100.572481,
          100.585099,
          100.574055,
          100.643378,
          100.581533,
          100.6274608,
          100.583685,
          100.5397494,
          100.628624,
          100.590989,
          100.5854132,
          100.6094502,
          100.546026,
          100.5589877,
          100.6023361,
          100.575814,
          100.5531287,
          100.553419,
          100.50285289999998,
          100.588166,
          100.496396,
          100.5676307,
          100.580582,
          100.5574381,
          100.5566587,
          100.42960600000002,
          100.671011,
          100.580419,
          100.5783025,
          100.590579,
          100.7183419,
          100.4935561,
          100.56719900000002,
          100.49549300000001,
          100.60887259999998,
          100.5728596,
          100.56585799999999,
          100.5501869,
          100.6100224,
          100.5328382,
          100.56559200000001,
          100.50278,
          100.6018982,
          100.603767,
          100.532266,
          100.5793054,
          100.5329888,
          100.57486300000004,
          100.50214699999998,
          100.542459,
          100.6010337,
          100.662234,
          100.6128239,
          100.6261364,
          100.539143,
          100.58509900000001,
          100.568318,
          100.5748954,
          100.484875,
          100.4920929,
          100.526711,
          100.583144,
          100.5809488,
          100.608256,
          100.5875195,
          100.600618,
          100.5194583,
          100.5873137,
          100.578183,
          100.538476,
          100.6735579,
          100.5771779,
          100.56953980000002,
          100.5442426,
          100.52824400000002,
          100.531585,
          100.6036148,
          100.5696144,
          100.570934,
          100.615346,
          100.55469999999998,
          100.5421684,
          100.568303,
          100.5478707,
          100.60613679999999,
          100.62214620000002,
          100.57662299999993,
          100.6047987,
          100.5559309,
          100.560555,
          100.543108,
          100.64571989999999,
          100.592661,
          100.560007,
          100.582629,
          100.5932456,
          100.544128,
          100.585253,
          100.570778,
          100.56595,
          100.567548,
          100.54130899999998,
          100.571944,
          100.534618,
          100.585004,
          100.59147,
          100.569802,
          100.477674,
          100.5701861,
          100.548041,
          100.57762980000001,
          100.5744658,
          100.5743606,
          100.5274385,
          100.5889868,
          100.590241,
          100.5646786,
          100.594897,
          100.57565840000001,
          100.559391,
          100.606329,
          100.569584,
          100.64153,
          100.637772,
          100.643136,
          100.605143,
          100.42076,
          100.61601450000002,
          100.658302,
          100.6133792,
          100.60261409999998,
          100.6640715,
          100.65193419999999,
          100.475056,
          100.57622980000001,
          100.527795,
          100.46076109999998,
          100.5450448,
          100.535077,
          100.5481316,
          100.5436665,
          100.4808298,
          100.48075600000001,
          100.582766,
          100.5016424,
          100.505125,
          100.54999699999999,
          100.49188300000004,
          100.6024707,
          100.481702,
          100.5701125,
          100.535462,
          100.6415583,
          100.5405198,
          100.4811023,
          100.4916156,
          100.53966430000001,
          100.57197109999998,
          100.5836959,
          100.6239914,
          100.592383,
          100.55183709999999,
          100.6170773,
          100.52522550000002,
          100.5425317896107,
          100.6029147,
          100.6310284,
          100.64092159999998,
          100.4907788,
          100.60526200000004,
          100.6068454,
          100.551105,
          100.5619832,
          100.5361446,
          100.5274472,
          100.5867884,
          100.5707953,
          100.547059,
          100.58283,
          100.55077359999999,
          100.5296962,
          100.5724903,
          100.5400224,
          100.51035669311524,
          100.6220077,
          100.5623796,
          100.609757,
          100.543564,
          100.5325482,
          100.6066339,
          100.50688569999998,
          100.5864122,
          100.5805147,
          100.45074999999999,
          100.57336109999999,
          100.61090617724312,
          100.561652,
          100.564607,
          100.5396251,
          100.5702404,
          100.585629,
          100.5763567,
          100.48757509999999,
          100.57417880000001,
          100.5783539,
          100.578598,
          100.48353,
          100.4955208,
          100.62382779999999,
          100.60002100000001,
          100.603781,
          100.566748,
          100.5443566,
          100.5324903,
          100.532267,
          100.5559308,
          100.5423382,
          100.6336233,
          100.549917,
          100.5507755,
          100.540493,
          100.5586169,
          100.542602,
          100.5835767,
          100.5479997,
          100.560358,
          100.54354899999998,
          100.54433199999993,
          100.5772609,
          100.58461110000002,
          100.5358298,
          100.519452,
          100.542095,
          100.569269,
          100.569108,
          100.58481400000004,
          100.60596899999997,
          100.5630664,
          100.5847055,
          100.49755329999999,
          100.488939,
          100.549422,
          100.636637,
          100.5487943,
          100.5465744,
          100.4583834,
          100.5809111,
          100.538781,
          100.5688151,
          100.5453648,
          100.5236127,
          100.555054,
          100.550891,
          100.594319,
          100.591153,
          100.573237,
          100.567172,
          100.5416855,
          100.5844997,
          100.5791425,
          100.527154,
          100.5586231,
          100.63810459999999,
          100.5665,
          100.471403,
          100.5337233,
          100.5852689,
          100.5482,
          100.53827549999998,
          100.533569,
          100.5332197,
          100.53534680000001,
          100.4738895,
          100.476279,
          100.638709,
          100.396221,
          100.6267391,
          100.65849920000001,
          100.5905791,
          100.462533,
          100.5373704,
          100.582151,
          100.56470100000001,
          100.4909823,
          100.5486595,
          100.6194446,
          100.6154734,
          100.581504,
          100.5663551,
          100.6432239,
          100.5468988,
          100.6492052,
          100.5466344,
          100.6268346,
          100.6685723,
          100.669575,
          100.5314815,
          100.56276339999998,
          100.5429798,
          100.50126699999998,
          100.6002061,
          100.530176,
          100.5815859,
          100.57406199999998,
          100.541963,
          100.6132343,
          100.58537309999998,
          100.5773791,
          100.578686,
          100.5714878,
          100.588881,
          100.5884472,
          100.4583785,
          100.4909622552948,
          100.6000877,
          100.602404,
          100.587144,
          100.6084824085747,
          100.5941615,
          100.599908,
          100.608625,
          100.534624,
          100.607098,
          100.597615,
          100.5456791,
          100.60380299999998,
          100.6111739,
          100.6189734,
          100.56433999999999,
          100.5493966,
          100.599094,
          100.5487128,
          100.5747285,
          100.56438393450163,
          100.56460740000001,
          100.536971,
          100.573725,
          100.516771,
          100.5324017,
          100.5997985,
          100.5768776,
          100.5847281,
          100.590471,
          100.5288936,
          100.532386,
          100.462298,
          100.50140050000002,
          100.7107604,
          100.54813610000001,
          100.542119,
          100.566076,
          100.6303405,
          100.59082510000002,
          100.61481,
          100.5611106,
          100.55272652513122,
          100.5834218,
          100.5509001,
          100.6435063,
          100.5580152,
          100.5468137,
          100.5469461,
          100.5790261,
          100.536753,
          100.538176,
          100.547542,
          100.493509,
          100.540466,
          100.6067053,
          100.564592,
          100.53807,
          100.53132,
          100.5371449,
          100.5468155,
          100.54691100000001,
          100.640114,
          100.5522928,
          100.606912,
          100.567208,
          100.51422209999998,
          100.5664288,
          100.571046,
          100.543165,
          100.5277762,
          100.572656,
          100.544653,
          100.5983313,
          100.541792,
          100.536114,
          100.5278004,
          100.53459,
          100.57926200000001,
          100.556041,
          100.56867450000001,
          100.58023820000001,
          100.564723,
          100.6261665,
          100.593044,
          100.4284067,
          100.6458312,
          100.733047,
          100.6403738,
          100.5479054,
          100.52682400000002,
          100.5179101,
          100.51683000000004,
          100.6479,
          100.55630100000009,
          100.61727909999999,
          100.562763,
          100.59204549999998,
          100.58784,
          100.63221499999999,
          100.4946793,
          100.6059405,
          100.610971,
          100.5787683,
          100.5393566,
          100.5375728,
          100.5233933,
          100.51640369999998,
          100.540245,
          100.5611214,
          100.589107,
          100.5799638,
          100.564317,
          100.455867,
          100.565483,
          100.54083990000001,
          100.5731244,
          100.5261919,
          100.5478485,
          100.5466651,
          100.5026257,
          100.4952,
          100.535975,
          100.5819173,
          100.5810632,
          100.53787900000002,
          100.539924,
          100.540469,
          100.5463754,
          100.548724,
          100.538235,
          100.545677,
          100.5240104,
          100.605157,
          100.57514299999998,
          100.5818374,
          100.5640162,
          100.4929673,
          100.58218259999998,
          100.556296,
          100.589926,
          100.4504746,
          100.53589599999998,
          100.61415000000001,
          100.61585,
          100.55911399999998,
          100.589857,
          100.623971,
          100.59870930000001,
          100.5156812,
          100.484759,
          100.4848559,
          100.577101,
          100.561926,
          100.545615,
          100.533199,
          100.53139899999996,
          100.525813,
          100.53432700000008,
          100.572358,
          100.58567179999999,
          100.583588,
          100.57601500000001,
          100.58632299999998,
          100.574904,
          100.541384,
          100.53302460000002,
          100.5202356,
          100.5031084,
          100.572972,
          100.58373689999999,
          100.52748700000001,
          100.5997652,
          100.599978,
          100.6059734,
          100.6024368,
          100.594775,
          100.5448663,
          100.572368,
          100.586995,
          100.546532,
          100.5723497,
          100.584231,
          100.60583750000002,
          100.57649,
          100.5399967,
          100.5425277,
          100.542708,
          100.5507199,
          100.566113,
          100.57676190000001,
          100.57722900000002,
          100.57693300000001,
          100.5708063,
          100.5221936,
          100.5621362,
          100.531526,
          100.56694900000001,
          100.63486,
          100.6039389,
          100.6060543,
          100.542431,
          100.50875989999999,
          100.541179,
          100.6042635,
          100.6185955,
          100.622355,
          100.614114,
          100.58376209999999,
          100.533622,
          100.5294023,
          100.64335200000002,
          100.56810700000003,
          100.579554,
          100.4657,
          100.4680603,
          100.60582319999999,
          100.572683,
          100.5723505,
          100.5601596,
          100.54940890000002,
          100.6036514,
          100.537481,
          100.5089024,
          100.53354170000001,
          100.605395,
          100.587363,
          100.545653,
          100.6352586,
          100.635049,
          100.571616,
          100.52851403506212,
          100.56095320000001,
          100.5611383,
          100.500293,
          100.53424999999999,
          100.5406164,
          100.609312,
          100.54952,
          100.59977651289748,
          100.583117,
          100.59960200000002,
          100.6305957,
          100.589514,
          100.630416,
          100.588369,
          100.570875,
          100.57539900000002,
          100.4909545,
          100.5594914,
          100.6463745,
          100.556569,
          100.54159,
          100.54254220000001,
          100.544841,
          100.567904,
          100.480767,
          100.4085297,
          100.5274525,
          100.48139400000001,
          100.5722903,
          100.5806493,
          100.55895699999999,
          100.5392334,
          100.498611,
          100.458562,
          100.45848579999999,
          100.601748,
          100.55672299999999,
          100.582646,
          100.581279,
          100.54027940000002,
          100.5274621,
          100.60003909999999,
          100.5403012,
          100.4933894,
          100.5732877,
          100.5277883,
          100.50915,
          100.4949655,
          100.5158296,
          100.576417,
          100.4833554,
          100.5621584,
          100.582798,
          100.608128,
          100.604778,
          100.592783,
          100.601755,
          100.541882,
          100.53719590000001,
          100.543274,
          100.528291,
          100.539383,
          100.571014,
          100.54796099999999,
          100.583209,
          100.496725,
          100.56947899999999,
          100.624204,
          100.543174,
          100.549434,
          100.54143999999998,
          100.541266,
          100.57380119999999,
          100.6079238,
          100.544203,
          100.53511400000001,
          100.514469,
          100.5419556,
          100.5288087,
          100.62456,
          100.468397,
          100.544695,
          100.550616,
          100.52329509999997,
          100.5903916,
          100.5251007,
          100.5213562,
          100.557617,
          100.645198,
          100.61020390000002,
          100.4699101,
          100.5361167,
          100.565934,
          100.57312,
          100.542317,
          100.495524,
          100.5724071,
          100.59277499999999,
          100.5937435,
          100.6395771,
          100.570779,
          100.567147,
          100.4971212,
          100.58563,
          100.574795,
          100.5814,
          100.544423,
          100.501888,
          100.50236,
          100.6015767,
          100.56204,
          100.58340900000002,
          100.6004973,
          100.5783568,
          100.5876931,
          100.600395,
          100.5362962,
          100.5377154,
          100.5346262,
          100.6377307,
          100.580076,
          100.55585900000004,
          100.604,
          100.56308,
          100.6027788,
          100.532823,
          100.586528,
          100.588732,
          100.5431078,
          100.5358323,
          100.558509,
          100.507061,
          100.57687,
          100.653276,
          100.5628531,
          100.5601762,
          100.598426,
          100.52557899999998,
          100.56839799999999,
          100.575859,
          100.5746917,
          100.56346750000002,
          100.5652961,
          100.5618766,
          100.5419373,
          100.53245890000001,
          100.5042247,
          100.5798336,
          100.574618,
          100.590744,
          100.59943100000001,
          100.57907829999999,
          100.60162160000002,
          100.560713,
          100.566781,
          100.576523,
          100.5834595,
          100.5943109,
          100.59339280000002,
          100.50022749999998,
          100.558462,
          100.640639,
          100.6111314,
          100.610413,
          100.607114,
          100.57416909999999,
          100.60695999999999,
          100.575358,
          100.56496999999999,
          100.56579299999999,
          100.56422720000002,
          100.5266194,
          100.5282326,
          100.534941,
          100.561984,
          100.545272,
          100.63896099999998,
          100.6274613,
          100.5825526,
          100.5790452,
          100.5953478,
          100.586212,
          100.477546
         ],
         "name": "",
         "radius": 10,
         "subplot": "mapbox",
         "type": "densitymapbox",
         "z": [
          10577,
          49059,
          31129,
          87368,
          43044.71,
          19071,
          63000,
          54741,
          89261,
          24184,
          53226,
          63793,
          60505,
          38288,
          93287,
          51006,
          15217,
          45054,
          48666,
          47690,
          45557.33,
          36775.04,
          32439,
          49367,
          71077,
          19754,
          60435,
          133511,
          20827,
          35837,
          82588,
          98270,
          59193,
          50514,
          54948,
          75363,
          57692,
          19766,
          85479,
          46242,
          54010,
          102809,
          21679,
          28697,
          56606,
          23214,
          59327,
          51600,
          68079,
          56393,
          26372.51,
          46167,
          50300,
          36751,
          40443,
          94470,
          37344,
          72527,
          71278,
          24857,
          29818,
          224957,
          35961,
          165714,
          146228,
          73645,
          206075,
          96132,
          131919,
          79727,
          92286,
          89263,
          34483,
          75214,
          50880,
          55833,
          96905,
          37930,
          24742,
          38398,
          80619,
          67916,
          97193.4,
          36789,
          68943,
          33230,
          123773,
          118689,
          143333,
          100333,
          81258.95,
          33042,
          57548,
          21230,
          113636,
          59467,
          79875,
          41840,
          70249,
          80000,
          40000,
          109178,
          116272,
          117857,
          183841,
          125000,
          177470,
          343979,
          185688,
          146667,
          160000,
          56818,
          232384,
          119444,
          207975,
          176471,
          170115,
          137684,
          134615,
          78000,
          158333,
          252119,
          151163,
          184207,
          126154,
          184332,
          124000,
          139706,
          210073,
          151923,
          105882,
          107646,
          101213,
          326476,
          77967,
          118367,
          116667,
          178571,
          120238,
          133841,
          115331,
          135455,
          125000,
          120667,
          124577,
          106452,
          110169,
          108108,
          114879,
          240741,
          162920,
          312524,
          233483,
          150000,
          190442,
          175287,
          103226,
          85366,
          104000,
          85039,
          136207,
          116490,
          173077,
          189950,
          98605,
          105065,
          314139,
          141763,
          84727,
          139785,
          100134,
          153360,
          185714,
          180851,
          117787,
          132203,
          88428,
          143150,
          123810,
          129143,
          90399,
          147287,
          75808,
          108255,
          82532,
          62105,
          123066,
          88235,
          79730,
          134073,
          92681,
          104430,
          64666,
          96970,
          83370,
          216981,
          78493.65,
          95426,
          82353,
          68220,
          43925,
          76906,
          42306,
          70000,
          62696,
          80055,
          93117,
          96774,
          70770,
          122795,
          113455,
          85046,
          105326,
          150403,
          88594,
          81765,
          83746,
          115357,
          66031,
          79967,
          125714,
          82105,
          71637,
          92190,
          96754,
          134077,
          326922,
          80258,
          195123,
          91955,
          32554,
          45000,
          110390,
          75328,
          71259,
          74996,
          79143,
          78571,
          87512,
          45519,
          73836,
          95280,
          79240,
          74967,
          125000,
          146341,
          154695,
          79710,
          160443,
          130667,
          194118,
          201111,
          138140,
          207615,
          161882,
          152209,
          161723,
          229055,
          247191,
          155272,
          184480,
          120137,
          161765,
          113217,
          131633,
          97020,
          200621,
          132626,
          232741,
          226675,
          409091,
          189035,
          180766,
          124894,
          114000,
          150112,
          141824,
          153285,
          97837,
          84390,
          139505,
          136235,
          135668,
          77481,
          25443,
          48515,
          100000,
          84385,
          79714,
          33368,
          83333,
          94227,
          96861,
          75238,
          77049,
          79442,
          16034,
          33422,
          84000,
          57122,
          109512,
          72659,
          101325,
          62500,
          16124,
          69697,
          55484,
          54171,
          57242,
          79491,
          48333,
          20295,
          64649,
          71846.29504761905,
          106897,
          63958,
          70695,
          16315,
          27779,
          42870,
          36295,
          90412,
          105329,
          42768,
          95144,
          69000,
          40843,
          119090,
          86595,
          84054,
          36667,
          87167,
          44660,
          85894,
          65022,
          72754,
          76898,
          65957,
          67585,
          137500,
          60217,
          102727,
          59358,
          100000,
          103627,
          51982,
          80749,
          41935,
          82834,
          132500,
          83892,
          76316,
          99524,
          161563,
          166564,
          70000,
          59843,
          65286,
          33032,
          24429,
          47581,
          60032,
          39134,
          16744,
          31452,
          96875,
          49242,
          69338,
          102247,
          77727,
          68182,
          68252,
          56234,
          201811,
          35832,
          62531,
          120962,
          79862,
          64861,
          67561,
          98819.47,
          108462,
          108889,
          100000,
          103611,
          71846.29504761905,
          84036,
          82813,
          30022,
          91489,
          60000,
          47368,
          154815,
          61275,
          114025,
          405025,
          90000,
          13109,
          21094,
          74321,
          56786,
          90693,
          98792,
          96848,
          74752,
          88515,
          103571,
          48077,
          93594,
          118713,
          59833,
          81719,
          52032,
          90606,
          80135,
          40599,
          86667,
          62488,
          82667,
          94333,
          86154,
          26865,
          84848,
          38158,
          86864,
          89479,
          76289,
          25044.52,
          11129,
          56459,
          42857,
          29427,
          52941,
          99825,
          92266,
          58654,
          124031,
          134375,
          78615,
          146563,
          108613,
          111111,
          94389,
          57895,
          50616,
          57990,
          54924,
          100292,
          80000,
          74979,
          35000,
          37990,
          50733,
          91212,
          60876,
          57835,
          71163,
          97810,
          47596,
          61111,
          167391,
          111558,
          175000,
          88571,
          23585,
          53333,
          117880,
          113902,
          111080,
          147766,
          96667,
          56667,
          60283,
          64286,
          87884,
          106500,
          171271,
          165026,
          81181,
          62822,
          134423,
          54401,
          54663,
          31800,
          50000,
          127473,
          167398,
          132090,
          39409,
          89438.55,
          151600,
          90426,
          96250,
          98824,
          135417,
          91556,
          62238,
          60593,
          150943,
          46939,
          52109,
          80400,
          59770,
          90099,
          108065,
          80952,
          99757,
          74545,
          58614,
          70452,
          88237,
          48000,
          70393,
          98012,
          95298,
          122847,
          125500,
          112500,
          105679,
          157317,
          125319,
          278788,
          86921,
          142740,
          127002,
          91254,
          120000,
          92927,
          105505,
          72778,
          90704,
          124328,
          207267,
          164992,
          86625,
          87128,
          87940,
          76190,
          126351,
          113490,
          133333,
          113487,
          157333,
          228956,
          99430,
          131779,
          194531,
          171774,
          170164,
          106900,
          119134,
          157143,
          192451,
          31786,
          121096,
          170414,
          169307,
          143846,
          199641,
          148290,
          109033,
          310086,
          119903,
          128183,
          48361,
          149643,
          121977.21,
          134500,
          96138,
          143506.62,
          127557,
          171759,
          95834,
          79542,
          233333,
          192074,
          67308,
          165385,
          197500,
          198111,
          182222,
          67568,
          83744,
          132608,
          119570.55,
          141847,
          209524,
          100000,
          237175,
          110380,
          180851,
          182353,
          186567,
          136047,
          135329.18,
          93532.12,
          49818,
          75000,
          156692.71,
          136364,
          107500,
          91837,
          91320,
          181714,
          114286,
          129089.56,
          110000,
          147079,
          121429,
          121622,
          105560,
          76786,
          35294,
          23147,
          50302,
          55956,
          55300,
          63736,
          48214,
          51613,
          48286,
          20949,
          43824,
          21234,
          49358,
          26617,
          337844,
          43333,
          31429,
          102911,
          20655,
          53393,
          41895,
          17308,
          31684,
          17979,
          367046,
          151685,
          235529,
          198630,
          121836.27233333333,
          224997,
          186047,
          120413,
          112727,
          109000,
          143440,
          125660,
          217728.62,
          145370,
          252060,
          176383,
          122591.33566666667,
          177399,
          235849,
          249700,
          348624,
          150951,
          112482,
          163265,
          299886,
          163265,
          231742,
          128080,
          189512,
          237956,
          278302,
          123199,
          136054,
          200000,
          178571,
          153414,
          155061,
          244722,
          107092.38666666667,
          187647,
          328322,
          152206,
          173913,
          135229,
          73529,
          122591.33566666667,
          98868,
          51613,
          77920,
          77407,
          54194,
          41666,
          57813,
          82759,
          89000,
          90141,
          62500,
          56671,
          84118,
          86806,
          85284,
          179190,
          98847,
          116401,
          98245,
          79833,
          136111,
          96105,
          113793,
          122551,
          34316,
          54667,
          60901,
          90435,
          116000,
          91499,
          142105,
          102213,
          47600,
          149357,
          130189,
          109747,
          33012,
          91923,
          82692,
          114589,
          126531,
          163993,
          185484,
          187268,
          151613,
          75000,
          72233,
          99532,
          72933,
          131662,
          108599,
          74028,
          103800,
          101628,
          85693,
          62500,
          145161,
          103242,
          151943,
          116667,
          112500,
          44516,
          101923,
          121516,
          116667,
          129105,
          133333,
          288285,
          88992,
          89674,
          180328,
          188148,
          120000,
          125000,
          107038,
          138462,
          103175,
          86320,
          42169,
          84451,
          98309,
          86631,
          39965,
          82502,
          92647,
          159720,
          99712,
          91429,
          81765,
          43438,
          56452,
          56079,
          94419,
          101257,
          106912,
          52920,
          91429,
          43551,
          69964,
          46552,
          70154,
          81991,
          50000,
          57857,
          88348.6,
          79245,
          86005,
          126905,
          104471,
          131034,
          84444,
          71629,
          63910,
          96098,
          84182,
          157495.86,
          136967,
          88888,
          198233,
          32688,
          35330,
          99761,
          21127,
          66119,
          31328,
          23223,
          112315,
          93138,
          89000,
          61462,
          40959,
          175357,
          154935.15,
          150000,
          200813,
          61774,
          101550,
          128205,
          177083,
          185897,
          107838,
          200000,
          200000,
          134058,
          71460,
          229520,
          164676,
          129213,
          175758,
          95040,
          120000,
          110215,
          300449,
          207112,
          91861,
          169454,
          205714,
          135246,
          123096,
          136477,
          164615,
          154079,
          196686,
          137549.31,
          104306,
          268953,
          88281,
          109927,
          140115,
          164853,
          118076,
          181433,
          15580,
          12919,
          89600,
          90583,
          131250,
          108771,
          155417,
          78947,
          162455,
          86889,
          93745,
          88290,
          120148,
          54781,
          161476,
          108772,
          81333,
          75000,
          53801,
          84302,
          157179,
          111336,
          165554,
          161031,
          137308,
          97317,
          93921,
          86209,
          108319,
          126437,
          94108.31,
          131749,
          86170,
          170221,
          117647,
          79517,
          81818,
          235385,
          260756,
          138462,
          158024,
          69445,
          177515,
          144860,
          121148,
          85937,
          313782,
          145432,
          75983,
          51806,
          73684,
          48040,
          17212,
          73739,
          62759,
          96154,
          73077,
          68525,
          77778,
          26793,
          23438,
          31000,
          41539,
          15738,
          82735,
          81034,
          36170,
          38567,
          60000,
          78571,
          88334,
          95643,
          72583,
          106669,
          76786,
          84962,
          104529,
          67325,
          57941,
          87485,
          120000,
          90833,
          40816,
          105094,
          121861,
          78849,
          100514,
          81324,
          113238,
          54353,
          39516,
          23187,
          43388,
          26316,
          52063,
          38424,
          70974,
          54234,
          56533,
          62042,
          18036,
          50297,
          65284,
          15805,
          54559,
          51585,
          103738,
          86957,
          130937,
          104348,
          109859,
          84211,
          116727,
          93059,
          212594,
          140792,
          113405,
          262059,
          267524,
          105882,
          79143,
          141045,
          128452,
          168350,
          178000,
          110000,
          129143,
          182015,
          167296,
          150431,
          87692,
          82090,
          120588,
          88571,
          89583,
          68335,
          91667,
          107353,
          174933,
          239299,
          206049,
          65534,
          100171,
          70753,
          168012,
          101852,
          106897,
          192487,
          246591,
          160655,
          95957,
          136238,
          109677,
          205698,
          209667,
          187179,
          67559,
          223860,
          140000,
          68883,
          143333,
          134000,
          111287,
          177966,
          155263
         ]
        }
       ],
       "layout": {
        "coloraxis": {
         "colorbar": {
          "title": {
           "text": "predicted_price_sqm_next_year"
          }
         },
         "colorscale": [
          [
           0,
           "#0d0887"
          ],
          [
           0.1111111111111111,
           "#46039f"
          ],
          [
           0.2222222222222222,
           "#7201a8"
          ],
          [
           0.3333333333333333,
           "#9c179e"
          ],
          [
           0.4444444444444444,
           "#bd3786"
          ],
          [
           0.5555555555555556,
           "#d8576b"
          ],
          [
           0.6666666666666666,
           "#ed7953"
          ],
          [
           0.7777777777777778,
           "#fb9f3a"
          ],
          [
           0.8888888888888888,
           "#fdca26"
          ],
          [
           1,
           "#f0f921"
          ]
         ]
        },
        "legend": {
         "tracegroupgap": 0
        },
        "mapbox": {
         "center": {
          "lat": 0,
          "lon": 180
         },
         "domain": {
          "x": [
           0,
           1
          ],
          "y": [
           0,
           1
          ]
         },
         "style": "stamen-terrain",
         "zoom": 0
        },
        "template": {
         "data": {
          "bar": [
           {
            "error_x": {
             "color": "#2a3f5f"
            },
            "error_y": {
             "color": "#2a3f5f"
            },
            "marker": {
             "line": {
              "color": "#E5ECF6",
              "width": 0.5
             },
             "pattern": {
              "fillmode": "overlay",
              "size": 10,
              "solidity": 0.2
             }
            },
            "type": "bar"
           }
          ],
          "barpolar": [
           {
            "marker": {
             "line": {
              "color": "#E5ECF6",
              "width": 0.5
             },
             "pattern": {
              "fillmode": "overlay",
              "size": 10,
              "solidity": 0.2
             }
            },
            "type": "barpolar"
           }
          ],
          "carpet": [
           {
            "aaxis": {
             "endlinecolor": "#2a3f5f",
             "gridcolor": "white",
             "linecolor": "white",
             "minorgridcolor": "white",
             "startlinecolor": "#2a3f5f"
            },
            "baxis": {
             "endlinecolor": "#2a3f5f",
             "gridcolor": "white",
             "linecolor": "white",
             "minorgridcolor": "white",
             "startlinecolor": "#2a3f5f"
            },
            "type": "carpet"
           }
          ],
          "choropleth": [
           {
            "colorbar": {
             "outlinewidth": 0,
             "ticks": ""
            },
            "type": "choropleth"
           }
          ],
          "contour": [
           {
            "colorbar": {
             "outlinewidth": 0,
             "ticks": ""
            },
            "colorscale": [
             [
              0,
              "#0d0887"
             ],
             [
              0.1111111111111111,
              "#46039f"
             ],
             [
              0.2222222222222222,
              "#7201a8"
             ],
             [
              0.3333333333333333,
              "#9c179e"
             ],
             [
              0.4444444444444444,
              "#bd3786"
             ],
             [
              0.5555555555555556,
              "#d8576b"
             ],
             [
              0.6666666666666666,
              "#ed7953"
             ],
             [
              0.7777777777777778,
              "#fb9f3a"
             ],
             [
              0.8888888888888888,
              "#fdca26"
             ],
             [
              1,
              "#f0f921"
             ]
            ],
            "type": "contour"
           }
          ],
          "contourcarpet": [
           {
            "colorbar": {
             "outlinewidth": 0,
             "ticks": ""
            },
            "type": "contourcarpet"
           }
          ],
          "heatmap": [
           {
            "colorbar": {
             "outlinewidth": 0,
             "ticks": ""
            },
            "colorscale": [
             [
              0,
              "#0d0887"
             ],
             [
              0.1111111111111111,
              "#46039f"
             ],
             [
              0.2222222222222222,
              "#7201a8"
             ],
             [
              0.3333333333333333,
              "#9c179e"
             ],
             [
              0.4444444444444444,
              "#bd3786"
             ],
             [
              0.5555555555555556,
              "#d8576b"
             ],
             [
              0.6666666666666666,
              "#ed7953"
             ],
             [
              0.7777777777777778,
              "#fb9f3a"
             ],
             [
              0.8888888888888888,
              "#fdca26"
             ],
             [
              1,
              "#f0f921"
             ]
            ],
            "type": "heatmap"
           }
          ],
          "heatmapgl": [
           {
            "colorbar": {
             "outlinewidth": 0,
             "ticks": ""
            },
            "colorscale": [
             [
              0,
              "#0d0887"
             ],
             [
              0.1111111111111111,
              "#46039f"
             ],
             [
              0.2222222222222222,
              "#7201a8"
             ],
             [
              0.3333333333333333,
              "#9c179e"
             ],
             [
              0.4444444444444444,
              "#bd3786"
             ],
             [
              0.5555555555555556,
              "#d8576b"
             ],
             [
              0.6666666666666666,
              "#ed7953"
             ],
             [
              0.7777777777777778,
              "#fb9f3a"
             ],
             [
              0.8888888888888888,
              "#fdca26"
             ],
             [
              1,
              "#f0f921"
             ]
            ],
            "type": "heatmapgl"
           }
          ],
          "histogram": [
           {
            "marker": {
             "pattern": {
              "fillmode": "overlay",
              "size": 10,
              "solidity": 0.2
             }
            },
            "type": "histogram"
           }
          ],
          "histogram2d": [
           {
            "colorbar": {
             "outlinewidth": 0,
             "ticks": ""
            },
            "colorscale": [
             [
              0,
              "#0d0887"
             ],
             [
              0.1111111111111111,
              "#46039f"
             ],
             [
              0.2222222222222222,
              "#7201a8"
             ],
             [
              0.3333333333333333,
              "#9c179e"
             ],
             [
              0.4444444444444444,
              "#bd3786"
             ],
             [
              0.5555555555555556,
              "#d8576b"
             ],
             [
              0.6666666666666666,
              "#ed7953"
             ],
             [
              0.7777777777777778,
              "#fb9f3a"
             ],
             [
              0.8888888888888888,
              "#fdca26"
             ],
             [
              1,
              "#f0f921"
             ]
            ],
            "type": "histogram2d"
           }
          ],
          "histogram2dcontour": [
           {
            "colorbar": {
             "outlinewidth": 0,
             "ticks": ""
            },
            "colorscale": [
             [
              0,
              "#0d0887"
             ],
             [
              0.1111111111111111,
              "#46039f"
             ],
             [
              0.2222222222222222,
              "#7201a8"
             ],
             [
              0.3333333333333333,
              "#9c179e"
             ],
             [
              0.4444444444444444,
              "#bd3786"
             ],
             [
              0.5555555555555556,
              "#d8576b"
             ],
             [
              0.6666666666666666,
              "#ed7953"
             ],
             [
              0.7777777777777778,
              "#fb9f3a"
             ],
             [
              0.8888888888888888,
              "#fdca26"
             ],
             [
              1,
              "#f0f921"
             ]
            ],
            "type": "histogram2dcontour"
           }
          ],
          "mesh3d": [
           {
            "colorbar": {
             "outlinewidth": 0,
             "ticks": ""
            },
            "type": "mesh3d"
           }
          ],
          "parcoords": [
           {
            "line": {
             "colorbar": {
              "outlinewidth": 0,
              "ticks": ""
             }
            },
            "type": "parcoords"
           }
          ],
          "pie": [
           {
            "automargin": true,
            "type": "pie"
           }
          ],
          "scatter": [
           {
            "marker": {
             "colorbar": {
              "outlinewidth": 0,
              "ticks": ""
             }
            },
            "type": "scatter"
           }
          ],
          "scatter3d": [
           {
            "line": {
             "colorbar": {
              "outlinewidth": 0,
              "ticks": ""
             }
            },
            "marker": {
             "colorbar": {
              "outlinewidth": 0,
              "ticks": ""
             }
            },
            "type": "scatter3d"
           }
          ],
          "scattercarpet": [
           {
            "marker": {
             "colorbar": {
              "outlinewidth": 0,
              "ticks": ""
             }
            },
            "type": "scattercarpet"
           }
          ],
          "scattergeo": [
           {
            "marker": {
             "colorbar": {
              "outlinewidth": 0,
              "ticks": ""
             }
            },
            "type": "scattergeo"
           }
          ],
          "scattergl": [
           {
            "marker": {
             "colorbar": {
              "outlinewidth": 0,
              "ticks": ""
             }
            },
            "type": "scattergl"
           }
          ],
          "scattermapbox": [
           {
            "marker": {
             "colorbar": {
              "outlinewidth": 0,
              "ticks": ""
             }
            },
            "type": "scattermapbox"
           }
          ],
          "scatterpolar": [
           {
            "marker": {
             "colorbar": {
              "outlinewidth": 0,
              "ticks": ""
             }
            },
            "type": "scatterpolar"
           }
          ],
          "scatterpolargl": [
           {
            "marker": {
             "colorbar": {
              "outlinewidth": 0,
              "ticks": ""
             }
            },
            "type": "scatterpolargl"
           }
          ],
          "scatterternary": [
           {
            "marker": {
             "colorbar": {
              "outlinewidth": 0,
              "ticks": ""
             }
            },
            "type": "scatterternary"
           }
          ],
          "surface": [
           {
            "colorbar": {
             "outlinewidth": 0,
             "ticks": ""
            },
            "colorscale": [
             [
              0,
              "#0d0887"
             ],
             [
              0.1111111111111111,
              "#46039f"
             ],
             [
              0.2222222222222222,
              "#7201a8"
             ],
             [
              0.3333333333333333,
              "#9c179e"
             ],
             [
              0.4444444444444444,
              "#bd3786"
             ],
             [
              0.5555555555555556,
              "#d8576b"
             ],
             [
              0.6666666666666666,
              "#ed7953"
             ],
             [
              0.7777777777777778,
              "#fb9f3a"
             ],
             [
              0.8888888888888888,
              "#fdca26"
             ],
             [
              1,
              "#f0f921"
             ]
            ],
            "type": "surface"
           }
          ],
          "table": [
           {
            "cells": {
             "fill": {
              "color": "#EBF0F8"
             },
             "line": {
              "color": "white"
             }
            },
            "header": {
             "fill": {
              "color": "#C8D4E3"
             },
             "line": {
              "color": "white"
             }
            },
            "type": "table"
           }
          ]
         },
         "layout": {
          "annotationdefaults": {
           "arrowcolor": "#2a3f5f",
           "arrowhead": 0,
           "arrowwidth": 1
          },
          "autotypenumbers": "strict",
          "coloraxis": {
           "colorbar": {
            "outlinewidth": 0,
            "ticks": ""
           }
          },
          "colorscale": {
           "diverging": [
            [
             0,
             "#8e0152"
            ],
            [
             0.1,
             "#c51b7d"
            ],
            [
             0.2,
             "#de77ae"
            ],
            [
             0.3,
             "#f1b6da"
            ],
            [
             0.4,
             "#fde0ef"
            ],
            [
             0.5,
             "#f7f7f7"
            ],
            [
             0.6,
             "#e6f5d0"
            ],
            [
             0.7,
             "#b8e186"
            ],
            [
             0.8,
             "#7fbc41"
            ],
            [
             0.9,
             "#4d9221"
            ],
            [
             1,
             "#276419"
            ]
           ],
           "sequential": [
            [
             0,
             "#0d0887"
            ],
            [
             0.1111111111111111,
             "#46039f"
            ],
            [
             0.2222222222222222,
             "#7201a8"
            ],
            [
             0.3333333333333333,
             "#9c179e"
            ],
            [
             0.4444444444444444,
             "#bd3786"
            ],
            [
             0.5555555555555556,
             "#d8576b"
            ],
            [
             0.6666666666666666,
             "#ed7953"
            ],
            [
             0.7777777777777778,
             "#fb9f3a"
            ],
            [
             0.8888888888888888,
             "#fdca26"
            ],
            [
             1,
             "#f0f921"
            ]
           ],
           "sequentialminus": [
            [
             0,
             "#0d0887"
            ],
            [
             0.1111111111111111,
             "#46039f"
            ],
            [
             0.2222222222222222,
             "#7201a8"
            ],
            [
             0.3333333333333333,
             "#9c179e"
            ],
            [
             0.4444444444444444,
             "#bd3786"
            ],
            [
             0.5555555555555556,
             "#d8576b"
            ],
            [
             0.6666666666666666,
             "#ed7953"
            ],
            [
             0.7777777777777778,
             "#fb9f3a"
            ],
            [
             0.8888888888888888,
             "#fdca26"
            ],
            [
             1,
             "#f0f921"
            ]
           ]
          },
          "colorway": [
           "#636efa",
           "#EF553B",
           "#00cc96",
           "#ab63fa",
           "#FFA15A",
           "#19d3f3",
           "#FF6692",
           "#B6E880",
           "#FF97FF",
           "#FECB52"
          ],
          "font": {
           "color": "#2a3f5f"
          },
          "geo": {
           "bgcolor": "white",
           "lakecolor": "white",
           "landcolor": "#E5ECF6",
           "showlakes": true,
           "showland": true,
           "subunitcolor": "white"
          },
          "hoverlabel": {
           "align": "left"
          },
          "hovermode": "closest",
          "mapbox": {
           "style": "light"
          },
          "paper_bgcolor": "white",
          "plot_bgcolor": "#E5ECF6",
          "polar": {
           "angularaxis": {
            "gridcolor": "white",
            "linecolor": "white",
            "ticks": ""
           },
           "bgcolor": "#E5ECF6",
           "radialaxis": {
            "gridcolor": "white",
            "linecolor": "white",
            "ticks": ""
           }
          },
          "scene": {
           "xaxis": {
            "backgroundcolor": "#E5ECF6",
            "gridcolor": "white",
            "gridwidth": 2,
            "linecolor": "white",
            "showbackground": true,
            "ticks": "",
            "zerolinecolor": "white"
           },
           "yaxis": {
            "backgroundcolor": "#E5ECF6",
            "gridcolor": "white",
            "gridwidth": 2,
            "linecolor": "white",
            "showbackground": true,
            "ticks": "",
            "zerolinecolor": "white"
           },
           "zaxis": {
            "backgroundcolor": "#E5ECF6",
            "gridcolor": "white",
            "gridwidth": 2,
            "linecolor": "white",
            "showbackground": true,
            "ticks": "",
            "zerolinecolor": "white"
           }
          },
          "shapedefaults": {
           "line": {
            "color": "#2a3f5f"
           }
          },
          "ternary": {
           "aaxis": {
            "gridcolor": "white",
            "linecolor": "white",
            "ticks": ""
           },
           "baxis": {
            "gridcolor": "white",
            "linecolor": "white",
            "ticks": ""
           },
           "bgcolor": "#E5ECF6",
           "caxis": {
            "gridcolor": "white",
            "linecolor": "white",
            "ticks": ""
           }
          },
          "title": {
           "x": 0.05
          },
          "xaxis": {
           "automargin": true,
           "gridcolor": "white",
           "linecolor": "white",
           "ticks": "",
           "title": {
            "standoff": 15
           },
           "zerolinecolor": "white",
           "zerolinewidth": 2
          },
          "yaxis": {
           "automargin": true,
           "gridcolor": "white",
           "linecolor": "white",
           "ticks": "",
           "title": {
            "standoff": 15
           },
           "zerolinecolor": "white",
           "zerolinewidth": 2
          }
         }
        },
        "title": {
         "text": "Predicted Prices Heatmap"
        }
       }
      },
      "text/html": [
       "<div>                            <div id=\"b99b5f11-5722-45d1-b61c-82bc54b9e7a3\" class=\"plotly-graph-div\" style=\"height:525px; width:100%;\"></div>            <script type=\"text/javascript\">                require([\"plotly\"], function(Plotly) {                    window.PLOTLYENV=window.PLOTLYENV || {};                                    if (document.getElementById(\"b99b5f11-5722-45d1-b61c-82bc54b9e7a3\")) {                    Plotly.newPlot(                        \"b99b5f11-5722-45d1-b61c-82bc54b9e7a3\",                        [{\"coloraxis\":\"coloraxis\",\"customdata\":[[\"Bang Kapi\",\"101 Mansion\"],[\"Watthana\",\"624 Condolette Ladprao\"],[\"Watthana\",\"Adamas Ramkhamhaeng\"],[\"Pathum Wan\",\"Aspire Ladprao 113\"],[\"Bang Sue\",\"B.R. Condo\"],[\"Khlong Toei\",\"Bangkapi Condotown\"],[\"Watthana\",\"Bangkok Horizon Ramkhamhaeng\"],[\"Watthana\",\"Bliz Condominium Bearing\"],[\"Watthana\",\"Chewathai Ramkamhaeng\"],[\"Watthana\",\"City Villa\"],[\"Bang Kapi\",\"Condo U @ Huamak Station\"],[\"Chatuchak\",\"D Condo Ramkhamhaeng\"],[\"Bang Na\",\"D Condo Ramkhamhaeng 64\"],[\"Bang Na\",\"Fak Khao Pode\"],[\"Din Daeng\",\"Four Wings Residence\"],[\"Din Daeng\",\"Garden Condo Huamark\"],[\"Lat Phrao\",\"H.R. Residence\"],[\"Suan Luang\",\"Happy Home\"],[\"Huai Khwang\",\"Inspire Place ABAC-Rama IX\"],[\"Suan Luang\",\"Le Celeste Rama 9-Srinakarin\"],[\"Ratchathewi\",\"Lumpini Center Happyland\"],[\"Chatuchak\",\"Lumpini Center Ladprao 111\"],[\"Chatuchak\",\"Lumpini Center Nawamin\"],[\"Bang Na\",\"Lumpini Ville Ramkhamhaeng 26\"],[\"Watthana\",\"Lumpini Ville Ramkhamhaeng 44\"],[\"Phaya Thai\",\"Niran City\"],[\"Bang Kapi\",\"Plum Condo Ladprao 101\"],[\"Watthana\",\"Prom Condominium\"],[\"Khlong Toei\",\"Prompimarn\"],[\"Lat Krabang\",\"Sukhapiban 3 Mansion\"],[\"Don Mueang\",\"Supalai City Resort Ramkhamhaeng\"],[\"Khlong San\",\"The Base Rama 9 - Ramkhamhaeng\"],[\"Pathum Wan\",\"The Niche Citi Ladprao 130\"],[\"Sathon\",\"The Niche ID Ladprao 130\"],[\"Din Daeng\",\"The Wellington\"],[\"Phaya Thai\",\"U Delight @ Huamak Station\"],[\"Watthana\",\"Ussakan Place\"],[\"Watthana\",\"Bangkhae City\"],[\"Watthana\",\"Fuse Sense' Bangkae\"],[\"Khlong Toei\",\"Lumpini Condo Town Bangkhae\"],[\"Watthana\",\"Plum Condo Bangkae\"],[\"Bang Kapi\",\"The Parkland Phetkasem\"],[\"Lak Si\",\"Baan Suan Bangkhen\"],[\"Khlong Toei\",\"Casa de Sansara\"],[\"Huai Khwang\",\"D Condo Ramindra\"],[\"Bang Sue\",\"Indra Mansion\"],[\"Thon Buri\",\"Lumpini Condo Town Ramindra - Latplakhao\"],[\"Chom Thong\",\"Lumpini Condo Town Ramintra - Laksi\"],[\"Wang Thonglang\",\"Lumpini Place Ramindra-Laksi\"],[\"Chatuchak\",\"Lumpini Ville Ramintra-Laksi\"],[\"Pathum Wan\",\"Regent Home 1 Phaholyothin 67\"],[\"Phaya Thai\",\"Regent Home 11 Phaholyothin 67/1\"],[\"Bang Kho Laem\",\"Regent Home 15 Changwattana\"],[\"Bang Kho Laem\",\"Regent Home 16 Phaholyotin 67\"],[\"Watthana\",\"Regent Home 3\"],[\"Phra Khanong\",\"Silk Place\"],[\"Bang Kapi\",\"Smart Condo Watcharapol\"],[\"Chatuchak\",\"We Condo Ekkamai-Ramindra\"],[\"Wang Thonglang\",\"August Condo Charoenkrung 80\"],[\"Bang Kho Laem\",\"Aumnuayrak Condominium\"],[\"Bueng Kum\",\"Baan Charoenkrung\"],[\"Sai Mai\",\"Canapaya Residences\"],[\"Phaya Thai\",\"Charoenkrung Place\"],[\"Ratchathewi\",\"Chatrium\"],[\"Ratchathewi\",\"Lumpini Place Rama III-Charoen Krung\"],[\"Yan Nawa\",\"Lumpini Place Rama III-Riverview\"],[\"Pathum Wan\",\"Menam Residences\"],[\"Bueng Kum\",\"River Heaven\"],[\"Sathon\",\"Star View\"],[\"Sathon\",\"Supalai Casa Riva\"],[\"Phra Khanong\",\"Supalai Lite Sathorn - Charoenrat\"],[\"Chatuchak\",\"Than Living Sathorn - Charoenrat\"],[\"Pathum Wan\",\"Smart Condo @ Rama 2\"],[\"Wang Thonglang\",\"Tangduan Condominium\"],[\"Pathum Wan\",\"@ City\"],[\"Chatuchak\",\"@ City Sukhumvit 101/1\"],[\"Watthana\",\"Abstracts Sukhumvit 66/1\"],[\"Khlong San\",\"Bangna Complex\"],[\"Watthana\",\"Bangna Place\"],[\"Pathum Wan\",\"Bangna Residence\"],[\"Sathon\",\"Beyond Sukhumvit\"],[\"Sathon\",\"Cassia\"],[\"Bang Rak\",\"Centric Scene Sukhumvit 64\"],[\"Khlong Toei\",\"City Home Srinakarin\"],[\"Sathon\",\"City Home Sukhumvit\"],[\"Bang Khen\",\"Country Complex\"],[\"Don Mueang\",\"Ideo Blucove Sukhumvit\"],[\"Chatuchak\",\"Ideo Mix Sukhumvit 103\"],[\"Chom Thong\",\"Ideo Mobi Sukhumvit Eastgate\"],[\"Dusit\",\"KnightsBridge\"],[\"Suan Luang\",\"La Salle Condominium\"],[\"Pathum Wan\",\"La Salle Park\"],[\"Lat Phrao\",\"Lumpini Ville Lasalle-Barring\"],[\"Chatuchak\",\"Majestique\"],[\"Ratchathewi\",\"Metro Sky Sukhumvit\"],[\"Bang Phlat\",\"My Condo Sukhumvit 103\"],[\"Bang Kapi\",\"Notting Hill\"],[\"Bang Khae\",\"Regent Home 7 Sukhumvit\"],[\"Bangkok Noi\",\"S&S Sukhumvit\"],[\"Chatuchak\",\"Sense Sukhumvit\"],[\"Watthana\",\"Sunshine Condominium\"],[\"Chatuchak\",\"Lenice Ekamai\"],[\"Yan Nawa\",\"Life @ Sukhumvit\"],[\"Sathon\",\"Life @ Sukhumvit 67\"],[\"Phasi Charoen\",\"Liv@49\"],[\"Phasi Charoen\",\"Lumpini Suite Sukhumvit 41\"],[\"Bang Kapi\",\"M Thonglor 10\"],[\"Thon Buri\",\"MARQUE Sukhumvit\"],[\"Bangkok Noi\",\"MODE Sukhumvit 61\"],[\"Bang Phlat\",\"Maestro 39\"],[\"Samphanthawong\",\"Mirage Sukhumvit 27\"],[\"Bang Na\",\"Modern Town\"],[\"Bang Na\",\"Noble BE19\"],[\"Bang Na\",\"Noble Ora\"],[\"Sathon\",\"Noble Recole\"],[\"Bang Phlat\",\"Noble Remix\"],[\"Phaya Thai\",\"Noble Reveal\"],[\"Wang Thonglang\",\"Noble Solo\"],[\"Watthana\",\"Nusasiri Grand\"],[\"Huai Khwang\",\"Plus 67\"],[\"Yan Nawa\",\"Q. House Condo Sukhumvit 79\"],[\"Ratchathewi\",\"Quattro by Sansiri\"],[\"Chatuchak\",\"Rende Sukhumvit 23\"],[\"Khan Na Yao\",\"Royce Private Residences\"],[\"Watthana\",\"SOCIO Reference 61\"],[\"Bang Na\",\"Siamese Exclusive Sukhumvit 31\"],[\"Bang Kapi\",\"Siamese Gioia\"],[\"Suan Luang\",\"Siamese Thirty Nine\"],[\"Watthana\",\"Siri at Sukhumvit\"],[\"Pom Prap Sattru Phai\",\"Sky Walk Condominium\"],[\"Wang Thonglang\",\"Sukhumvit City Resort\"],[\"Din Daeng\",\"Sukhumvit Living Town\"],[\"Chatuchak\",\"Supalai Premier Place Asoke\"],[\"Yan Nawa\",\"TELA Thonglor\"],[\"Khlong Toei\",\"Tai Ping Towers\"],[\"Chatuchak\",\"Ten Ekamai\"],[\"Huai Khwang\",\"The 49 Plus 2\"],[\"Pathum Wan\",\"The Address Sukhumvit 61\"],[\"Bang Kho Laem\",\"The Alcove 49\"],[\"Din Daeng\",\"The Alcove Thonglor 10\"],[\"Thon Buri\",\"The Amethyst Sukhumvit 39\"],[\"Thon Buri\",\"The Bangkok Sukhumvit 43\"],[\"Phra Khanong\",\"The Bangkok Sukhumvit 61\"],[\"Bang Khen\",\"The Base Park East Sukhumvit 77\"],[\"Bang Na\",\"The Base Park West Sukhumvit 77\"],[\"Watthana\",\"The Base Sukhumvit 77\"],[\"Phaya Thai\",\"The Bloom Sukhumvit 71\"],[\"Phaya Thai\",\"The Cadogan Private Residence\"],[\"Huai Khwang\",\"The Clover\"],[\"Din Daeng\",\"The Crest Sukhumvit 34\"],[\"Sathon\",\"The Crest Sukhumvit 49\"],[\"Phaya Thai\",\"The Diplomat 39\"],[\"Phaya Thai\",\"The ESSE Asoke\"],[\"Bang Sue\",\"The Height\"],[\"Bang Na\",\"The Lofts Ekkamai\"],[\"Phaya Thai\",\"The Madison\"],[\"Chatuchak\",\"The Master Centrium Asoke-Sukhumvit\"],[\"Chom Thong\",\"The Niche Sukhumvit 49\"],[\"Khan Na Yao\",\"The Oleander\"],[\"Pathum Wan\",\"The Peak Sukhumvit 15\"],[\"Rat Burana\",\"The Prime 11\"],[\"Chatuchak\",\"The Rise Sukhumvit 39\"],[\"Bang Kho Laem\",\"The Room Sukhumvit 21\"],[\"Chatuchak\",\"The Room Sukhumvit 69\"],[\"Phaya Thai\",\"The Room Sukhumvit 79\"],[\"Phaya Thai\",\"The Trendy Condominium\"],[\"Phaya Thai\",\"The XXXIX by Sansiri\"],[\"Chatuchak\",\"Tidy Thonglor\"],[\"Huai Khwang\",\"Town Sukhumvit 71\"],[\"Din Daeng\",\"Up Ekamai\"],[\"Din Daeng\",\"Urbana Sukhumvit 15\"],[\"Huai Khwang\",\"Via 31\"],[\"Huai Khwang\",\"Via 49\"],[\"Chatuchak\",\"Via Botani\"],[\"Phra Khanong\",\"Villa Sikhara\"],[\"Chatuchak\",\"Vincente Sukhumvit 49\"],[\"Phra Khanong\",\"Vista Garden\"],[\"Bang Kho Laem\",\"Voque Sukhumvit 31\"],[\"Bang Sue\",\"W 8 Thonglor 25\"],[\"Bang Kapi\",\"WYNE Sukhumvit\"],[\"Ratchathewi\",\"Wattana Suite\"],[\"Bang Sue\",\"Wind Sukhumvit 23\"],[\"Pathum Wan\",\"Zenith Place @ Sukhumvit\"],[\"Khan Na Yao\",\"Baan Lux-Sathon\"],[\"Ratchathewi\",\"Bangkok Garden\"],[\"Ratchathewi\",\"Belle Park Residence\"],[\"Khlong Toei\",\"Bridge Sathorn-Narathiwas\"],[\"Watthana\",\"Condo One Sathorn\"],[\"Khlong Toei\",\"Condo One X Sathorn-Narathiwat\"],[\"Watthana\",\"Condolette Pixel Sathorn\"],[\"Khlong San\",\"D Condo Sathupradit 49\"],[\"Din Daeng\",\"LPN Tower\"],[\"Huai Khwang\",\"Le Rich Sathorn-Satupradit\"],[\"Bang Phlat\",\"Lumpini Park Riverside Rama 3\"],[\"Bang Na\",\"Lumpini Place Narathiwas\"],[\"Bang Na\",\"Lumpini Place Narathiwas 24\"],[\"Bangkok Yai\",\"Lumpini Place Narathiwas-Chaopraya\"],[\"Huai Khwang\",\"Lumpini Place Rama IV-Sathorn\"],[\"Huai Khwang\",\"Lumpini Suite Ratchada-Rama III\"],[\"Watthana\",\"Modern Home Tower The Exclusive\"],[\"Din Daeng\",\"P.S.T. City Home\"],[\"Bang Kapi\",\"PM Riverside\"],[\"Huai Khwang\",\"Palm Pavillion 3\"],[\"Watthana\",\"Resorta Yen-akat\"],[\"Bang Rak\",\"Sathorn Place\"],[\"Wang Thonglang\",\"Supalai Premier Narathiwas-Sathorn\"],[\"Chatuchak\",\"Supalai Prima Riva\"],[\"Suan Luang\",\"Supalai Riva Grande\"],[\"Chatuchak\",\"Supreme Place\"],[\"Chatuchak\",\"The Breeze Narathiwas\"],[\"Chatuchak\",\"The Complete Narathiwat\"],[\"Din Daeng\",\"The Lanai Sathorn\"],[\"Yan Nawa\",\"The Lofts Yennakart\"],[\"Pathum Wan\",\"The Pano\"],[\"Samphanthawong\",\"The Star Estate @ Narathiwas\"],[\"Watthana\",\"The Star Estate @ Rama 3\"],[\"Khlong Toei\",\"The Trust Residence Ratchada-Rama 3\"],[\"Yan Nawa\",\"U Delight Residence Riverfront Rama 3\"],[\"Khlong Toei\",\"Yen Akard Garden\"],[\"Bang Kapi\",\"Supalai City Resort Bearing Station Sukumvit 105\"],[\"Chatuchak\",\"The Coast Condominium\"],[\"Khlong Toei\",\"The Excel Bearing\"],[\"Ratchathewi\",\"The Excel Hybrid\"],[\"Bang Rak\",\"The Gallery Bearing\"],[\"Yan Nawa\",\"The Knight by Knightsbridge\"],[\"Bang Na\",\"The Sky Sukhumvit\"],[\"Pathum Wan\",\"The Teak Bangna-Trad\"],[\"Watthana\",\"Voque Place Sukhumvit 107\"],[\"Watthana\",\"Bang Ao Riverside\"],[\"Phasi Charoen\",\"Bangkok River Marina\"],[\"Bangkok Noi\",\"Bangyeekhan Condominium\"],[\"Lat Krabang\",\"City Home Ratchada-Pinklao\"],[\"Bang Khen\",\"Ivy Residence Pinklao\"],[\"Bang Kapi\",\"Lumpini Park Pinklao\"],[\"Bang Kapi\",\"Lumpini Place Pinklao 1\"],[\"Yan Nawa\",\"Lumpini Place Pinklao 2\"],[\"Phaya Thai\",\"Lumpini Place Rama VIII\"],[\"Din Daeng\",\"Lumpini Suite Rama Vlll\"],[\"Watthana\",\"My Condo Pinklao\"],[\"Watthana\",\"Pinklao Pavilion\"],[\"Don Mueang\",\"Rattanakosin View Mansion\"],[\"Watthana\",\"Thana Arcadia\"],[\"Huai Khwang\",\"Thana Tri\"],[\"Huai Khwang\",\"Thew River Place\"],[\"Watthana\",\"Baan Siri Silom\"],[\"Bang Rak\",\"Collezio Sathorn-Pipat\"],[\"Khlong Toei\",\"Condolette Light Convent\"],[\"Lat Phrao\",\"Diamond Tower\"],[\"Watthana\",\"Focus on Saladaeng\"],[\"Huai Khwang\",\"Ivy Sathorn 10\"],[\"Huai Khwang\",\"Jewelry Trade Center\"],[\"Lat Phrao\",\"Klass Condo Silom\"],[\"Dusit\",\"Life @ Sathorn 10\"],[\"Chatuchak\",\"M Silom\"],[\"Phra Khanong\",\"Noble Revo Silom\"],[\"Watthana\",\"Pabhada Silom\"],[\"Watthana\",\"Quad Silom\"],[\"Chatuchak\",\"Saladaeng Colonnade\"],[\"Phra Khanong\",\"Saladaeng Residences\"],[\"Phra Khanong\",\"Siamese Surawong\"],[\"Din Daeng\",\"Silom Grand Terrace\"],[\"Watthana\",\"Silom Suite\"],[\"Chatuchak\",\"Silom Terrace\"],[\"Khlong Toei\",\"State Tower\"],[\"Watthana\",\"Supalai Elite Surawong\"],[\"Bang Kapi\",\"Surawong City Resort\"],[\"Phaya Thai\",\"The Address Sathorn\"],[\"Lat Phrao\",\"The Bangkok Thanon Sub\"],[\"Huai Khwang\",\"The Infinity\"],[\"Phaya Thai\",\"The Legend Saladaeng\"],[\"Khlong Toei\",\"The Ritz-Carlton Residences at MahaNakhon\"],[\"Lak Si\",\"The Room Charoenkrung 30\"],[\"Khlong Toei\",\"The Royal Saladaeng\"],[\"Bang Rak\",\"The Surawong\"],[\"Huai Khwang\",\"The Treasure Silom\"],[\"Bang Kapi\",\"Vertiq\"],[\"Watthana\",\"Wish @ Samyan\"],[\"Watthana\",\"333 Riverside\"],[\"Sathon\",\"Aspire Ratchada - Wongsawang\"],[\"Suan Luang\",\"Centric Scene Ratchavipha\"],[\"Khlong San\",\"Chewathai Interchange\"],[\"Bang Khae\",\"Chewathai Residence Bang Pho\"],[\"Chatuchak\",\"Ideo Mobi Wongsawang - Interchange\"],[\"Huai Khwang\",\"Lumpini Ville Prachachuen-Phongphet 2\"],[\"Bang Kapi\",\"Piboon Condoville\"],[\"Lat Phrao\",\"Regent Home 20 Prachachuen 16\"],[\"Ratchathewi\",\"Rich Park 2 @Taopoon Interchange\"],[\"Watthana\",\"Richpark @ Bangson Station\"],[\"Wang Thonglang\",\"Supalai Veranda Ratchavipha - Prachachuen\"],[\"Watthana\",\"Taopoon Mansion\"],[\"Phaya Thai\",\"The Parkland Ratchada - Wongsawang\"],[\"Khlong Toei\",\"The Tree Interchange\"],[\"Huai Khwang\",\"The Tree Privata\"],[\"Watthana\",\"U Delight 2 @ Bang Sue Station\"],[\"Bang Kapi\",\"U Delight 3 Prachachuen - Bang Sue\"],[\"Watthana\",\"U Delight @ Bang Sue Station\"],[\"Wang Thonglang\",\"Bangkhunnon Rimnam\"],[\"Watthana\",\"Bangkok Noi Waterside\"],[\"Pathum Wan\",\"D Condo Charansanitwong\"],[\"Wang Thonglang\",\"Pinklao Condominium\"],[\"Don Mueang\",\"Pracha Ruamjai Condo Town\"],[\"Huai Khwang\",\"The Trust Residence Pinklao\"],[\"Bang Kapi\",\"dBURA Pran Nok\"],[\"Phaya Thai\",\"City Home Tha-Phra Intersection\"],[\"Watthana\",\"Baan Eua Arthorn Buengkum\"],[\"Watthana\",\"Baan Navatara\"],[\"Chatuchak\",\"I CONDO Sukhapiban 2\"],[\"Phaya Thai\",\"Incio\"],[\"Phaya Thai\",\"Lumpini Condo Town Nida - Serithai\"],[\"Khlong San\",\"Lumpini Park Nawamin-Sriburapha\"],[\"Watthana\",\"Plum Condo Nawamin\"],[\"Khlong San\",\"SPN Residence\"],[\"Chatuchak\",\"624 Condolette Ratchada 36\"],[\"Huai Khwang\",\"Ables Ladprao 27\"],[\"Watthana\",\"Abstracts Phahonyothin Park\"],[\"Watthana\",\"Astra Condominium\"],[\"Phasi Charoen\",\"BTS Residence\"],[\"Bueng Kum\",\"Baan Phrayapirom-Ratchada\"],[\"Huai Khwang\",\"Baan Ratchayothin\"],[\"Huai Khwang\",\"Baan Suan Ratchada\"],[\"Huai Khwang\",\"Baan Vipavee\"],[\"Lat Krabang\",\"Bangkok Feliz Major Ratchayothin\"],[\"Rat Burana\",\"Bangkok Feliz Vibhavadi 30\"],[\"Khlong Toei\",\"Benjasri Vibhavadi\"],[\"Khlong San\",\"Bridge Phaholyothin 37\"],[\"Bang Na\",\"C Place Ladprao 18\"],[\"Chatuchak\",\"Century Park\"],[\"Chatuchak\",\"Chapter One The Campus Kaset\"],[\"Phaya Thai\",\"Chateau In Town Major Ratchayothin 2\"],[\"Bang Na\",\"Chateau In Town Phahonyothin 32\"],[\"Ratchathewi\",\"Chateau In Town Ratchada 36\"],[\"Huai Khwang\",\"Chateau In Town Vibhavadi 30\"],[\"Khlong San\",\"Condare Maneeya\"],[\"Phra Khanong\",\"Condo One Ladprao 15\"],[\"Bang Na\",\"Condo One Ladprao 18\"],[\"Bang Sue\",\"Condo One Ladprao Station\"],[\"Khlong Toei\",\"Condo U Ratchayothin\"],[\"Ratchathewi\",\"Ease Ratchada\"],[\"Huai Khwang\",\"Elephant Tower\"],[\"Khlong San\",\"Equinox\"],[\"Ratchathewi\",\"G One Condo\"],[\"Khlong Toei\",\"Haus 23 Ratchada-Ladprao\"],[\"Bueng Kum\",\"Hope and Guy Condo Town\"],[\"Bang Khen\",\"Ideo Ladprao 17\"],[\"Bang Kapi\",\"Ideo Ladprao 5\"],[\"Phaya Thai\",\"J.W. City Ratchada 32\"],[\"Khlong Toei\",\"LIB Ladprao 20\"],[\"Huai Khwang\",\"La Maison  Phaholyothin 24\"],[\"Huai Khwang\",\"Levo Ladprao 18 Project 1\"],[\"Bang Phlat\",\"Life @ Ladprao 18\"],[\"Rat Burana\",\"Life @ Ratchada\"],[\"Bang Rak\",\"Lugano Ladprao 18\"],[\"Watthana\",\"Lumpini Place Ratchayothin\"],[\"Watthana\",\"M Jatujak\"],[\"Wang Thonglang\",\"M Ladprao\"],[\"Chatuchak\",\"Morning Side Heights Ratchada 30\"],[\"Lat Phrao\",\"Murraya Place Ladprao 27\"],[\"Bang Rak\",\"My Condo Ladprao 27\"],[\"Huai Khwang\",\"Pattanachat Suite\"],[\"Huai Khwang\",\"Pete Ratchada Condominium\"],[\"Ratchathewi\",\"Prasertsuk Place\"],[\"Sai Mai\",\"Premsiri Boutique Park\"],[\"Watthana\",\"Ratchada Pavilion\"],[\"Din Daeng\",\"Ratchada Ville\"],[\"Pathum Wan\",\"Regent Home 6 Prachacheun\"],[\"Pathum Wan\",\"SYM Vibha-Ladprao\"],[\"Bang Rak\",\"Sailom Suite\"],[\"Bang Na\",\"Sarin Place\"],[\"Khlong Toei\",\"SiriMetro Ratchada-Vipawadee\"],[\"Chatuchak\",\"Supalai City Resort Ratchayothin - Phaholyothin 32\"],[\"Wang Thonglang\",\"Supalai Park Kaset\"],[\"Watthana\",\"Supalai Park Phaholyothin\"],[\"Yan Nawa\",\"Supapong Place\"],[\"Chatuchak\",\"THE LINE Jatujak-Mochit\"],[\"Phaya Thai\",\"Tawana Residence\"],[\"Bang Na\",\"The Classy Ratchadaphisek 19\"],[\"Bang Na\",\"The Issara Ladprao\"],[\"Khlong Toei\",\"The Key Phahonyothin\"],[\"Wang Thonglang\",\"The Nigh Condo Ngamwongwan\"],[\"Khlong Toei\",\"The Peace\"],[\"Khlong Toei\",\"The Room Ratchada-Ladprao\"],[\"Pathum Wan\",\"The Seed Terre Ratchayothin\"],[\"Bang Kapi\",\"The Unique Ladprao 10\"],[\"Watthana\",\"The Unique Ladprao 26\"],[\"Khlong Toei\",\"The Zest Ladprao\"],[\"Watthana\",\"Tree Condo Ladprao 27\"],[\"Watthana\",\"U Delight @ Jatujak Station\"],[\"Phaya Thai\",\"U Delight @ Phaholyothin Station\"],[\"Watthana\",\"Ussakan Place Twin Condo\"],[\"Watthana\",\"Vantage Ratchavipa\"],[\"Watthana\",\"Vibhavadi Suite\"],[\"Khlong Toei\",\"Vibhavadi View\"],[\"Phaya Thai\",\"Whizdom Avenue Ratchada - Ladprao\"],[\"Din Daeng\",\"Wilmore\"],[\"Yan Nawa\",\"Wind Ratchayothin\"],[\"Watthana\",\"You Condo\"],[\"Huai Khwang\",\"Aspire Sathorn-Taksin\"],[\"Chatuchak\",\"Baan Suan Rimnam\"],[\"Thon Buri\",\"Chaigoon Tower\"],[\"Chatuchak\",\"Lumpini Place Suksawat - Rama 2\"],[\"Phaya Thai\",\"Origins Rama 2\"],[\"Chatuchak\",\"The Key Sathorn-Ratchapruek\"],[\"Huai Khwang\",\"The Key Wutthakat\"],[\"Huai Khwang\",\"The Tempo Grand Sathorn-Wutthakat\"],[\"Bang Rak\",\"A Space Asoke-Ratchada\"],[\"Watthana\",\"A Space Hideaway Asoke-Ratchada\"],[\"Watthana\",\"Amanta Ratchada\"],[\"Huai Khwang\",\"Boutique Ratchada 2\"],[\"Khlong Toei\",\"Casa Condo Asoke-Dindaeng\"],[\"Watthana\",\"Centric Ratchada-Suthisan\"],[\"Phaya Thai\",\"Chateau In Town Ratchada 13\"],[\"Lat Phrao\",\"Chateau In Town Ratchada 17\"],[\"Chatuchak\",\"City Court\"],[\"Bang Kapi\",\"City Room  Ratchada-Suthisan\"],[\"Bang Kapi\",\"Condo One Ratchada-Ladprao\"],[\"Bang Kapi\",\"D.D. Tower\"],[\"Suan Luang\",\"Emerald Residence Ratchada\"],[\"Bang Khae\",\"Klangkrung Resort\"],[\"Wang Thonglang\",\"Le Rich Ratchada-Sutthisarn\"],[\"Bueng Kum\",\"Metro Sky Ratchada\"],[\"Bang Khen\",\"Pano Ville\"],[\"Bang Khen\",\"Ratchada Place\"],[\"Khan Na Yao\",\"Supalai Park Asoke-Ratchada\"],[\"Bueng Kum\",\"T.V.C. Condominium\"],[\"Bang Phlat\",\"The Kris Extra 5\"],[\"Huai Khwang\",\"The Kris Ratchada\"],[\"Yan Nawa\",\"The Niche Ratchada - Huay Kwang\"],[\"Taling Chan\",\"Airplane Place\"],[\"Yan Nawa\",\"Baan Suan Chaengwattana\"],[\"Yan Nawa\",\"DEN Vibhavadi\"],[\"Yan Nawa\",\"Happy Condo Laksi-Donmuang\"],[\"Phaya Thai\",\"P.P.H. Condo\"],[\"Bang Phlat\",\"Park View Viphavadi\"],[\"Bang Phlat\",\"Baan Suan Sukhothai\"],[\"Khlong Toei\",\"Dusit Avenue\"],[\"Bang Kho Laem\",\"A Space Play Ratchada-Sutthisarn\"],[\"Bang Kho Laem\",\"Aspire Rama 9\"],[\"Yan Nawa\",\"Belle Avenue Ratchada-Rama 9\"],[\"Bang Phlat\",\"C Style\"],[\"Bang Khen\",\"Centric Ratchada - Huai Khwang\"],[\"Thon Buri\",\"Chateau In Town Ratchada 10\"],[\"Chatuchak\",\"Chateau In Town Ratchada 20\"],[\"Sathon\",\"Chateau In Town Ratchada 20-2\"],[\"Suan Luang\",\"City Home Ratchada\"],[\"Sathon\",\"City Living Ratchada\"],[\"Chom Thong\",\"City Resort Ratchada-Huay Khwang\"],[\"Bang Phlat\",\"Classe Condo\"],[\"Yan Nawa\",\"Diamond Ratchada\"],[\"Watthana\",\"Diamond Ratchada Cool House\"],[\"Huai Khwang\",\"Dsign Ratchada\"],[\"Bang Na\",\"Duliya Chalisma\"],[\"Wang Thonglang\",\"Family Park\"],[\"Phaya Thai\",\"Forum Tower\"],[\"Suan Luang\",\"Garden Asoke - Rama 9\"],[\"Sathon\",\"Grene Suthisarn\"],[\"Bang Sue\",\"Happy Condo Ratchada 18\"],[\"Bang Khen\",\"Humble Living\"],[\"Bang Kapi\",\"I-Biza\"],[\"Bang Kapi\",\"I-House Laguna Garden\"],[\"Rat Burana\",\"I-House Rama IX-Ekamai\"],[\"Suan Luang\",\"Ideo Mobi Rama 9\"],[\"Suan Luang\",\"Ideo Ratchada-Huaykwang\"],[\"Chatuchak\",\"Ivy Ampio\"],[\"Chatuchak\",\"Ivy Ratchada\"],[\"Ratchathewi\",\"Jittrapa Place\"],[\"Bang Rak\",\"Johnny Tower\"],[\"Watthana\",\"Leticia Rama 9\"],[\"Watthana\",\"Life @ Ratchada - Huay Kwang\"],[\"Phaya Thai\",\"Life @ Ratchada - Suthisan\"],[\"Watthana\",\"Life Asoke\"],[\"Pathum Wan\",\"Lumpini Park Rama 9 - Ratchada\"],[\"Ratchathewi\",\"Lumpini Ville Cultural Center\"],[\"Watthana\",\"Metha Place @ Ratchada\"],[\"Pathum Wan\",\"Modern Sweet Home\"],[\"Khlong San\",\"Muang Thai-Phatra Complex\"],[\"Wang Thonglang\",\"My Resort Bangkok\"],[\"Khlong Toei\",\"Noble Revolve Ratchada\"],[\"Bang Na\",\"Noble Revolve Ratchada 2\"],[\"Ratchathewi\",\"PG Rama IX\"],[\"Sathon\",\"Pradya Place Ratchada-Huai Khwang\"],[\"Phra Khanong\",\"Quinn Condo Ratchada\"],[\"Bang Kho Laem\",\"Ratchada City 18\"],[\"Huai Khwang\",\"Ratchada City Condo\"],[\"Khlong Toei\",\"Ratchada Prestige\"],[\"Phasi Charoen\",\"Regent Home 12 Latphrao 41\"],[\"Din Daeng\",\"Rhythm  Ratchada\"],[\"Bang Na\",\"Rhythm Asoke 2\"],[\"Khlong Toei\",\"Rhythm Ratchada - Huai Khwang\"],[\"Watthana\",\"Sun Palace Condominium\"],[\"Yan Nawa\",\"Supalai Park Ekkamai-Thonglor\"],[\"Huai Khwang\",\"Supalai Premier @ Asoke\"],[\"Watthana\",\"Supalai Wellington\"],[\"Chatuchak\",\"T.C. Green\"],[\"Thon Buri\",\"T.C. Tower\"],[\"Huai Khwang\",\"The Capital Ekamai - Thonglor\"],[\"Chatuchak\",\"The Colory Vivid\"],[\"Chatuchak\",\"The Next Ladprao\"],[\"Bang Phlat\",\"The Niche Ladprao 48\"],[\"Khlong San\",\"The Parkland Grand Asoke-Phetchaburi\"],[\"Bang Na\",\"The Peak @ Ratchada - Huay Kwang\"],[\"Phra Khanong\",\"The Pulse Ladprao 44\"],[\"Phra Khanong\",\"The Raffles\"],[\"Huai Khwang\",\"The Seed Ratchada-Huay Kwang\"],[\"Pathum Wan\",\"The Sky Ratchada\"],[\"Sathon\",\"Thru Thonglor\"],[\"Sathon\",\"U Delight @ Huay Kwang Station\"],[\"Khlong Toei\",\"Veranda Residence\"],[\"Pathum Wan\",\"Zenith Place @ Huay Kwang\"],[\"Bang Kapi\",\"Best Condo 2\"],[\"Pathum Wan\",\"Chambers Ramintra\"],[\"Pathum Wan\",\"Chrisma Condo Ramintra\"],[\"Pathum Wan\",\"Lumpini Condo Town Ramintra - Nawamin\"],[\"Watthana\",\"Aliss Wongwianyai\"],[\"Phaya Thai\",\"Baan Sathorn Chaopraya\"],[\"Watthana\",\"Citrine\"],[\"Pathum Wan\",\"Fuse Sathorn-Taksin\"],[\"Watthana\",\"Hive Sathorn\"],[\"Phaya Thai\",\"Hive Taksin\"],[\"Phaya Thai\",\"Ideo Blucove Sathorn\"],[\"Watthana\",\"Ideo Mobi Sathorn\"],[\"Watthana\",\"Ideo Sathorn-Taksin\"],[\"Ratchathewi\",\"Magnolias Waterfront Residences\"],[\"Bang Rak\",\"My Condo Sathorn-Taksin\"],[\"Phaya Thai\",\"Nye by Sansiri\"],[\"Huai Khwang\",\"Q. House Condo Sathorn\"],[\"Huai Khwang\",\"Supalai River Place\"],[\"Watthana\",\"The Bangkok Sathorn-Taksin\"],[\"Bang Na\",\"The Fine @ River\"],[\"Lak Si\",\"The Light House\"],[\"Watthana\",\"The Master Sathorn\"],[\"Khlong San\",\"The Plenary Sathorn\"],[\"Thon Buri\",\"The Rich Sathorn \\u2013 Taksin\"],[\"Pathum Wan\",\"The River\"],[\"Suan Luang\",\"The Room BTS Wongwian Yai\"],[\"Phaya Thai\",\"The Seed Sathorn-Taksin\"],[\"Pathum Wan\",\"The Viva Condo Sathorn-taksin\"],[\"Chom Thong\",\"Tourmaline Gold Sathorn-Taksin\"],[\"Don Mueang\",\"Tourmaline Lite Sathorn-Taksin\"],[\"Yan Nawa\",\"Urbano Absolute Sathon-Taksin\"],[\"Huai Khwang\",\"Villa Sathorn\"],[\"Yan Nawa\",\"Watermark Chaophraya\"],[\"Bang Rak\",\"38 Mansion\"],[\"Phaya Thai\",\"Aguston Sukhumvit 22\"],[\"Yan Nawa\",\"Ashton Morph 38\"],[\"Lat Phrao\",\"Aspire Rama 4\"],[\"Khlong Toei\",\"Baan Siri Sukhumvit 10\"],[\"Din Daeng\",\"Bright Sukhumvit 24\"],[\"Khlong Toei\",\"Circle Rein Sukhumvit 12\"],[\"Phaya Thai\",\"Circle Sukhumvit 12\"],[\"Don Mueang\",\"Condo One Thonglor\"],[\"Lak Si\",\"Condo One X Sukhumvit 26\"],[\"Pathum Wan\",\"Condolette Dwell Sukhumvit 26\"],[\"Chatuchak\",\"Domus\"],[\"Suan Luang\",\"Eua Amornsuk\"],[\"Khlong Toei\",\"Ficus Lane\"],[\"Thon Buri\",\"Focus Ploenchit\"],[\"Ratchathewi\",\"Green Tower\"],[\"Chatuchak\",\"Ideal 24\"],[\"Phaya Thai\",\"Ideo Morph 38\"],[\"Phaya Thai\",\"Ideo Verve Sukhumvit\"],[\"Ratchathewi\",\"Issara@42 Sukhumvit\"],[\"Ratchathewi\",\"Kraam Sukhumvit 26\"],[\"Bang Sue\",\"La Vie En Rose Place\"],[\"Bangkok Noi\",\"Lake Green\"],[\"Bang Phlat\",\"Lake View Condominium\"],[\"Prawet\",\"Le Cote Sukhumvit 14\"],[\"Bang Khae\",\"Le Raffine Sukhumvit 24\"],[\"Bang Kapi\",\"Life Sukhumvit 48\"],[\"Bueng Kum\",\"Lumpini Place Rama 4-Kluaynamthai\"],[\"Watthana\",\"Maison De Siam\"],[\"Bangkok Noi\",\"Metro Luxe Rama 4\"],[\"Phaya Thai\",\"Millennium Residence\"],[\"Huai Khwang\",\"Newton Tower\"],[\"Chatuchak\",\"Pandao Place\"],[\"Thon Buri\",\"Park 24\"],[\"Pathum Wan\",\"Pearl Residences Sukhumvit 24\"],[\"Suan Luang\",\"President Park Harbour View\"],[\"Lat Phrao\",\"Rhythm Sukhumvit\"],[\"Chatuchak\",\"Rhythm Sukhumvit 36-38\"],[\"Khlong Toei\",\"Rhythm Sukhumvit 42\"],[\"Suan Luang\",\"Rhythm Sukhumvit 44/1\"],[\"Pathum Wan\",\"S Condo Sukhumvit 50\"],[\"Bang Kapi\",\"S16 Residences\"],[\"Phaya Thai\",\"Serene Place Sukhumvit 24\"],[\"Bang Kapi\",\"Silver Heritage\"],[\"Prawet\",\"Siri On 8\"],[\"Prawet\",\"Siri Residence\"],[\"Ratchathewi\",\"Sukhumvit Plus\"],[\"Ratchathewi\",\"The Address Sukhumvit 28\"],[\"Pathum Wan\",\"The Address Sukhumvit 42\"],[\"Khlong San\",\"The Crest Sukhumvit 24\"],[\"Watthana\",\"The Emporio Place\"],[\"Bang Rak\",\"The Lakes\"],[\"Watthana\",\"The Room Sukhumvit 40\"],[\"Huai Khwang\",\"The Seed Musee\"],[\"Ratchathewi\",\"The Waterford Diamond\"],[\"Lat Phrao\",\"The Waterford Rama 4\"],[\"Huai Khwang\",\"The Waterford Sukhumvit 50\"],[\"Huai Khwang\",\"Tidy Deluxe Sukhumvit 34\"],[\"Chatuchak\",\"Trapezo Sukhumvit 16\"],[\"Din Daeng\",\"Tree Condo Ekamai\"],[\"Huai Khwang\",\"Tree Condo Sukhumvit 42\"],[\"Chatuchak\",\"U Sabai Rama 4 - Kluaynamthai\"],[\"Phasi Charoen\",\"Urbitia Thong Lo\"],[\"Bang Phlat\",\"Vinn Sukhumvit 46\"],[\"Bang Khen\",\"Von Napa Sukhumvit 38\"],[\"Bang Khen\",\"Voque Sukhumvit 16\"],[\"Huai Khwang\",\"Vtara Sukhumvit 36\"],[\"Phra Khanong\",\"Wilshire\"],[\"Bang Khen\",\"XVI The Sixteenth Condominum\"],[\"Bang Khen\",\"Zenith Place Sukhumvit 42\"],[\"Phra Khanong\",\"Aspire Ngamwongwan\"],[\"Bang Sue\",\"Flora Condo Ville\"],[\"Phra Khanong\",\"Nueng Condominium\"],[\"Bang Khen\",\"Park View Viphavadi 2\"],[\"Chatuchak\",\"The Cube Chaengwattana\"],[\"Bang Na\",\"Airlink Residence\"],[\"Phra Khanong\",\"D Condo Onnut-Suvarnabhumi\"],[\"Suan Luang\",\"IRIS Avenue Onnuch-Suvarnabhumi\"],[\"Watthana\",\"Smart Z Onnuch\"],[\"Pathum Wan\",\"A Space Kaset-Nawamin\"],[\"Phra Khanong\",\"Baan Tri-wit\"],[\"Yan Nawa\",\"Double U\"],[\"Huai Khwang\",\"Duliya Place\"],[\"Ratchathewi\",\"Family House Ladprao 71\"],[\"Huai Khwang\",\"Glory Place\"],[\"Ratchathewi\",\"J.W. Suite\"],[\"Huai Khwang\",\"Lucas Garden - Family House\"],[\"Sathon\",\"Panchasarp Suite Ratchada-Ladprao\"],[\"Sathon\",\"Premio by Premium Place\"],[\"Khlong Toei\",\"Ranee Place\"],[\"Khlong Toei\",\"The Niche ID Ladprao - Wang Hin\"],[\"Khlong Toei\",\"The Tree Condo Ladprao\"],[\"Khlong Toei\",\"Waranya Place\"],[\"Bang Sue\",\"Wealth Garden Family House\"],[\"Bang Sue\",\"Roong Condo\"],[\"Phasi Charoen\",\"185 Rajadamri\"],[\"Bang Kho Laem\",\"All Season Mansion\"],[\"Min Buri\",\"Athenee Residence\"],[\"Phaya Thai\",\"Baan Na Varang\"],[\"Phaya Thai\",\"Baan Rajprasong\"],[\"Watthana\",\"Baan Ratchadamri\"],[\"Suan Luang\",\"Baan Siri Ruedee\"],[\"Khlong Toei\",\"Baan Thanon Sarasin\"],[\"Bang Na\",\"CU Terrace\"],[\"Khlong Toei\",\"Chamchuri Square Residence\"],[\"Phaya Thai\",\"Chidlom Place\"],[\"Watthana\",\"Condo One Siam\"],[\"Pathum Wan\",\"Craft Ploenchit\"],[\"Bueng Kum\",\"Hansar Rajdamri\"],[\"Chatuchak\",\"Klass Condo Langsuan\"],[\"Phaya Thai\",\"Klass Condo Siam\"],[\"Phaya Thai\",\"Langsuan Ville\"],[\"Chatuchak\",\"Maestro 02 Ruamrudee\"],[\"Bang Rak\",\"Magnolias Ratchadamri Boulevard\"],[\"Bang Rak\",\"Na Vara Residence\"],[\"Phaya Thai\",\"Nimit Langsuan\"],[\"Rat Burana\",\"Noble 09 Ruamrudee\"],[\"Pathum Wan\",\"Noble Ambience Ruamrudee\"],[\"Phra Khanong\",\"Noble Ambience Sarasin\"],[\"Chatuchak\",\"Noble Ploenchit\"],[\"Sathon\",\"O2 Hip\"],[\"Sathon\",\"Oriental Residence\"],[\"Yan Nawa\",\"Pathumwan Oasis\"],[\"Sathon\",\"Preen by Sansiri\"],[\"Sathon\",\"Prive by Sansiri\"],[\"Prawet\",\"Q Langsuan\"],[\"Phaya Thai\",\"Renova Residence Chidlom\"],[\"Bang Na\",\"SOCIO Ruamrudee\"],[\"Khlong Toei\",\"Sarasini Residence\"],[\"Samphanthawong\",\"The Address Chidlom\"],[\"Watthana\",\"The Crest Ruamrudee\"],[\"Watthana\",\"The Nest Ploenchit\"],[\"Phaya Thai\",\"The Park Chidlom\"],[\"Bang Rak\",\"The Rajdamri\"],[\"Watthana\",\"The Reserve - Kasemsan 3\"],[\"Phaya Thai\",\"The Residences at The St. Regis Bangkok\"],[\"Bang Khen\",\"The Royal Maneeya\"],[\"Phaya Thai\",\"The Seed Memories Siam\"],[\"Bang Rak\",\"The Tempo Ruamrudee\"],[\"Bang Rak\",\"Tonson Court\"],[\"Bang Rak\",\"Urbana Langsuan\"],[\"Khlong Toei\",\"Bangkok Horizon P 48\"],[\"Khlong Toei\",\"Bangkok Horizon Phetkasem\"],[\"Khlong Toei\",\"D Condo Campus Resort Ratchapruek\"],[\"Watthana\",\"I CONDO Petchkasem 39\"],[\"Chatuchak\",\"Metro Park Sathorn\"],[\"Suan Luang\",\"Ratchapruek Condo\"],[\"Watthana\",\"Richy Tower\"],[\"Bang Khun Thian\",\"Supalai Park Ratchaphruek-Phetkasem\"],[\"Bang Khen\",\"The President Sathorn-Ratchaphruek\"],[\"Lat Krabang\",\"The President Sathorn-Ratchaphruek 2\"],[\"Suan Luang\",\"Adamas Phahonyotin\"],[\"Phaya Thai\",\"Areesamphan Park\"],[\"Sathon\",\"Atrium Phahol-Suthisarn\"],[\"Bang Kho Laem\",\"Baan Kanchanakom\"],[\"Bang Rak\",\"Baxtor Paholyothin 14\"],[\"Bang Kapi\",\"Centric Ari Station\"],[\"Watthana\",\"Centric Place Ari 4-Phaholyothin\"],[\"Phra Khanong\",\"Centric Scene Aree 2\"],[\"Watthana\",\"Centric Scene Phaholyothin 9\"],[\"Khlong Toei\",\"Centurion Park\"],[\"Huai Khwang\",\"Chateau In Town Phaholyothin 11\"],[\"Bang Na\",\"Chateau In Town Phaholyothin 14\"],[\"Bang Kho Laem\",\"Chateau In Town Phaholyothin 14-2\"],[\"Bang Na\",\"D'Rouvre Condominium\"],[\"Bang Kapi\",\"Family Complex\"],[\"Chatuchak\",\"Family Town\"],[\"Ratchathewi\",\"Green Peace Mansion\"],[\"Sathon\",\"Harmony Living Paholyothin 11\"],[\"Bang Rak\",\"Haven Luxe\"],[\"Bang Kho Laem\",\"Haven Phaholyothin\"],[\"Sathon\",\"Ideo Mix Phaholyothin\"],[\"Din Daeng\",\"Intro Phaholyothin-Pradipat\"],[\"Huai Khwang\",\"La Maison 25\"],[\"Chatuchak\",\"Le Monaco Residence Ari\"],[\"Chatuchak\",\"Le Rich @ Aree station\"],[\"Phasi Charoen\",\"Life @ Phahon - Ari\"],[\"Huai Khwang\",\"Lot 29\"],[\"Yan Nawa\",\"Lumpini Place Phahol-Saphankhwai\"],[\"Watthana\",\"Lumpini Ville Phahol-Suthisarn\"],[\"Ratchathewi\",\"MB Grand\"],[\"Yan Nawa\",\"Noble Lite\"],[\"Yan Nawa\",\"Noble Reflex\"],[\"Khlong San\",\"Noble Reform\"],[\"Thon Buri\",\"Noble Revolve\"],[\"Bang Sue\",\"Onyx Phaholyothin\"],[\"Huai Khwang\",\"Paholyothin Park\"],[\"Chatuchak\",\"Park Pavillion\"],[\"Sathon\",\"Phahol Metro\"],[\"Ratchathewi\",\"Phasuk Place\"],[\"Sathon\",\"Pradipat Condominium\"],[\"Sathon\",\"Prom Phaholyothin 2\"],[\"Yan Nawa\",\"Royal Park\"],[\"Sathon\",\"Royal Park 3 Ari-Paholyothin\"],[\"Sathon\",\"SOCIO Inthamara\"],[\"Bang Rak\",\"Sailom City Resort\"],[\"Phra Khanong\",\"Sailom Condominium\"],[\"Huai Khwang\",\"Saphan Kwai Condominium\"],[\"Huai Khwang\",\"Sense Phaholyothin\"],[\"Din Daeng\",\"Siamese Ratchakru\"],[\"Thon Buri\",\"Silk Phaholyothin 9\"],[\"Watthana\",\"Silk Sanampao\"],[\"Chatuchak\",\"Srisawas Condominium\"],[\"Watthana\",\"The Aree Condominium\"],[\"Bang Khun Thian\",\"The Capital Ratchaprarop-Vibha\"],[\"Bang Sue\",\"The Crest Phahonyothin 11\"],[\"Wang Thonglang\",\"The Fah Aree\"],[\"Wang Thonglang\",\"The Fine by Fine Home Ari 4 - Paholyothin\"],[\"Chatuchak\",\"The Monument Sanampao\"],[\"Watthana\",\"The Seed Atom\"],[\"Suan Luang\",\"The Seed Phaholyothin\"],[\"Wang Thonglang\",\"The Signature Residence\"],[\"Bang Kho Laem\",\"The Signature by URBANO\"],[\"Bang Phlat\",\"The Silk Phaholyothin 3\"],[\"Bang Phlat\",\"The Silk Phaholyothin-Aree 2\"],[\"Watthana\",\"The Tempo Phaholyothin\"],[\"Ratchathewi\",\"The Vertical Aree\"],[\"Pathum Wan\",\"Villa Rachakhru\"],[\"Ratchathewi\",\"B Republic\"],[\"Ratchathewi\",\"Baan On Nut Sukhumvit 77\"],[\"Bang Rak\",\"Casa Condo Sukhumvit 97\"],[\"Ratchathewi\",\"Chateau In Town Sukhumvit 62/1\"],[\"Khlong Toei\",\"Chateau in Town Sukhumvit 64\"],[\"Khlong Toei\",\"Eastwood Park\"],[\"Watthana\",\"Elio Condo\"],[\"Watthana\",\"Elio Del Ray\"],[\"Watthana\",\"Ideo Mobi Sukhumvit\"],[\"Watthana\",\"Mayfair Place Sukhumvit 64\"],[\"Phaya Thai\",\"My Condo Sukhumvit 52\"],[\"Sathon\",\"My Condo Sukhumvit 81\"],[\"Sathon\",\"Regent Home 14 Sukhumvit 93\"],[\"Khlong San\",\"Regent Home 19 Sukhumvit 93\"],[\"Watthana\",\"Regent Home 22 Sukhumvit 85\"],[\"Watthana\",\"Regent Orchid Sukhumvit 101\"],[\"Bang Rak\",\"Residence 52\"],[\"Watthana\",\"Sari by Sansiri\"],[\"Watthana\",\"Sukhumvit Garden Place\"],[\"Bang Kapi\",\"Symphony Sukhumvit\"],[\"Watthana\",\"The Escape\"],[\"Watthana\",\"The Green\"],[\"Yan Nawa\",\"The Green 2 @ Sukhumvit 101\"],[\"Watthana\",\"The Green 3 @ Sukhumvit 101\"],[\"Huai Khwang\",\"The Link Sukhumvit 64\"],[\"Phaya Thai\",\"The Log 3\"],[\"Chatuchak\",\"The Log @ Sukhumvit 101/1\"],[\"Watthana\",\"The Muse\"],[\"Bang Na\",\"The Next Garden Suite\"],[\"Huai Khwang\",\"The Next Sukhumvit 52\"],[\"Yan Nawa\",\"The President Sukhumvit\"],[\"Ratchathewi\",\"The Residence Sukhumvit 52\"],[\"Phaya Thai\",\"The Room Sukhumvit 62\"],[\"Pathum Wan\",\"The Room Sukhumvit 64\"],[\"Khlong Toei\",\"The Series Udomsuk\"],[\"Watthana\",\"The Tropical Condominium\"],[\"Watthana\",\"Tree Condo LUXE Sukhumvit 52\"],[\"Lak Si\",\"Tree Condo Sukhumvit 52\"],[\"Watthana\",\"Whizdom 101\"],[\"Sathon\",\"Whizdom @ Punnawithi Station\"],[\"Watthana\",\"Whizdom Sukhumvit 64\"],[\"Sathon\",\"Bo Bae Tower\"],[\"Khlong Toei\",\"Pinnapa On Nut\"],[\"Phra Khanong\",\"Prueksa Thani 3 Condotel\"],[\"Bang Na\",\"Pruksapirom Condotel\"],[\"Bang Na\",\"Sawasdee Bangkok\"],[\"Phaya Thai\",\"The Ninth Place\"],[\"Khlong San\",\"The Trio Garden\"],[\"Phaya Thai\",\"Yong Charoen Complex\"],[\"Bang Na\",\"Chapter One\"],[\"Phra Khanong\",\"ISSI Condo Suksawat\"],[\"Phra Khanong\",\"Ivy River\"],[\"Phra Khanong\",\"Lumpini Ville Ratburana-Riverview\"],[\"Watthana\",\"Saransook Supreme\"],[\"Sathon\",\"AQ Aria Asoke\"],[\"Bang Rak\",\"Baan Klang Krung Siam-Pathumwan\"],[\"Suan Luang\",\"Baan Klangkrung\"],[\"Chatuchak\",\"Baiyoke Tower 1\"],[\"Chatuchak\",\"Benjasri Condominium\"],[\"Chom Thong\",\"Chewathai Ratchaprarop\"],[\"Chom Thong\",\"Circle Condominium\"],[\"Bang Na\",\"Circle Living Prototype\"],[\"Din Daeng\",\"Condolette Ize Ratchathewi\"],[\"Din Daeng\",\"Grand Diamond Pratunam\"],[\"Khlong Toei\",\"Ideo Mobi Phayathai\"],[\"Yan Nawa\",\"Ideo Q Phayathai\"],[\"Suan Luang\",\"Ideo Verve Ratchaprarop\"],[\"Bang Rak\",\"Juldis Mansion\"],[\"Khlong San\",\"M Phayathai\"],[\"Ratchathewi\",\"Maestro 12\"],[\"Phra Khanong\",\"Manhattan Chidlom\"],[\"Watthana\",\"Noble Revent\"],[\"Yan Nawa\",\"Petch 9 Tower\"],[\"Phra Khanong\",\"Phayathai Place\"],[\"Phra Khanong\",\"Phayathai Plaza\"],[\"Watthana\",\"Pyne by Sansiri\"],[\"Sathon\",\"Q Asoke\"],[\"Ratchathewi\",\"Rajvithi City Resort\"],[\"Watthana\",\"Rhythm Asoke\"],[\"Khlong San\",\"Rhythm Rangnam\"],[\"Sathon\",\"Supalai Elite Phayathai\"],[\"Phaya Thai\",\"Supalai Premier Ratchathewi\"],[\"Phra Khanong\",\"Supreme Condo Ratchawithi 3\"],[\"Pathum Wan\",\"The Address Asoke\"],[\"Phra Khanong\",\"The Address Pathumwan\"],[\"Huai Khwang\",\"The Address Phayathai\"],[\"Phra Khanong\",\"The Address Siam\"],[\"Bang Kapi\",\"The Complete Rajprarop\"],[\"Lat Phrao\",\"The Line Ratchathewi\"],[\"Bang Kapi\",\"The Mark Ratchada-Airport Link\"],[\"Huai Khwang\",\"The Platinum\"],[\"Din Daeng\",\"Villa Asoke\"],[\"Watthana\",\"Villa Rachatewi\"],[\"Thon Buri\",\"Wish @ Siam\"],[\"Chatuchak\",\"Wish Signature  Midtown Siam\"],[\"Prawet\",\"Baan Eua Arthorn Saimai\"],[\"Watthana\",\"Keha Chunchon Orngern\"],[\"Yan Nawa\",\"Yothin Place\"],[\"Sathon\",\"Bangkok River Park\"],[\"Pathum Wan\",\"Condo One Soho\"],[\"Huai Khwang\",\"Si Phraya River View\"],[\"Thon Buri\",\"Amanta Lumpini\"],[\"Bang Khae\",\"Baan Nonsi\"],[\"Bang Sue\",\"Baan Nunthasiri\"],[\"Thon Buri\",\"Baan Siri Sathorn\"],[\"Chatuchak\",\"Baan Siri Sathorn Yenakard\"],[\"Huai Khwang\",\"Baan Siriyenakat\"],[\"Watthana\",\"Bangkok Horizon Lazi\"],[\"Ratchathewi\",\"Bangrak Condominium\"],[\"Khlong San\",\"Centric Sathorn - Saint Louis\"],[\"Phasi Charoen\",\"Fuse Chan - Sathorn\"],[\"Phasi Charoen\",\"Lumpini Place Sathorn\"],[\"Phra Khanong\",\"Lumpini Place Suanplu-Sathorn\"],[\"Watthana\",\"Lumpini Ville Phra Mae Maree - Sathorn\"],[\"Huai Khwang\",\"Marsh Tien Zieng\"],[\"Huai Khwang\",\"Nara 9 by Eastern Star\"],[\"Pathum Wan\",\"Narathorn Place\"],[\"Pathum Wan\",\"Rhythm Sathorn\"],[\"Phra Khanong\",\"Rhythm Sathorn - Narathiwas\"],[\"Pathum Wan\",\"Sathorn Gardens\"],[\"Khlong San\",\"Sathorn Heritage\"],[\"Watthana\",\"Sathorn Plus - By The Garden\"],[\"Bang Rak\",\"Sathorn Plus On The Pond\"],[\"Khlong San\",\"St. Louis Grand Terrace\"],[\"Khlong San\",\"Supalai Elite Sathorn - Suanplu\"],[\"Bang Rak\",\"Supalai Oriental Place Sathorn-Suanplu\"],[\"Chatuchak\",\"Supreme Classic\"],[\"Thon Buri\",\"Supreme Elegance\"],[\"Watthana\",\"Supreme Garden\"],[\"Khlong Toei\",\"Supreme Residence\"],[\"Phra Khanong\",\"Supreme Ville\"],[\"Phra Khanong\",\"The Bangkok Narathiwas Ratchanakarint\"],[\"Watthana\",\"The Bangkok Sathon\"],[\"Watthana\",\"The Diplomat Sathorn\"],[\"Pathum Wan\",\"The Empire Place\"],[\"Bang Rak\",\"The Hudson Sathorn 7\"],[\"Phaya Thai\",\"The Maple Sathon-Narathiwat\"],[\"Pathum Wan\",\"The Met\"],[\"Sathon\",\"The Parco\"],[\"Khlong Toei\",\"The Seed Mingle\"],[\"Phaya Thai\",\"The Station Sathorn - Bangrak\"],[\"Huai Khwang\",\"The Sukhothai Residences\"],[\"Khlong San\",\"Urbana Sathorn\"],[\"Chatuchak\",\"A Space Me Sukhumvit 77\"],[\"Phra Khanong\",\"A Space Sukhumvit 77\"],[\"Phaya Thai\",\"Baan Sukhumvit 77\"],[\"Phaya Thai\",\"Bliz Condominium Rama 9 - Hua Mak\"],[\"Phaya Thai\",\"Condo 5 Sor\"],[\"Phaya Thai\",\"Fuse Mobius Ramkhamhaeng Station\"],[\"Huai Khwang\",\"Lumpini Center Sukhumvit 77\"],[\"Bang Na\",\"Lumpini Place Srinakarin\"],[\"Yan Nawa\",\"Lumpini Ville Phatthanakan-New Phetchaburi\"],[\"Yan Nawa\",\"Lumpini Ville Sukhumvit 77\"],[\"Sathon\",\"Lumpini Ville Sukhumvit 77 2\"],[\"Sathon\",\"Onnuch Place\"],[\"Bang Rak\",\"Pattarasripat Tower\"],[\"Bang Na\",\"Premier Place\"],[\"Chom Thong\",\"Prima Srinakarin\"],[\"Phaya Thai\",\"Regent Pattanakarn\"],[\"Pathum Wan\",\"S 1 Rama 9\"],[\"Bang Rak\",\"Sirin Residence\"],[\"Lat Phrao\",\"Srinakarin Condominium\"],[\"Bang Sue\",\"Thairong Tower\"],[\"Bang Sue\",\"The Iris\"],[\"Watthana\",\"The Leaf\"],[\"Prawet\",\"U Delight @ Onnut Station\"],[\"Phra Khanong\",\"U Delight Residence\"],[\"Bangkok Noi\",\"Lumpini Place Borom Ratchachonni \\u2013 Pinklao\"],[\"Yan Nawa\",\"Aspire Sathorn Thapra\"],[\"Chatuchak\",\"Bangkok Horizon Ratchada-Thapra\"],[\"Chatuchak\",\"Casa Condo Ratchada Thapra\"],[\"Phaya Thai\",\"Casa Condo Ratchada-Ratchaphruek\"],[\"Khlong San\",\"Life @ BTS Tha-Phra\"],[\"Khlong Toei\",\"Lumpini Place Ratchada-Thapra\"],[\"Khlong Toei\",\"Motif Condo\"],[\"Khlong Toei\",\"Nyx by Sansiri\"],[\"Bang Kapi\",\"Pela Wutthakat\"],[\"Watthana\",\"Prayapirom Chateau Riverboat\"],[\"Chatuchak\",\"Supalai River Resort\"],[\"Bang Phlat\",\"TEAL Sathorn-Taksin\"],[\"Huai Khwang\",\"The Niche Taksin\"],[\"Khlong Toei\",\"The Parkland Grand Taksin\"],[\"Watthana\",\"The Parkland Taksin-Thapra\"],[\"Pathum Wan\",\"The Room Sathorn-Taksin\"],[\"Khlong San\",\"Assagarn Place Ladprao 85\"],[\"Khlong San\",\"Baan Bodin\"],[\"Watthana\",\"Baan Ratchada\"],[\"Khlong Toei\",\"Be You Chokchai 4\"],[\"Khlong Toei\",\"Bodin Suite Home\"],[\"Phra Khanong\",\"Commune 80\"],[\"Chatuchak\",\"Grand Park Town\"],[\"Khlong Toei\",\"Hampton Place\"],[\"Phra Khanong\",\"Happy Condo Ladprao 101\"],[\"Bang Sue\",\"J.W. Boulevard Srivara\"],[\"Bang Sue\",\"LIB Ramkhamhaeng 43/1\"],[\"Bang Sue\",\"Ladprao Condo Town\"],[\"Bang Kapi\",\"Lumpini Condo Town Bodindecha - Ramkhamhaeng\"],[\"Huai Khwang\",\"Lumpini Ville Latphrao-Chokchai 4\"],[\"Chatuchak\",\"Mahadthai Condotel\"],[\"Suan Luang\",\"Tara Ruankaew\"],[\"Chatuchak\",\"Tara Ruen Ake\"],[\"Suan Luang\",\"Than Living\"],[\"Yan Nawa\",\"15 Suite\"],[\"Khlong Toei\",\"15 Sukhumvit Residences\"],[\"Watthana\",\"39 Suites\"],[\"Pathum Wan\",\"49 Plus\"],[\"Sathon\",\"49 Suite\"],[\"Watthana\",\"59 Heritage\"],[\"Khlong San\",\"Acadamia Grand Tower\"],[\"Khlong Toei\",\"Aequa Sukhumvit 49\"],[\"Bang Kapi\",\"Art @ Thonglor 25\"],[\"Chatuchak\",\"Ascent Ekamai-Thonglor\"],[\"Chatuchak\",\"Ashton Asoke\"],[\"Huai Khwang\",\"Ashton Residence 41\"],[\"Bang Rak\",\"Avenue 61\"],[\"Watthana\",\"Baan Saraan\"],[\"Watthana\",\"Baan Siri 31\"],[\"Watthana\",\"Bangkok Feliz Sukhumvit 69\"],[\"Chatuchak\",\"Belgravia Residences\"],[\"Chatuchak\",\"Beverly 33\"],[\"Ratchathewi\",\"Blocs 77\"],[\"Phaya Thai\",\"Ceil by Sansiri\"],[\"Ratchathewi\",\"Circle Sukhumvit 11\"],[\"Khlong San\",\"Circle Sukhumvit 31\"],[\"Watthana\",\"City Resort Sukhumvit 49\"],[\"Watthana\",\"Click Condo Sukhumvit 65\"],[\"Khlong Toei\",\"Condo One Sukhumvit 67\"],[\"Watthana\",\"D 25 Thonglor\"],[\"Khlong Toei\",\"D 65\"],[\"Bang Na\",\"D.S. Tower 1 Sukhumvit 33\"],[\"Khlong Toei\",\"D.S. Tower 2 Sukhumvit 39\"],[\"Watthana\",\"DLV Thonglor 20\"],[\"Khlong Toei\",\"Diamond Sukhumvit\"],[\"Watthana\",\"Downtown Forty Nine\"],[\"Watthana\",\"Edge Sukhumvit 23\"],[\"Lat Phrao\",\"Eight Thonglor Residence\"],[\"Khlong San\",\"Empire House\"],[\"Watthana\",\"European Central Place\"],[\"Bang Khen\",\"Fragrant 71\"],[\"Lat Phrao\",\"Fullerton\"],[\"Phra Khanong\",\"Grand Heritage Thonglor\"],[\"Phra Khanong\",\"Grand Park View\"],[\"Chatuchak\",\"H Sukhumvit 43\"],[\"Phra Khanong\",\"HQ by Sansiri\"],[\"Chatuchak\",\"Hampton Thonglor 10\"],[\"Khlong Toei\",\"Harmony Living Sukhumvit 15\"],[\"Chatuchak\",\"Hasu Haus\"],[\"Watthana\",\"Hive Sukhumvit 65\"],[\"Bang Rak\",\"Hyde Sukhumvit\"],[\"Ratchathewi\",\"Hyde Sukhumvit 11\"],[\"Ratchathewi\",\"Ivy Thonglor\"],[\"Khlong Toei\",\"J.C. Tower\"],[\"Yan Nawa\",\"Keyne\"],[\"Prawet\",\"LIV @5\"],[\"Sai Mai\",\"Le Cosi Ekamai 28\"],[\"Chatuchak\",\"Le Cote Thonglor 8\"],[\"Huai Khwang\",\"Le Luk\"],[\"Watthana\",\"Le Nice Ekamai\"],[\"Khlong Toei\",\"Le Raffine Jambu Dvipa Sukhumvit 39\"],[\"Bangkok Noi\",\"Le Raffine Jambunuda Sukhumvit 31\"]],\"hovertemplate\":\"predicted_price_sqm_next_year=%{z}<br>latitude=%{lat}<br>longitude=%{lon}<br>district=%{customdata[0]}<br>name=%{customdata[1]}<extra></extra>\",\"lat\":[13.787434800000002,13.7458385,13.7417822,13.735172,13.80675724963851,13.7181886,13.736760000000002,13.730318999999998,13.729458800000002,13.72432,13.766348,13.822003699999998,13.684352200000001,13.6843493,13.756541800000003,13.756559,13.832713,13.7108577,13.7890598,13.710769199999996,13.753838,13.804489099999998,13.818451800000002,13.679875,13.7294225,13.779476,13.7524478,13.727664,13.725045999999999,13.7364608,13.9175797,13.723132999999999,13.739280100000002,13.723377999999999,13.765681,13.7736074,13.739678,13.736135999999998,13.738613199999998,13.7208699,13.733111,13.770286000000002,13.855757000000002,13.711812,13.7558192,13.830744700000002,13.7160353,13.71308,13.7836826,13.817282000000002,13.7410535,13.787872999999998,13.700005,13.6966976,13.724814700000001,13.684239000000002,13.768706,13.795992000000002,13.7720582,13.703588,13.787311800000001,13.921770000000002,13.7789137,13.752714199999998,13.7527114,13.715372,13.741274000000002,13.825345100000002,13.706313400000003,13.7221713,13.7090405,13.8208115,13.738898999999996,13.787981900000002,13.73509,13.8266614,13.746011,13.7195223,13.737909,13.7412094,13.708764200000001,13.7170614,13.7208417,13.736969799999999,13.716634000000003,13.879629199999998,13.914570999999999,13.8214216,13.671965,13.781261999999998,13.7203316,13.734873,13.824377099999998,13.7951417,13.7531124,13.804379299999999,13.771784099999998,13.710834,13.776791500000002,13.829387,13.716034,13.823053,13.700714800000002,13.712929,13.715643400000001,13.7140108,13.7629449,13.708024599999998,13.773017899999997,13.789130099999998,13.739457000000002,13.6715169,13.672745999999998,13.674655599999998,13.713923199999998,13.772426000000001,13.786902,13.797966,13.7270842,13.759437,13.700509,13.7584497,13.846497300000001,13.840844199999998,13.735079,13.676644199999998,13.773062,13.739271999999998,13.7102935,13.7541021,13.7687721,13.7847493,13.8328,13.7036693,13.7239163,13.802865,13.784486,13.7409355,13.688423,13.760341,13.713514000000002,13.7139749,13.698035,13.8841655,13.657984,13.730620000000002,13.778241000000001,13.784235999999998,13.780398400000001,13.790078,13.718681,13.779903000000001,13.786165099999996,13.830676,13.683518799999998,13.7828352,13.806501,13.676828699999998,13.81989,13.733351,13.675387099999998,13.8384738,13.697443300000002,13.831677199999998,13.787668,13.786032,13.785896942892702,13.834602900000002,13.77106,13.782208,13.784868,13.792195,13.792434,13.821032,13.692466,13.823278,13.69059,13.710230000000001,13.806335999999998,13.7613824,13.761792600000001,13.806349900000003,13.748066899999998,13.827898,13.749861200000002,13.7498295,13.735480300000003,13.745889000000002,13.7353741,13.741077,13.721319,13.7813618,13.771997900000002,13.8041778,13.654805599999998,13.681912999999998,13.728689999999999,13.770947,13.770773999999998,13.730940900000002,13.790062,13.772597499999998,13.750933,13.7226088774125,13.723304999999998,13.782611,13.8025742,13.7021742,13.808976999999999,13.804850000000002,13.807806,13.799664000000002,13.712534,13.749031300000002,13.7364346,13.718132,13.721765,13.700557000000002,13.7251032,13.7519349,13.834783099999997,13.726157999999998,13.7534337,13.7252229,13.718235,13.673274,13.7445379,13.739070000000002,13.7217048,13.7392133,13.770521,13.721717000000002,13.8530604,13.7496291,13.7646919,13.683680300000002,13.7771454,13.7747556,13.737460500000001,13.740685999999998,13.8906482,13.738862,13.774685,13.77481822717738,13.7083215,13.724639,13.733518,13.818254,13.740072,13.78796220557942,13.759213,13.8092339,13.780228,13.817792,13.706722699999998,13.736655,13.7308632,13.825456,13.685237300000002,13.6846914,13.7753166,13.729900699999998,13.809591199999998,13.722005,13.739623,13.7578843,13.790959400000002,13.8238203,13.794185999999998,13.7924255,13.713928,13.869206300000002,13.739713099999998,13.7268414,13.773446,13.75449965148682,13.719882,13.721706,13.7055804,13.7454814,13.72056,13.711016,13.8160149,13.749688,13.7589029,13.827334400000002,13.7506947,13.734618000000001,13.772345,13.7438737,13.792792000000002,13.7165819,13.789051999999998,13.733122,13.77547,13.72989,13.764319,13.732173,13.7402759,13.788084,13.91241,13.7836924,13.748245,13.787359,13.7461219,13.7142976,13.805310999999998,13.7883197,13.788006,13.7211824,13.720662000000003,13.721967,13.8166168,13.788607,13.7404387,13.7437321,13.709687999999998,13.783051,13.749674,13.7485065,13.751741,13.722091,13.681384,13.723625999999998,13.721782,13.6785144,13.8066019,13.810623,13.7948974,13.680982700000001,13.7586908,13.755632000000002,13.720344,13.703979700000001,13.6657058,13.818788,13.7207625,13.7556453,13.778634,13.720285999999998,13.754665,13.705806699999998,13.776670999999999,13.8666203,13.7549446,13.791898000000002,13.716082000000002,13.763571,13.7910882,13.770514000000002,13.687670900000002,13.723707999999998,13.737220000000002,13.7436915,13.770975,13.8167895,13.806351000000001,13.7216823,13.7984762,13.773813,13.752287,13.907001099999999,13.725106599999998,13.774031699999997,13.7418565,13.747592,13.725639,13.657705900000002,13.7263004,13.804891,13.764242,13.743803,13.7040999,13.820001999999999,13.7921288,13.660788800000002,13.661559699999998,13.72191,13.788481599999999,13.734647400000002,13.7308291,13.739639000000002,13.748415,13.73766,13.736241,13.731082,13.7137856,13.787632,13.725715,13.733091,13.734026,13.7255665,13.779076000000002,13.789594,13.690756999999998,13.725671599999998,13.762058,13.805164000000001,13.717926,13.8078998,13.789243999999998,13.803741699999998,13.7786329,13.790947600000003,13.722662099999999,13.716890300000005,13.716752,13.7500794,13.711731,13.7285432,13.793032000000002,13.800166,13.803332,13.77384,13.77133,13.778594,13.711974,13.7074598,13.7623696,13.775785999999998,13.8626747,13.872564,13.837006900000002,13.7938872,13.780819,13.753558500000002,13.678957,13.7851554,13.696404500000002,13.700484,13.683414,13.790687099999998,13.774792899999998,13.774826,13.712898999999998,13.6924686,13.690533,13.718362000000003,13.772670000000002,13.871147500000001,13.708928999999998,13.8304423,13.711201,13.7371502,13.7206172,13.6914149,13.7728866,13.698367999999999,13.730076200000001,13.771199499999998,13.661083499999998,13.795845000000002,13.788891599999998,13.7363726,13.7045172,13.84561829117466,13.872533,13.7537098,13.762082,13.6876218,13.712195999999999,13.7124897,13.79746,13.816412699999995,13.7609474,13.7271577,13.7306473,13.729787799999999,13.787746,13.722672,13.7358283,13.753905599999998,13.7399125,13.7426494,13.727925223538618,13.769498,13.7267609,13.681835,13.749032,13.720782099999997,13.6872857,13.7060543,13.7782086,13.711716800000001,13.70851,13.7842547,13.67586060548494,13.730556,13.735229000000002,13.697222700000001,13.7592743,13.730349,13.8095895,13.727223,13.7869205,13.804201,13.805450999999998,13.775436400000002,13.7226092,13.678384000000001,13.703692000000002,13.705559,13.748482999999998,13.7418541,13.717863,13.720003,13.7385236,13.7351281,13.7834185,13.740961999999998,13.7347978,13.735204999999999,13.742338600000002,13.778748,13.736729,13.7432876,13.741957,13.78206,13.781364999999997,13.725031300000001,13.722085699999997,13.7574921,13.719561999999998,13.778418,13.76356,13.763875,13.740407999999999,13.658198,13.893069000000002,13.719768500000002,13.7213342,13.715854,13.744987999999998,13.7100861,13.79141,13.7384418,13.6742409,13.917462699999998,13.692394,13.755680599999998,13.675513699999998,13.722695499999999,13.786469,13.713732999999998,13.809176999999998,13.703187,13.800035,13.724692999999998,13.7836897,13.8908572,13.8923585,13.748501,13.7963687,13.7328017,13.727763999999999,13.713016,13.7533613,13.8158753,13.786506000000001,13.7778938,13.758350699999996,13.7560692,13.8271051,13.7806113,13.784339,13.6948339,13.710254,13.789471300000002,13.8238813,13.7184713,13.747076000000002,13.7941266,13.781605,13.797392999999998,13.7064421,13.735807599999998,13.7425724,13.831714800000002,13.840523,13.7225995,13.7145311,13.7346326,13.756232699999998,13.7772555,13.7894908,13.720199,13.720631,13.7519865,13.748953200000003,13.7388931,13.721236,13.7074135,13.723864,13.728012699999994,13.786611,13.763010000000001,13.826978400000002,13.7835378,13.7803171,13.811272000000002,13.772408,13.795315000000002,13.8179771,13.7303355,13.763788126962195,13.8882008,13.887363000000002,13.802077300000004,13.7030282308771,13.8772835,13.887109,13.700215,13.816179,13.705071,13.879824,13.8252025,13.675166,13.6903107,13.723564499999998,13.739003,13.7456426,13.7025384,13.710826999999997,13.798748800000002,13.75432861921784,13.7539376,13.761155,13.778061,13.7179207,13.718019100000001,13.7063704,13.7214807,13.717754199999998,13.715271,13.806394699999998,13.82274,13.722692000000002,13.7011013,13.795251699999998,13.782797299999999,13.780214,13.740294,13.743870899999997,13.7031766,13.684164,13.7302759,13.788348553967769,13.724686300000002,13.7364535,13.7988781,13.8069372,13.778067000000002,13.7831475,13.8330714,13.7266971,13.725248,13.791773,13.682963,13.735489,13.6871857,13.830106,13.72386,13.716231,13.706040199999999,13.716015,13.716068,13.698358,13.788890300000002,13.678022,13.726369,13.7320289,13.738238699999998,13.742983,13.775804699999998,13.729847400000002,13.739308,13.78606,13.878576899999999,13.774477,13.728049,13.721378,13.727075,13.71855,13.736931,13.7279984,13.7229356,13.796048000000003,13.737250299999998,13.7139911,13.6581639,13.858725,13.721785999999998,13.712123000000004,13.7932704,13.719351,13.6873275,13.722195999999999,13.761139999999997,13.746866,13.6976503,13.746173500000001,13.713559399999998,13.751602599999998,13.6655797,13.695045399999998,13.661478600000002,13.752462,13.8344853,13.756751,13.721064300000002,13.730497,13.7018274,13.71976,13.7562714,13.743109,13.840430599999998,13.822725000000002,13.719514000000002,13.748257,13.698834699999995,13.742502999999997,13.7552267,13.6881513,13.6778439,13.7103092,13.70874,13.818338,13.766708800000002,13.8050758,13.708832999999998,13.76142,13.705764000000002,13.7168485,13.713134,13.709124,13.714799,13.7285858,13.696288,13.754826,13.7811616,13.7755277,13.7207679,13.7329674,13.806664,13.737239,13.6637043,13.801888999999997,13.762068999999999,13.7633509,13.82598,13.729057,13.735757,13.7677404,13.7005889,13.775356999999998,13.774062,13.729841,13.749202,13.747851,13.751344,13.75936,13.722864800000002,13.752393,13.728031999999999,13.717102100000002,13.72359,13.72988,13.731050999999999,13.73557,13.781854,13.709165,13.7187616,13.7206291,13.730637,13.726290400000002,13.731138,13.713360799999998,13.713043,13.7479899,13.7106029,13.713965,13.6965348,13.740773999999998,13.743864999999998,13.764005,13.801447400000002,13.735053099999996,13.6712089,13.777528,13.7032596,13.7605038,13.788278000000002,13.736856,13.729242999999999,13.7253824,13.730464,13.889535,13.7315113,13.719609699999998,13.743093900000002,13.719029999999998,13.723197,13.687453999999999,13.6618777,13.6602685,13.782331,13.717657500000001,13.780935,13.6574651,13.6892327,13.695732,13.692488,13.7373535,13.721326,13.723399800000006,13.744649,13.809079999999998,13.836335,13.713675,13.7138594,13.657770899999997,13.786794,13.786444999999999,13.733698599999999,13.711929500000002,13.7395205,13.725467,13.7223695,13.7525291,13.686628,13.718323,13.708801,13.686214199999997,13.685911,13.729388,13.71254888247649,13.7541974,13.7405092,13.721684,13.722945,13.769257899999998,13.685349,13.746249000000002,13.703851729740904,13.800157,13.703560000000001,13.770226999999998,13.808394,13.771679999999996,13.796121,13.778938,13.744220000000002,13.7267298,13.8499208,13.6879568,13.74649,13.67291,13.709187699999998,13.747654,13.748736,13.716534000000001,13.710678599999998,13.829043400000002,13.716404999999998,13.8148381,13.7756566,13.748157999999998,13.7505328,13.722445,13.7204,13.7193411,13.70499,13.744051,13.800425,13.801273000000002,13.7401806,13.749075799999998,13.7032221,13.7401923,13.7201072,13.733522900000002,13.723782300000002,13.72181,13.720806,13.7287051,13.8044116,13.717997199999996,13.7432593,13.71634,13.690157999999998,13.686283,13.714176,13.707534000000003,13.742695,13.725792699999998,13.78399,13.747834,13.719953,13.7255764,13.787004,13.776465,13.723487,13.83044,13.679431,13.781351999999998,13.793445000000002,13.774033,13.779467000000002,13.784156400000002,13.675919000000002,13.696680999999998,13.674892000000002,13.713145,13.7213336,13.729089300000002,13.670673999999996,13.713335,13.776202,13.739278,13.7237246,13.804398400000002,13.8064031,13.8009771,13.740456,13.700512,13.707568300000002,13.7859628,13.694738900000003,13.808902000000002,13.805396,13.778545,13.723185999999998,13.7267703,13.708266999999998,13.707053800000002,13.7548249,13.732486,13.810254999999996,13.776829600000001,13.744476,13.725004,13.735693,13.739303,13.7227,13.722607,13.734618100000002,13.725600999999997,13.716199999999999,13.7029732,13.8044891,13.7150876,13.702768,13.8190008,13.825082499999999,13.8118339,13.751866199999997,13.772474,13.797316,13.711507,13.824347,13.7398277,13.675553,13.713333999999998,13.739382,13.7396389,13.723404100000002,13.744733,13.720819,13.722645000000002,13.765615,13.810277199999998,13.8306259,13.744186,13.732214999999998,13.739241,13.730425,13.731405,13.8104619,13.8044561,13.749061900000001,13.775918599999999,13.7542727,13.7211516,13.740122499999998,13.737557,13.713779999999998,13.713985,13.7230262,13.6577314,13.727879,13.741846,13.717616,13.7422998,13.7129333,13.810856700000002,13.7116082,13.743620000000002,13.847096,13.8099164,13.6859726,13.689278,13.8056756,13.689828,13.833690000000002,13.72841,13.828316,13.739682299999998,13.732131099999997,13.751201000000002,13.752167000000002,13.725206,13.711323000000002,13.693183,13.893317800000002,13.8376968,13.7771254,13.712310999999996,13.716323,13.756735],\"lon\":[100.6315637,100.5589602,100.5586307,100.53887899999997,100.52066780539828,100.577788,100.574387,100.575521,100.5758595,100.58187,100.649395,100.5767084,100.61479810000002,100.6149212,100.5596965,100.5597817,100.616544,100.635632,100.5886786,100.6355847,100.564418,100.5783568,100.5632192,100.607099,100.57299240000002,100.539161,100.6155072,100.575539,100.56490499999995,100.7463775,100.5861628,100.492426,100.5492145,100.55117999999992,100.56770900000001,100.5380454,100.582094,100.586863,100.5616036,100.5792944,100.572711,100.638799,100.548118,100.584202,100.5672938,100.5254107,100.4798153,100.464148,100.6137831,100.577895,100.5495413,100.55247400000002,100.4963269,100.5043217,100.5834478,100.624813,100.63887599999998,100.558595,100.6160749,100.507787,100.6700212,100.65518,100.54753179999999,100.53311319999999,100.5330292,100.551035,100.543691,100.6301789,100.5361181,100.5441669,100.6184528,100.5871456,100.5395948,100.5902926,100.5392,100.58142800000002,100.568918,100.50858050000001,100.566226,100.54960929999999,100.5381477,100.5475383,100.52130740000001,100.5570201,100.54697,100.6103106,100.56507020000001,100.5808139,100.466644,100.5116,100.6166749,100.541283,100.61867,100.5649576,100.5399697,100.5132016,100.6446737,100.4110147,100.4588859,100.57015,100.591835,100.56305200000001,100.5357916,100.533045,100.4456439,100.441115,100.6484782,100.4808199,100.4704338,100.5019185,100.50219,100.6359828,100.595703,100.5991053,100.5135799,100.49264699999999,100.55309,100.596101,100.5744071,100.569299,100.535488,100.5333563,100.563138,100.6637682,100.567426,100.6034393,100.63424609999998,100.643989,100.6018849,100.5160031,100.6125529,100.56966629999998,100.569919,100.53990120000002,100.5669015,100.570152,100.582828,100.5255794,100.514401,100.5553557,100.477134,100.4762206,100.60714400000006,100.60544509999998,100.606231,100.587838,100.5424026,100.5438803,100.573794,100.57344,100.52692799999998,100.54196699999999,100.5462928,100.532587,100.6104076,100.5414251,100.56584199999999,100.46108870000002,100.662885,100.529753,100.5171327,100.5747426,100.4953144,100.57538580000002,100.544489,100.54887,100.54847805542043,100.5794487,100.573999,100.571087,100.572169,100.575528,100.575456,100.588484,100.605079,100.5631512,100.605267,100.51093000000002,100.52982140000002,100.6331327,100.5425459,100.5224624,100.5445886,100.675572,100.5558436,100.5561363,100.55799920000001,100.555932,100.55801229999999,100.566653,100.49321299999995,100.5724691,100.5754699,100.512051,100.64764,100.61032300000001,100.473954,100.57665500000002,100.57744399999999,100.5758164,100.572762,100.62994,100.57502200000002,100.58792548280337,100.531844,100.602703,100.5626605,100.6345936,100.570525,100.57003740000002,100.569706,100.573861,100.549074,100.5274537,100.5141561,100.59027399999998,100.580699,100.53551369999998,100.569128,100.6365273,100.5808539,100.570639,100.5310164,100.5331073,100.549444,100.599258,100.5491435,100.582743,100.5883431,100.4474637,100.469714,100.721294,100.6358916,100.6076671,100.653647,100.537787,100.5457159,100.5616417,100.5687449,100.570678,100.5855823,100.58714370000001,100.573913,100.57473110473065,100.5996477,100.52955899999999,100.562771,100.5913593,100.578014,100.58323962352571,100.5876488,100.6036577,100.507089,100.579421,100.6234501,100.562968,100.5815792,100.56728419999999,100.6043793,100.6044902,100.569683,100.5911222,100.5580046,100.562286,100.55852,100.6393122,100.5585609,100.6101449,100.588656,100.5592444,100.58958300000002,100.556361,100.5518729,100.5371483,100.573809,100.64594708717071,100.597821,100.582209,100.53059609999998,100.6020654,100.49705099999998,100.396394,100.5724257,100.574567,100.6169983,100.6242368,100.5388313,100.578558,100.596149,100.56226450000001,100.539578,100.572481,100.585099,100.574055,100.643378,100.581533,100.6274608,100.583685,100.5397494,100.628624,100.590989,100.5854132,100.6094502,100.546026,100.5589877,100.6023361,100.575814,100.5531287,100.553419,100.50285289999998,100.588166,100.496396,100.5676307,100.580582,100.5574381,100.5566587,100.42960600000002,100.671011,100.580419,100.5783025,100.590579,100.7183419,100.4935561,100.56719900000002,100.49549300000001,100.60887259999998,100.5728596,100.56585799999999,100.5501869,100.6100224,100.5328382,100.56559200000001,100.50278,100.6018982,100.603767,100.532266,100.5793054,100.5329888,100.57486300000004,100.50214699999998,100.542459,100.6010337,100.662234,100.6128239,100.6261364,100.539143,100.58509900000001,100.568318,100.5748954,100.484875,100.4920929,100.526711,100.583144,100.5809488,100.608256,100.5875195,100.600618,100.5194583,100.5873137,100.578183,100.538476,100.6735579,100.5771779,100.56953980000002,100.5442426,100.52824400000002,100.531585,100.6036148,100.5696144,100.570934,100.615346,100.55469999999998,100.5421684,100.568303,100.5478707,100.60613679999999,100.62214620000002,100.57662299999993,100.6047987,100.5559309,100.560555,100.543108,100.64571989999999,100.592661,100.560007,100.582629,100.5932456,100.544128,100.585253,100.570778,100.56595,100.567548,100.54130899999998,100.571944,100.534618,100.585004,100.59147,100.569802,100.477674,100.5701861,100.548041,100.57762980000001,100.5744658,100.5743606,100.5274385,100.5889868,100.590241,100.5646786,100.594897,100.57565840000001,100.559391,100.606329,100.569584,100.64153,100.637772,100.643136,100.605143,100.42076,100.61601450000002,100.658302,100.6133792,100.60261409999998,100.6640715,100.65193419999999,100.475056,100.57622980000001,100.527795,100.46076109999998,100.5450448,100.535077,100.5481316,100.5436665,100.4808298,100.48075600000001,100.582766,100.5016424,100.505125,100.54999699999999,100.49188300000004,100.6024707,100.481702,100.5701125,100.535462,100.6415583,100.5405198,100.4811023,100.4916156,100.53966430000001,100.57197109999998,100.5836959,100.6239914,100.592383,100.55183709999999,100.6170773,100.52522550000002,100.5425317896107,100.6029147,100.6310284,100.64092159999998,100.4907788,100.60526200000004,100.6068454,100.551105,100.5619832,100.5361446,100.5274472,100.5867884,100.5707953,100.547059,100.58283,100.55077359999999,100.5296962,100.5724903,100.5400224,100.51035669311524,100.6220077,100.5623796,100.609757,100.543564,100.5325482,100.6066339,100.50688569999998,100.5864122,100.5805147,100.45074999999999,100.57336109999999,100.61090617724312,100.561652,100.564607,100.5396251,100.5702404,100.585629,100.5763567,100.48757509999999,100.57417880000001,100.5783539,100.578598,100.48353,100.4955208,100.62382779999999,100.60002100000001,100.603781,100.566748,100.5443566,100.5324903,100.532267,100.5559308,100.5423382,100.6336233,100.549917,100.5507755,100.540493,100.5586169,100.542602,100.5835767,100.5479997,100.560358,100.54354899999998,100.54433199999993,100.5772609,100.58461110000002,100.5358298,100.519452,100.542095,100.569269,100.569108,100.58481400000004,100.60596899999997,100.5630664,100.5847055,100.49755329999999,100.488939,100.549422,100.636637,100.5487943,100.5465744,100.4583834,100.5809111,100.538781,100.5688151,100.5453648,100.5236127,100.555054,100.550891,100.594319,100.591153,100.573237,100.567172,100.5416855,100.5844997,100.5791425,100.527154,100.5586231,100.63810459999999,100.5665,100.471403,100.5337233,100.5852689,100.5482,100.53827549999998,100.533569,100.5332197,100.53534680000001,100.4738895,100.476279,100.638709,100.396221,100.6267391,100.65849920000001,100.5905791,100.462533,100.5373704,100.582151,100.56470100000001,100.4909823,100.5486595,100.6194446,100.6154734,100.581504,100.5663551,100.6432239,100.5468988,100.6492052,100.5466344,100.6268346,100.6685723,100.669575,100.5314815,100.56276339999998,100.5429798,100.50126699999998,100.6002061,100.530176,100.5815859,100.57406199999998,100.541963,100.6132343,100.58537309999998,100.5773791,100.578686,100.5714878,100.588881,100.5884472,100.4583785,100.4909622552948,100.6000877,100.602404,100.587144,100.6084824085747,100.5941615,100.599908,100.608625,100.534624,100.607098,100.597615,100.5456791,100.60380299999998,100.6111739,100.6189734,100.56433999999999,100.5493966,100.599094,100.5487128,100.5747285,100.56438393450163,100.56460740000001,100.536971,100.573725,100.516771,100.5324017,100.5997985,100.5768776,100.5847281,100.590471,100.5288936,100.532386,100.462298,100.50140050000002,100.7107604,100.54813610000001,100.542119,100.566076,100.6303405,100.59082510000002,100.61481,100.5611106,100.55272652513122,100.5834218,100.5509001,100.6435063,100.5580152,100.5468137,100.5469461,100.5790261,100.536753,100.538176,100.547542,100.493509,100.540466,100.6067053,100.564592,100.53807,100.53132,100.5371449,100.5468155,100.54691100000001,100.640114,100.5522928,100.606912,100.567208,100.51422209999998,100.5664288,100.571046,100.543165,100.5277762,100.572656,100.544653,100.5983313,100.541792,100.536114,100.5278004,100.53459,100.57926200000001,100.556041,100.56867450000001,100.58023820000001,100.564723,100.6261665,100.593044,100.4284067,100.6458312,100.733047,100.6403738,100.5479054,100.52682400000002,100.5179101,100.51683000000004,100.6479,100.55630100000009,100.61727909999999,100.562763,100.59204549999998,100.58784,100.63221499999999,100.4946793,100.6059405,100.610971,100.5787683,100.5393566,100.5375728,100.5233933,100.51640369999998,100.540245,100.5611214,100.589107,100.5799638,100.564317,100.455867,100.565483,100.54083990000001,100.5731244,100.5261919,100.5478485,100.5466651,100.5026257,100.4952,100.535975,100.5819173,100.5810632,100.53787900000002,100.539924,100.540469,100.5463754,100.548724,100.538235,100.545677,100.5240104,100.605157,100.57514299999998,100.5818374,100.5640162,100.4929673,100.58218259999998,100.556296,100.589926,100.4504746,100.53589599999998,100.61415000000001,100.61585,100.55911399999998,100.589857,100.623971,100.59870930000001,100.5156812,100.484759,100.4848559,100.577101,100.561926,100.545615,100.533199,100.53139899999996,100.525813,100.53432700000008,100.572358,100.58567179999999,100.583588,100.57601500000001,100.58632299999998,100.574904,100.541384,100.53302460000002,100.5202356,100.5031084,100.572972,100.58373689999999,100.52748700000001,100.5997652,100.599978,100.6059734,100.6024368,100.594775,100.5448663,100.572368,100.586995,100.546532,100.5723497,100.584231,100.60583750000002,100.57649,100.5399967,100.5425277,100.542708,100.5507199,100.566113,100.57676190000001,100.57722900000002,100.57693300000001,100.5708063,100.5221936,100.5621362,100.531526,100.56694900000001,100.63486,100.6039389,100.6060543,100.542431,100.50875989999999,100.541179,100.6042635,100.6185955,100.622355,100.614114,100.58376209999999,100.533622,100.5294023,100.64335200000002,100.56810700000003,100.579554,100.4657,100.4680603,100.60582319999999,100.572683,100.5723505,100.5601596,100.54940890000002,100.6036514,100.537481,100.5089024,100.53354170000001,100.605395,100.587363,100.545653,100.6352586,100.635049,100.571616,100.52851403506212,100.56095320000001,100.5611383,100.500293,100.53424999999999,100.5406164,100.609312,100.54952,100.59977651289748,100.583117,100.59960200000002,100.6305957,100.589514,100.630416,100.588369,100.570875,100.57539900000002,100.4909545,100.5594914,100.6463745,100.556569,100.54159,100.54254220000001,100.544841,100.567904,100.480767,100.4085297,100.5274525,100.48139400000001,100.5722903,100.5806493,100.55895699999999,100.5392334,100.498611,100.458562,100.45848579999999,100.601748,100.55672299999999,100.582646,100.581279,100.54027940000002,100.5274621,100.60003909999999,100.5403012,100.4933894,100.5732877,100.5277883,100.50915,100.4949655,100.5158296,100.576417,100.4833554,100.5621584,100.582798,100.608128,100.604778,100.592783,100.601755,100.541882,100.53719590000001,100.543274,100.528291,100.539383,100.571014,100.54796099999999,100.583209,100.496725,100.56947899999999,100.624204,100.543174,100.549434,100.54143999999998,100.541266,100.57380119999999,100.6079238,100.544203,100.53511400000001,100.514469,100.5419556,100.5288087,100.62456,100.468397,100.544695,100.550616,100.52329509999997,100.5903916,100.5251007,100.5213562,100.557617,100.645198,100.61020390000002,100.4699101,100.5361167,100.565934,100.57312,100.542317,100.495524,100.5724071,100.59277499999999,100.5937435,100.6395771,100.570779,100.567147,100.4971212,100.58563,100.574795,100.5814,100.544423,100.501888,100.50236,100.6015767,100.56204,100.58340900000002,100.6004973,100.5783568,100.5876931,100.600395,100.5362962,100.5377154,100.5346262,100.6377307,100.580076,100.55585900000004,100.604,100.56308,100.6027788,100.532823,100.586528,100.588732,100.5431078,100.5358323,100.558509,100.507061,100.57687,100.653276,100.5628531,100.5601762,100.598426,100.52557899999998,100.56839799999999,100.575859,100.5746917,100.56346750000002,100.5652961,100.5618766,100.5419373,100.53245890000001,100.5042247,100.5798336,100.574618,100.590744,100.59943100000001,100.57907829999999,100.60162160000002,100.560713,100.566781,100.576523,100.5834595,100.5943109,100.59339280000002,100.50022749999998,100.558462,100.640639,100.6111314,100.610413,100.607114,100.57416909999999,100.60695999999999,100.575358,100.56496999999999,100.56579299999999,100.56422720000002,100.5266194,100.5282326,100.534941,100.561984,100.545272,100.63896099999998,100.6274613,100.5825526,100.5790452,100.5953478,100.586212,100.477546],\"name\":\"\",\"radius\":10,\"subplot\":\"mapbox\",\"z\":[10577.0,49059.0,31129.0,87368.0,43044.71,19071.0,63000.0,54741.0,89261.0,24184.0,53226.0,63793.0,60505.0,38288.0,93287.0,51006.0,15217.0,45054.0,48666.0,47690.0,45557.33,36775.04,32439.0,49367.0,71077.0,19754.0,60435.0,133511.0,20827.0,35837.0,82588.0,98270.0,59193.0,50514.0,54948.0,75363.0,57692.0,19766.0,85479.0,46242.0,54010.0,102809.0,21679.0,28697.0,56606.0,23214.0,59327.0,51600.0,68079.0,56393.0,26372.51,46167.0,50300.0,36751.0,40443.0,94470.0,37344.0,72527.0,71278.0,24857.0,29818.0,224957.0,35961.0,165714.0,146228.0,73645.0,206075.0,96132.0,131919.0,79727.0,92286.0,89263.0,34483.0,75214.0,50880.0,55833.0,96905.0,37930.0,24742.0,38398.0,80619.0,67916.0,97193.4,36789.0,68943.0,33230.0,123773.0,118689.0,143333.0,100333.0,81258.95,33042.0,57548.0,21230.0,113636.0,59467.0,79875.0,41840.0,70249.0,80000.0,40000.0,109178.0,116272.0,117857.0,183841.0,125000.0,177470.0,343979.0,185688.0,146667.0,160000.0,56818.0,232384.0,119444.0,207975.0,176471.0,170115.0,137684.0,134615.0,78000.0,158333.0,252119.0,151163.0,184207.0,126154.0,184332.0,124000.0,139706.0,210073.0,151923.0,105882.0,107646.0,101213.0,326476.0,77967.0,118367.0,116667.0,178571.0,120238.0,133841.0,115331.0,135455.0,125000.0,120667.0,124577.0,106452.0,110169.0,108108.0,114879.0,240741.0,162920.0,312524.0,233483.0,150000.0,190442.0,175287.0,103226.0,85366.0,104000.0,85039.0,136207.0,116490.0,173077.0,189950.0,98605.0,105065.0,314139.0,141763.0,84727.0,139785.0,100134.0,153360.0,185714.0,180851.0,117787.0,132203.0,88428.0,143150.0,123810.0,129143.0,90399.0,147287.0,75808.0,108255.0,82532.0,62105.0,123066.0,88235.0,79730.0,134073.0,92681.0,104430.0,64666.0,96970.0,83370.0,216981.0,78493.65,95426.0,82353.0,68220.0,43925.0,76906.0,42306.0,70000.0,62696.0,80055.0,93117.0,96774.0,70770.0,122795.0,113455.0,85046.0,105326.0,150403.0,88594.0,81765.0,83746.0,115357.0,66031.0,79967.0,125714.0,82105.0,71637.0,92190.0,96754.0,134077.0,326922.0,80258.0,195123.0,91955.0,32554.0,45000.0,110390.0,75328.0,71259.0,74996.0,79143.0,78571.0,87512.0,45519.0,73836.0,95280.0,79240.0,74967.0,125000.0,146341.0,154695.0,79710.0,160443.0,130667.0,194118.0,201111.0,138140.0,207615.0,161882.0,152209.0,161723.0,229055.0,247191.0,155272.0,184480.0,120137.0,161765.0,113217.0,131633.0,97020.0,200621.0,132626.0,232741.0,226675.0,409091.0,189035.0,180766.0,124894.0,114000.0,150112.0,141824.0,153285.0,97837.0,84390.0,139505.0,136235.0,135668.0,77481.0,25443.0,48515.0,100000.0,84385.0,79714.0,33368.0,83333.0,94227.0,96861.0,75238.0,77049.0,79442.0,16034.0,33422.0,84000.0,57122.0,109512.0,72659.0,101325.0,62500.0,16124.0,69697.0,55484.0,54171.0,57242.0,79491.0,48333.0,20295.0,64649.0,71846.29504761905,106897.0,63958.0,70695.0,16315.0,27779.0,42870.0,36295.0,90412.0,105329.0,42768.0,95144.0,69000.0,40843.0,119090.0,86595.0,84054.0,36667.0,87167.0,44660.0,85894.0,65022.0,72754.0,76898.0,65957.0,67585.0,137500.0,60217.0,102727.0,59358.0,100000.0,103627.0,51982.0,80749.0,41935.0,82834.0,132500.0,83892.0,76316.0,99524.0,161563.0,166564.0,70000.0,59843.0,65286.0,33032.0,24429.0,47581.0,60032.0,39134.0,16744.0,31452.0,96875.0,49242.0,69338.0,102247.0,77727.0,68182.0,68252.0,56234.0,201811.0,35832.0,62531.0,120962.0,79862.0,64861.0,67561.0,98819.47,108462.0,108889.0,100000.0,103611.0,71846.29504761905,84036.0,82813.0,30022.0,91489.0,60000.0,47368.0,154815.0,61275.0,114025.0,405025.0,90000.0,13109.0,21094.0,74321.0,56786.0,90693.0,98792.0,96848.0,74752.0,88515.0,103571.0,48077.0,93594.0,118713.0,59833.0,81719.0,52032.0,90606.0,80135.0,40599.0,86667.0,62488.0,82667.0,94333.0,86154.0,26865.0,84848.0,38158.0,86864.0,89479.0,76289.0,25044.52,11129.0,56459.0,42857.0,29427.0,52941.0,99825.0,92266.0,58654.0,124031.0,134375.0,78615.0,146563.0,108613.0,111111.0,94389.0,57895.0,50616.0,57990.0,54924.0,100292.0,80000.0,74979.0,35000.0,37990.0,50733.0,91212.0,60876.0,57835.0,71163.0,97810.0,47596.0,61111.0,167391.0,111558.0,175000.0,88571.0,23585.0,53333.0,117880.0,113902.0,111080.0,147766.0,96667.0,56667.0,60283.0,64286.0,87884.0,106500.0,171271.0,165026.0,81181.0,62822.0,134423.0,54401.0,54663.0,31800.0,50000.0,127473.0,167398.0,132090.0,39409.0,89438.55,151600.0,90426.0,96250.0,98824.0,135417.0,91556.0,62238.0,60593.0,150943.0,46939.0,52109.0,80400.0,59770.0,90099.0,108065.0,80952.0,99757.0,74545.0,58614.0,70452.0,88237.0,48000.0,70393.0,98012.0,95298.0,122847.0,125500.0,112500.0,105679.0,157317.0,125319.0,278788.0,86921.0,142740.0,127002.0,91254.0,120000.0,92927.0,105505.0,72778.0,90704.0,124328.0,207267.0,164992.0,86625.0,87128.0,87940.0,76190.0,126351.0,113490.0,133333.0,113487.0,157333.0,228956.0,99430.0,131779.0,194531.0,171774.0,170164.0,106900.0,119134.0,157143.0,192451.0,31786.0,121096.0,170414.0,169307.0,143846.0,199641.0,148290.0,109033.0,310086.0,119903.0,128183.0,48361.0,149643.0,121977.21,134500.0,96138.0,143506.62,127557.0,171759.0,95834.0,79542.0,233333.0,192074.0,67308.0,165385.0,197500.0,198111.0,182222.0,67568.0,83744.0,132608.0,119570.55,141847.0,209524.0,100000.0,237175.0,110380.0,180851.0,182353.0,186567.0,136047.0,135329.18,93532.12,49818.0,75000.0,156692.71,136364.0,107500.0,91837.0,91320.0,181714.0,114286.0,129089.56,110000.0,147079.0,121429.0,121622.0,105560.0,76786.0,35294.0,23147.0,50302.0,55956.0,55300.0,63736.0,48214.0,51613.0,48286.0,20949.0,43824.0,21234.0,49358.0,26617.0,337844.0,43333.0,31429.0,102911.0,20655.0,53393.0,41895.0,17308.0,31684.0,17979.0,367046.0,151685.0,235529.0,198630.0,121836.27233333333,224997.0,186047.0,120413.0,112727.0,109000.0,143440.0,125660.0,217728.62,145370.0,252060.0,176383.0,122591.33566666667,177399.0,235849.0,249700.0,348624.0,150951.0,112482.0,163265.0,299886.0,163265.0,231742.0,128080.0,189512.0,237956.0,278302.0,123199.0,136054.0,200000.0,178571.0,153414.0,155061.0,244722.0,107092.38666666667,187647.0,328322.0,152206.0,173913.0,135229.0,73529.0,122591.33566666667,98868.0,51613.0,77920.0,77407.0,54194.0,41666.0,57813.0,82759.0,89000.0,90141.0,62500.0,56671.0,84118.0,86806.0,85284.0,179190.0,98847.0,116401.0,98245.0,79833.0,136111.0,96105.0,113793.0,122551.0,34316.0,54667.0,60901.0,90435.0,116000.0,91499.0,142105.0,102213.0,47600.0,149357.0,130189.0,109747.0,33012.0,91923.0,82692.0,114589.0,126531.0,163993.0,185484.0,187268.0,151613.0,75000.0,72233.0,99532.0,72933.0,131662.0,108599.0,74028.0,103800.0,101628.0,85693.0,62500.0,145161.0,103242.0,151943.0,116667.0,112500.0,44516.0,101923.0,121516.0,116667.0,129105.0,133333.0,288285.0,88992.0,89674.0,180328.0,188148.0,120000.0,125000.0,107038.0,138462.0,103175.0,86320.0,42169.0,84451.0,98309.0,86631.0,39965.0,82502.0,92647.0,159720.0,99712.0,91429.0,81765.0,43438.0,56452.0,56079.0,94419.0,101257.0,106912.0,52920.0,91429.0,43551.0,69964.0,46552.0,70154.0,81991.0,50000.0,57857.0,88348.6,79245.0,86005.0,126905.0,104471.0,131034.0,84444.0,71629.0,63910.0,96098.0,84182.0,157495.86,136967.0,88888.0,198233.0,32688.0,35330.0,99761.0,21127.0,66119.0,31328.0,23223.0,112315.0,93138.0,89000.0,61462.0,40959.0,175357.0,154935.15,150000.0,200813.0,61774.0,101550.0,128205.0,177083.0,185897.0,107838.0,200000.0,200000.0,134058.0,71460.0,229520.0,164676.0,129213.0,175758.0,95040.0,120000.0,110215.0,300449.0,207112.0,91861.0,169454.0,205714.0,135246.0,123096.0,136477.0,164615.0,154079.0,196686.0,137549.31,104306.0,268953.0,88281.0,109927.0,140115.0,164853.0,118076.0,181433.0,15580.0,12919.0,89600.0,90583.0,131250.0,108771.0,155417.0,78947.0,162455.0,86889.0,93745.0,88290.0,120148.0,54781.0,161476.0,108772.0,81333.0,75000.0,53801.0,84302.0,157179.0,111336.0,165554.0,161031.0,137308.0,97317.0,93921.0,86209.0,108319.0,126437.0,94108.31,131749.0,86170.0,170221.0,117647.0,79517.0,81818.0,235385.0,260756.0,138462.0,158024.0,69445.0,177515.0,144860.0,121148.0,85937.0,313782.0,145432.0,75983.0,51806.0,73684.0,48040.0,17212.0,73739.0,62759.0,96154.0,73077.0,68525.0,77778.0,26793.0,23438.0,31000.0,41539.0,15738.0,82735.0,81034.0,36170.0,38567.0,60000.0,78571.0,88334.0,95643.0,72583.0,106669.0,76786.0,84962.0,104529.0,67325.0,57941.0,87485.0,120000.0,90833.0,40816.0,105094.0,121861.0,78849.0,100514.0,81324.0,113238.0,54353.0,39516.0,23187.0,43388.0,26316.0,52063.0,38424.0,70974.0,54234.0,56533.0,62042.0,18036.0,50297.0,65284.0,15805.0,54559.0,51585.0,103738.0,86957.0,130937.0,104348.0,109859.0,84211.0,116727.0,93059.0,212594.0,140792.0,113405.0,262059.0,267524.0,105882.0,79143.0,141045.0,128452.0,168350.0,178000.0,110000.0,129143.0,182015.0,167296.0,150431.0,87692.0,82090.0,120588.0,88571.0,89583.0,68335.0,91667.0,107353.0,174933.0,239299.0,206049.0,65534.0,100171.0,70753.0,168012.0,101852.0,106897.0,192487.0,246591.0,160655.0,95957.0,136238.0,109677.0,205698.0,209667.0,187179.0,67559.0,223860.0,140000.0,68883.0,143333.0,134000.0,111287.0,177966.0,155263.0],\"type\":\"densitymapbox\"}],                        {\"template\":{\"data\":{\"bar\":[{\"error_x\":{\"color\":\"#2a3f5f\"},\"error_y\":{\"color\":\"#2a3f5f\"},\"marker\":{\"line\":{\"color\":\"#E5ECF6\",\"width\":0.5},\"pattern\":{\"fillmode\":\"overlay\",\"size\":10,\"solidity\":0.2}},\"type\":\"bar\"}],\"barpolar\":[{\"marker\":{\"line\":{\"color\":\"#E5ECF6\",\"width\":0.5},\"pattern\":{\"fillmode\":\"overlay\",\"size\":10,\"solidity\":0.2}},\"type\":\"barpolar\"}],\"carpet\":[{\"aaxis\":{\"endlinecolor\":\"#2a3f5f\",\"gridcolor\":\"white\",\"linecolor\":\"white\",\"minorgridcolor\":\"white\",\"startlinecolor\":\"#2a3f5f\"},\"baxis\":{\"endlinecolor\":\"#2a3f5f\",\"gridcolor\":\"white\",\"linecolor\":\"white\",\"minorgridcolor\":\"white\",\"startlinecolor\":\"#2a3f5f\"},\"type\":\"carpet\"}],\"choropleth\":[{\"colorbar\":{\"outlinewidth\":0,\"ticks\":\"\"},\"type\":\"choropleth\"}],\"contour\":[{\"colorbar\":{\"outlinewidth\":0,\"ticks\":\"\"},\"colorscale\":[[0.0,\"#0d0887\"],[0.1111111111111111,\"#46039f\"],[0.2222222222222222,\"#7201a8\"],[0.3333333333333333,\"#9c179e\"],[0.4444444444444444,\"#bd3786\"],[0.5555555555555556,\"#d8576b\"],[0.6666666666666666,\"#ed7953\"],[0.7777777777777778,\"#fb9f3a\"],[0.8888888888888888,\"#fdca26\"],[1.0,\"#f0f921\"]],\"type\":\"contour\"}],\"contourcarpet\":[{\"colorbar\":{\"outlinewidth\":0,\"ticks\":\"\"},\"type\":\"contourcarpet\"}],\"heatmap\":[{\"colorbar\":{\"outlinewidth\":0,\"ticks\":\"\"},\"colorscale\":[[0.0,\"#0d0887\"],[0.1111111111111111,\"#46039f\"],[0.2222222222222222,\"#7201a8\"],[0.3333333333333333,\"#9c179e\"],[0.4444444444444444,\"#bd3786\"],[0.5555555555555556,\"#d8576b\"],[0.6666666666666666,\"#ed7953\"],[0.7777777777777778,\"#fb9f3a\"],[0.8888888888888888,\"#fdca26\"],[1.0,\"#f0f921\"]],\"type\":\"heatmap\"}],\"heatmapgl\":[{\"colorbar\":{\"outlinewidth\":0,\"ticks\":\"\"},\"colorscale\":[[0.0,\"#0d0887\"],[0.1111111111111111,\"#46039f\"],[0.2222222222222222,\"#7201a8\"],[0.3333333333333333,\"#9c179e\"],[0.4444444444444444,\"#bd3786\"],[0.5555555555555556,\"#d8576b\"],[0.6666666666666666,\"#ed7953\"],[0.7777777777777778,\"#fb9f3a\"],[0.8888888888888888,\"#fdca26\"],[1.0,\"#f0f921\"]],\"type\":\"heatmapgl\"}],\"histogram\":[{\"marker\":{\"pattern\":{\"fillmode\":\"overlay\",\"size\":10,\"solidity\":0.2}},\"type\":\"histogram\"}],\"histogram2d\":[{\"colorbar\":{\"outlinewidth\":0,\"ticks\":\"\"},\"colorscale\":[[0.0,\"#0d0887\"],[0.1111111111111111,\"#46039f\"],[0.2222222222222222,\"#7201a8\"],[0.3333333333333333,\"#9c179e\"],[0.4444444444444444,\"#bd3786\"],[0.5555555555555556,\"#d8576b\"],[0.6666666666666666,\"#ed7953\"],[0.7777777777777778,\"#fb9f3a\"],[0.8888888888888888,\"#fdca26\"],[1.0,\"#f0f921\"]],\"type\":\"histogram2d\"}],\"histogram2dcontour\":[{\"colorbar\":{\"outlinewidth\":0,\"ticks\":\"\"},\"colorscale\":[[0.0,\"#0d0887\"],[0.1111111111111111,\"#46039f\"],[0.2222222222222222,\"#7201a8\"],[0.3333333333333333,\"#9c179e\"],[0.4444444444444444,\"#bd3786\"],[0.5555555555555556,\"#d8576b\"],[0.6666666666666666,\"#ed7953\"],[0.7777777777777778,\"#fb9f3a\"],[0.8888888888888888,\"#fdca26\"],[1.0,\"#f0f921\"]],\"type\":\"histogram2dcontour\"}],\"mesh3d\":[{\"colorbar\":{\"outlinewidth\":0,\"ticks\":\"\"},\"type\":\"mesh3d\"}],\"parcoords\":[{\"line\":{\"colorbar\":{\"outlinewidth\":0,\"ticks\":\"\"}},\"type\":\"parcoords\"}],\"pie\":[{\"automargin\":true,\"type\":\"pie\"}],\"scatter\":[{\"marker\":{\"colorbar\":{\"outlinewidth\":0,\"ticks\":\"\"}},\"type\":\"scatter\"}],\"scatter3d\":[{\"line\":{\"colorbar\":{\"outlinewidth\":0,\"ticks\":\"\"}},\"marker\":{\"colorbar\":{\"outlinewidth\":0,\"ticks\":\"\"}},\"type\":\"scatter3d\"}],\"scattercarpet\":[{\"marker\":{\"colorbar\":{\"outlinewidth\":0,\"ticks\":\"\"}},\"type\":\"scattercarpet\"}],\"scattergeo\":[{\"marker\":{\"colorbar\":{\"outlinewidth\":0,\"ticks\":\"\"}},\"type\":\"scattergeo\"}],\"scattergl\":[{\"marker\":{\"colorbar\":{\"outlinewidth\":0,\"ticks\":\"\"}},\"type\":\"scattergl\"}],\"scattermapbox\":[{\"marker\":{\"colorbar\":{\"outlinewidth\":0,\"ticks\":\"\"}},\"type\":\"scattermapbox\"}],\"scatterpolar\":[{\"marker\":{\"colorbar\":{\"outlinewidth\":0,\"ticks\":\"\"}},\"type\":\"scatterpolar\"}],\"scatterpolargl\":[{\"marker\":{\"colorbar\":{\"outlinewidth\":0,\"ticks\":\"\"}},\"type\":\"scatterpolargl\"}],\"scatterternary\":[{\"marker\":{\"colorbar\":{\"outlinewidth\":0,\"ticks\":\"\"}},\"type\":\"scatterternary\"}],\"surface\":[{\"colorbar\":{\"outlinewidth\":0,\"ticks\":\"\"},\"colorscale\":[[0.0,\"#0d0887\"],[0.1111111111111111,\"#46039f\"],[0.2222222222222222,\"#7201a8\"],[0.3333333333333333,\"#9c179e\"],[0.4444444444444444,\"#bd3786\"],[0.5555555555555556,\"#d8576b\"],[0.6666666666666666,\"#ed7953\"],[0.7777777777777778,\"#fb9f3a\"],[0.8888888888888888,\"#fdca26\"],[1.0,\"#f0f921\"]],\"type\":\"surface\"}],\"table\":[{\"cells\":{\"fill\":{\"color\":\"#EBF0F8\"},\"line\":{\"color\":\"white\"}},\"header\":{\"fill\":{\"color\":\"#C8D4E3\"},\"line\":{\"color\":\"white\"}},\"type\":\"table\"}]},\"layout\":{\"annotationdefaults\":{\"arrowcolor\":\"#2a3f5f\",\"arrowhead\":0,\"arrowwidth\":1},\"autotypenumbers\":\"strict\",\"coloraxis\":{\"colorbar\":{\"outlinewidth\":0,\"ticks\":\"\"}},\"colorscale\":{\"diverging\":[[0,\"#8e0152\"],[0.1,\"#c51b7d\"],[0.2,\"#de77ae\"],[0.3,\"#f1b6da\"],[0.4,\"#fde0ef\"],[0.5,\"#f7f7f7\"],[0.6,\"#e6f5d0\"],[0.7,\"#b8e186\"],[0.8,\"#7fbc41\"],[0.9,\"#4d9221\"],[1,\"#276419\"]],\"sequential\":[[0.0,\"#0d0887\"],[0.1111111111111111,\"#46039f\"],[0.2222222222222222,\"#7201a8\"],[0.3333333333333333,\"#9c179e\"],[0.4444444444444444,\"#bd3786\"],[0.5555555555555556,\"#d8576b\"],[0.6666666666666666,\"#ed7953\"],[0.7777777777777778,\"#fb9f3a\"],[0.8888888888888888,\"#fdca26\"],[1.0,\"#f0f921\"]],\"sequentialminus\":[[0.0,\"#0d0887\"],[0.1111111111111111,\"#46039f\"],[0.2222222222222222,\"#7201a8\"],[0.3333333333333333,\"#9c179e\"],[0.4444444444444444,\"#bd3786\"],[0.5555555555555556,\"#d8576b\"],[0.6666666666666666,\"#ed7953\"],[0.7777777777777778,\"#fb9f3a\"],[0.8888888888888888,\"#fdca26\"],[1.0,\"#f0f921\"]]},\"colorway\":[\"#636efa\",\"#EF553B\",\"#00cc96\",\"#ab63fa\",\"#FFA15A\",\"#19d3f3\",\"#FF6692\",\"#B6E880\",\"#FF97FF\",\"#FECB52\"],\"font\":{\"color\":\"#2a3f5f\"},\"geo\":{\"bgcolor\":\"white\",\"lakecolor\":\"white\",\"landcolor\":\"#E5ECF6\",\"showlakes\":true,\"showland\":true,\"subunitcolor\":\"white\"},\"hoverlabel\":{\"align\":\"left\"},\"hovermode\":\"closest\",\"mapbox\":{\"style\":\"light\"},\"paper_bgcolor\":\"white\",\"plot_bgcolor\":\"#E5ECF6\",\"polar\":{\"angularaxis\":{\"gridcolor\":\"white\",\"linecolor\":\"white\",\"ticks\":\"\"},\"bgcolor\":\"#E5ECF6\",\"radialaxis\":{\"gridcolor\":\"white\",\"linecolor\":\"white\",\"ticks\":\"\"}},\"scene\":{\"xaxis\":{\"backgroundcolor\":\"#E5ECF6\",\"gridcolor\":\"white\",\"gridwidth\":2,\"linecolor\":\"white\",\"showbackground\":true,\"ticks\":\"\",\"zerolinecolor\":\"white\"},\"yaxis\":{\"backgroundcolor\":\"#E5ECF6\",\"gridcolor\":\"white\",\"gridwidth\":2,\"linecolor\":\"white\",\"showbackground\":true,\"ticks\":\"\",\"zerolinecolor\":\"white\"},\"zaxis\":{\"backgroundcolor\":\"#E5ECF6\",\"gridcolor\":\"white\",\"gridwidth\":2,\"linecolor\":\"white\",\"showbackground\":true,\"ticks\":\"\",\"zerolinecolor\":\"white\"}},\"shapedefaults\":{\"line\":{\"color\":\"#2a3f5f\"}},\"ternary\":{\"aaxis\":{\"gridcolor\":\"white\",\"linecolor\":\"white\",\"ticks\":\"\"},\"baxis\":{\"gridcolor\":\"white\",\"linecolor\":\"white\",\"ticks\":\"\"},\"bgcolor\":\"#E5ECF6\",\"caxis\":{\"gridcolor\":\"white\",\"linecolor\":\"white\",\"ticks\":\"\"}},\"title\":{\"x\":0.05},\"xaxis\":{\"automargin\":true,\"gridcolor\":\"white\",\"linecolor\":\"white\",\"ticks\":\"\",\"title\":{\"standoff\":15},\"zerolinecolor\":\"white\",\"zerolinewidth\":2},\"yaxis\":{\"automargin\":true,\"gridcolor\":\"white\",\"linecolor\":\"white\",\"ticks\":\"\",\"title\":{\"standoff\":15},\"zerolinecolor\":\"white\",\"zerolinewidth\":2}}},\"mapbox\":{\"domain\":{\"x\":[0.0,1.0],\"y\":[0.0,1.0]},\"center\":{\"lat\":0,\"lon\":180},\"zoom\":0,\"style\":\"stamen-terrain\"},\"coloraxis\":{\"colorbar\":{\"title\":{\"text\":\"predicted_price_sqm_next_year\"}},\"colorscale\":[[0.0,\"#0d0887\"],[0.1111111111111111,\"#46039f\"],[0.2222222222222222,\"#7201a8\"],[0.3333333333333333,\"#9c179e\"],[0.4444444444444444,\"#bd3786\"],[0.5555555555555556,\"#d8576b\"],[0.6666666666666666,\"#ed7953\"],[0.7777777777777778,\"#fb9f3a\"],[0.8888888888888888,\"#fdca26\"],[1.0,\"#f0f921\"]]},\"legend\":{\"tracegroupgap\":0},\"title\":{\"text\":\"Predicted Prices Heatmap\"}},                        {\"responsive\": true}                    ).then(function(){\n",
       "                            \n",
       "var gd = document.getElementById('b99b5f11-5722-45d1-b61c-82bc54b9e7a3');\n",
       "var x = new MutationObserver(function (mutations, observer) {{\n",
       "        var display = window.getComputedStyle(gd).display;\n",
       "        if (!display || display === 'none') {{\n",
       "            console.log([gd, 'removed!']);\n",
       "            Plotly.purge(gd);\n",
       "            observer.disconnect();\n",
       "        }}\n",
       "}});\n",
       "\n",
       "// Listen for the removal of the full notebook cells\n",
       "var notebookContainer = gd.closest('#notebook-container');\n",
       "if (notebookContainer) {{\n",
       "    x.observe(notebookContainer, {childList: true});\n",
       "}}\n",
       "\n",
       "// Listen for the clearing of the current output cell\n",
       "var outputEl = gd.closest('.output');\n",
       "if (outputEl) {{\n",
       "    x.observe(outputEl, {childList: true});\n",
       "}}\n",
       "\n",
       "                        })                };                });            </script>        </div>"
      ]
     },
     "metadata": {},
     "output_type": "display_data"
    }
   ],
   "source": [
    "\n",
    "    \n",
    "predicted_df = pd.DataFrame({\n",
    "    'name': condominiums,\n",
    "    'latitude': df.groupby('name')['latitude'].mean().values,\n",
    "    'longitude': df.groupby('name')['longitude'].mean().values,\n",
    "    'predicted_price_sqm_next_year': predictions,\n",
    "    'prediction_range': prediction_ranges,\n",
    "    'district': df.groupby('name')['district'].first().values\n",
    "})\n",
    "\n",
    "# Create a heatmap\n",
    "fig = px.density_mapbox(predicted_df, lat='latitude', lon='longitude', z='predicted_price_sqm_next_year', \n",
    "                        radius=10, center=dict(lat=0, lon=180), zoom=0, \n",
    "                        mapbox_style=\"stamen-terrain\", title='Predicted Prices Heatmap', hover_data=['district','name'])\n",
    "fig.show()"
   ]
  },
  {
   "cell_type": "code",
   "execution_count": null,
   "id": "54cda956",
   "metadata": {},
   "outputs": [],
   "source": []
  }
 ],
 "metadata": {
  "kernelspec": {
   "display_name": "Python 3 (ipykernel)",
   "language": "python",
   "name": "python3"
  },
  "language_info": {
   "codemirror_mode": {
    "name": "ipython",
    "version": 3
   },
   "file_extension": ".py",
   "mimetype": "text/x-python",
   "name": "python",
   "nbconvert_exporter": "python",
   "pygments_lexer": "ipython3",
   "version": "3.9.12"
  }
 },
 "nbformat": 4,
 "nbformat_minor": 5
}
